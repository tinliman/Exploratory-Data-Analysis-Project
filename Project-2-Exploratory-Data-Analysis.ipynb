{
 "cells": [
  {
   "cell_type": "markdown",
   "metadata": {
    "id": "xavyM7LuBJ8h"
   },
   "source": [
    "# Credit Card Transactions Fraud Detection Exploratory Data Analysis Project \n",
    "\n"
   ]
  },
  {
   "cell_type": "markdown",
   "metadata": {
    "id": "WqTDgCmi23gS"
   },
   "source": [
    "**Overview**\n",
    "\n",
    "\n",
    "Exploratory data analysis (EDA) is used by data scientists to analyze and investigate data sets and summarize their main characteristics, often employing data visualization methods.\n",
    "\n",
    "About The DataSet (Kaggle)\n",
    "\n",
    "This is a simulated credit card transaction dataset containing legitimate and fraud transactions from the duration 1st Jan 2019 - 31st Dec 2020. It covers credit cards of 1000 customers doing transactions with a pool of 800 merchants.\n",
    "\n",
    "In today's world, a lot of processes are carried over the Internet to make our lives easier. But, on the other hand, many unauthorized and illegitimate activities that take place over it are causing major trouble for the growth of the economy. One of them being the fraud cases that misguide people and lead to financial losses. Major frauds reported recently occur through the malicious techniques that are made to work on Credit cards that are used for financial transactions over online platforms."
   ]
  },
  {
   "cell_type": "markdown",
   "metadata": {
    "id": "mcfj8tVFUHRq"
   },
   "source": [
    "![](https://i.imgur.com/nEnGgnB.png)"
   ]
  },
  {
   "cell_type": "markdown",
   "metadata": {
    "id": "hyRZhKEFGw7p"
   },
   "source": [
    "Here are the steps that i will follow to do Exploratory Data Analysis on Fraud Credit Card Detection Project:\n",
    "\n",
    "1. Load the file using Pandas\n",
    "2. Look at some info about the data & the columns\n",
    "3. Fix any missing or incorrect values\n",
    "4. Check and Explore about the Numerical Variables\n",
    "5. Explore about the categorical Variables\n",
    "6. Finding Relationship between features"
   ]
  },
  {
   "cell_type": "markdown",
   "metadata": {
    "id": "S_ZW7YFIBJ8l"
   },
   "source": [
    "## Download the data"
   ]
  },
  {
   "cell_type": "markdown",
   "metadata": {
    "id": "_x_sXNL0Oj5_"
   },
   "source": [
    "I used the dataset from Kaggle and download the dataset using opendatasets."
   ]
  },
  {
   "cell_type": "code",
   "execution_count": 1,
   "metadata": {
    "colab": {
     "base_uri": "https://localhost:8080/"
    },
    "executionInfo": {
     "elapsed": 17029,
     "status": "ok",
     "timestamp": 1679370576599,
     "user": {
      "displayName": "Tin Liman",
      "userId": "01796335397974011301"
     },
     "user_tz": 420
    },
    "id": "Ip_OyhRSBJ8m",
    "outputId": "e279b98b-b02a-4f01-94b0-83c1eb7f2ebc"
   },
   "outputs": [
    {
     "name": "stdout",
     "output_type": "stream",
     "text": [
      "\u001b[?25l     \u001b[90m━━━━━━━━━━━━━━━━━━━━━━━━━━━━━━━━━━━━━━━━\u001b[0m \u001b[32m0.0/68.6 KB\u001b[0m \u001b[31m?\u001b[0m eta \u001b[36m-:--:--\u001b[0m\r",
      "\u001b[2K     \u001b[90m━━━━━━━━━━━━━━━━━━━━━━━━━━━━━━━━━━━━━━━━\u001b[0m \u001b[32m68.6/68.6 KB\u001b[0m \u001b[31m2.1 MB/s\u001b[0m eta \u001b[36m0:00:00\u001b[0m\n",
      "\u001b[?25h  Preparing metadata (setup.py) ... \u001b[?25l\u001b[?25hdone\n",
      "  Building wheel for uuid (setup.py) ... \u001b[?25l\u001b[?25hdone\n"
     ]
    }
   ],
   "source": [
    "!pip install opendatasets jovian --upgrade --quiet"
   ]
  },
  {
   "cell_type": "code",
   "execution_count": 2,
   "metadata": {
    "colab": {
     "base_uri": "https://localhost:8080/"
    },
    "executionInfo": {
     "elapsed": 30564,
     "status": "ok",
     "timestamp": 1679370608927,
     "user": {
      "displayName": "Tin Liman",
      "userId": "01796335397974011301"
     },
     "user_tz": 420
    },
    "id": "tTVXo0gqBJ8m",
    "outputId": "615fafa2-da23-4a2e-b8f9-3c35823cb4ec"
   },
   "outputs": [
    {
     "name": "stdout",
     "output_type": "stream",
     "text": [
      "Please provide your Kaggle credentials to download this dataset. Learn more: http://bit.ly/kaggle-creds\n",
      "Your Kaggle username: tinnandarliman\n",
      "Your Kaggle Key: ··········\n",
      "Downloading fraud-detection.zip to ./fraud-detection\n"
     ]
    },
    {
     "name": "stderr",
     "output_type": "stream",
     "text": [
      "100%|██████████| 202M/202M [00:02<00:00, 91.5MB/s]\n"
     ]
    },
    {
     "name": "stdout",
     "output_type": "stream",
     "text": [
      "\n"
     ]
    }
   ],
   "source": [
    "import opendatasets as od\n",
    "import jovian\n",
    "\n",
    "dataset_url= 'https://www.kaggle.com/datasets/kartik2112/fraud-detection'\n",
    "\n",
    "od.download(dataset_url)"
   ]
  },
  {
   "cell_type": "markdown",
   "metadata": {
    "id": "FNe7o0UXXyQS"
   },
   "source": [
    "## Data Preparation and Cleaning"
   ]
  },
  {
   "cell_type": "code",
   "execution_count": 3,
   "metadata": {
    "executionInfo": {
     "elapsed": 3402,
     "status": "ok",
     "timestamp": 1679370623663,
     "user": {
      "displayName": "Tin Liman",
      "userId": "01796335397974011301"
     },
     "user_tz": 420
    },
    "id": "CFkYRbJWBucc"
   },
   "outputs": [],
   "source": [
    "import pandas as pd\n",
    "import numpy as np\n",
    "import matplotlib\n",
    "import matplotlib.pyplot as plt\n",
    "import seaborn as sns\n",
    "import plotly.express as px\n",
    "import folium\n",
    "from wordcloud import WordCloud\n",
    "%matplotlib inline"
   ]
  },
  {
   "cell_type": "code",
   "execution_count": 4,
   "metadata": {
    "executionInfo": {
     "elapsed": 201,
     "status": "ok",
     "timestamp": 1679370627667,
     "user": {
      "displayName": "Tin Liman",
      "userId": "01796335397974011301"
     },
     "user_tz": 420
    },
    "id": "PBOsz-gTUVSM"
   },
   "outputs": [],
   "source": [
    "sns.set_style('darkgrid')\n",
    "matplotlib.rcParams['font.size']=12\n",
    "matplotlib.rcParams['figure.figsize']= (12,6)\n",
    "matplotlib.rcParams['figure.facecolor']= '#00000000'"
   ]
  },
  {
   "cell_type": "code",
   "execution_count": 5,
   "metadata": {
    "executionInfo": {
     "elapsed": 9249,
     "status": "ok",
     "timestamp": 1679370638755,
     "user": {
      "displayName": "Tin Liman",
      "userId": "01796335397974011301"
     },
     "user_tz": 420
    },
    "id": "JP5tRvDqZylz"
   },
   "outputs": [],
   "source": [
    "fraud_train_df= pd.read_csv('/content/fraud-detection/fraudTrain.csv')"
   ]
  },
  {
   "cell_type": "code",
   "execution_count": null,
   "metadata": {
    "colab": {
     "base_uri": "https://localhost:8080/",
     "height": 595
    },
    "executionInfo": {
     "elapsed": 253,
     "status": "ok",
     "timestamp": 1679357633076,
     "user": {
      "displayName": "Tin Liman",
      "userId": "01796335397974011301"
     },
     "user_tz": 420
    },
    "id": "BLbdH4r3b9ix",
    "outputId": "f841c3ba-5398-4819-c5e8-87a72ef09ab6"
   },
   "outputs": [
    {
     "data": {
      "text/html": [
       "\n",
       "  <div id=\"df-19aa5bbe-4a4c-44c3-af12-99628984d64d\">\n",
       "    <div class=\"colab-df-container\">\n",
       "      <div>\n",
       "<style scoped>\n",
       "    .dataframe tbody tr th:only-of-type {\n",
       "        vertical-align: middle;\n",
       "    }\n",
       "\n",
       "    .dataframe tbody tr th {\n",
       "        vertical-align: top;\n",
       "    }\n",
       "\n",
       "    .dataframe thead th {\n",
       "        text-align: right;\n",
       "    }\n",
       "</style>\n",
       "<table border=\"1\" class=\"dataframe\">\n",
       "  <thead>\n",
       "    <tr style=\"text-align: right;\">\n",
       "      <th></th>\n",
       "      <th>Unnamed: 0</th>\n",
       "      <th>trans_date_trans_time</th>\n",
       "      <th>cc_num</th>\n",
       "      <th>merchant</th>\n",
       "      <th>category</th>\n",
       "      <th>amt</th>\n",
       "      <th>first</th>\n",
       "      <th>last</th>\n",
       "      <th>gender</th>\n",
       "      <th>street</th>\n",
       "      <th>...</th>\n",
       "      <th>lat</th>\n",
       "      <th>long</th>\n",
       "      <th>city_pop</th>\n",
       "      <th>job</th>\n",
       "      <th>dob</th>\n",
       "      <th>trans_num</th>\n",
       "      <th>unix_time</th>\n",
       "      <th>merch_lat</th>\n",
       "      <th>merch_long</th>\n",
       "      <th>is_fraud</th>\n",
       "    </tr>\n",
       "  </thead>\n",
       "  <tbody>\n",
       "    <tr>\n",
       "      <th>0</th>\n",
       "      <td>0</td>\n",
       "      <td>2019-01-01 00:00:18</td>\n",
       "      <td>2703186189652095</td>\n",
       "      <td>fraud_Rippin, Kub and Mann</td>\n",
       "      <td>misc_net</td>\n",
       "      <td>4.97</td>\n",
       "      <td>Jennifer</td>\n",
       "      <td>Banks</td>\n",
       "      <td>F</td>\n",
       "      <td>561 Perry Cove</td>\n",
       "      <td>...</td>\n",
       "      <td>36.0788</td>\n",
       "      <td>-81.1781</td>\n",
       "      <td>3495</td>\n",
       "      <td>Psychologist, counselling</td>\n",
       "      <td>1988-03-09</td>\n",
       "      <td>0b242abb623afc578575680df30655b9</td>\n",
       "      <td>1325376018</td>\n",
       "      <td>36.011293</td>\n",
       "      <td>-82.048315</td>\n",
       "      <td>0</td>\n",
       "    </tr>\n",
       "    <tr>\n",
       "      <th>1</th>\n",
       "      <td>1</td>\n",
       "      <td>2019-01-01 00:00:44</td>\n",
       "      <td>630423337322</td>\n",
       "      <td>fraud_Heller, Gutmann and Zieme</td>\n",
       "      <td>grocery_pos</td>\n",
       "      <td>107.23</td>\n",
       "      <td>Stephanie</td>\n",
       "      <td>Gill</td>\n",
       "      <td>F</td>\n",
       "      <td>43039 Riley Greens Suite 393</td>\n",
       "      <td>...</td>\n",
       "      <td>48.8878</td>\n",
       "      <td>-118.2105</td>\n",
       "      <td>149</td>\n",
       "      <td>Special educational needs teacher</td>\n",
       "      <td>1978-06-21</td>\n",
       "      <td>1f76529f8574734946361c461b024d99</td>\n",
       "      <td>1325376044</td>\n",
       "      <td>49.159047</td>\n",
       "      <td>-118.186462</td>\n",
       "      <td>0</td>\n",
       "    </tr>\n",
       "    <tr>\n",
       "      <th>2</th>\n",
       "      <td>2</td>\n",
       "      <td>2019-01-01 00:00:51</td>\n",
       "      <td>38859492057661</td>\n",
       "      <td>fraud_Lind-Buckridge</td>\n",
       "      <td>entertainment</td>\n",
       "      <td>220.11</td>\n",
       "      <td>Edward</td>\n",
       "      <td>Sanchez</td>\n",
       "      <td>M</td>\n",
       "      <td>594 White Dale Suite 530</td>\n",
       "      <td>...</td>\n",
       "      <td>42.1808</td>\n",
       "      <td>-112.2620</td>\n",
       "      <td>4154</td>\n",
       "      <td>Nature conservation officer</td>\n",
       "      <td>1962-01-19</td>\n",
       "      <td>a1a22d70485983eac12b5b88dad1cf95</td>\n",
       "      <td>1325376051</td>\n",
       "      <td>43.150704</td>\n",
       "      <td>-112.154481</td>\n",
       "      <td>0</td>\n",
       "    </tr>\n",
       "    <tr>\n",
       "      <th>3</th>\n",
       "      <td>3</td>\n",
       "      <td>2019-01-01 00:01:16</td>\n",
       "      <td>3534093764340240</td>\n",
       "      <td>fraud_Kutch, Hermiston and Farrell</td>\n",
       "      <td>gas_transport</td>\n",
       "      <td>45.00</td>\n",
       "      <td>Jeremy</td>\n",
       "      <td>White</td>\n",
       "      <td>M</td>\n",
       "      <td>9443 Cynthia Court Apt. 038</td>\n",
       "      <td>...</td>\n",
       "      <td>46.2306</td>\n",
       "      <td>-112.1138</td>\n",
       "      <td>1939</td>\n",
       "      <td>Patent attorney</td>\n",
       "      <td>1967-01-12</td>\n",
       "      <td>6b849c168bdad6f867558c3793159a81</td>\n",
       "      <td>1325376076</td>\n",
       "      <td>47.034331</td>\n",
       "      <td>-112.561071</td>\n",
       "      <td>0</td>\n",
       "    </tr>\n",
       "    <tr>\n",
       "      <th>4</th>\n",
       "      <td>4</td>\n",
       "      <td>2019-01-01 00:03:06</td>\n",
       "      <td>375534208663984</td>\n",
       "      <td>fraud_Keeling-Crist</td>\n",
       "      <td>misc_pos</td>\n",
       "      <td>41.96</td>\n",
       "      <td>Tyler</td>\n",
       "      <td>Garcia</td>\n",
       "      <td>M</td>\n",
       "      <td>408 Bradley Rest</td>\n",
       "      <td>...</td>\n",
       "      <td>38.4207</td>\n",
       "      <td>-79.4629</td>\n",
       "      <td>99</td>\n",
       "      <td>Dance movement psychotherapist</td>\n",
       "      <td>1986-03-28</td>\n",
       "      <td>a41d7549acf90789359a9aa5346dcb46</td>\n",
       "      <td>1325376186</td>\n",
       "      <td>38.674999</td>\n",
       "      <td>-78.632459</td>\n",
       "      <td>0</td>\n",
       "    </tr>\n",
       "  </tbody>\n",
       "</table>\n",
       "<p>5 rows × 23 columns</p>\n",
       "</div>\n",
       "      <button class=\"colab-df-convert\" onclick=\"convertToInteractive('df-19aa5bbe-4a4c-44c3-af12-99628984d64d')\"\n",
       "              title=\"Convert this dataframe to an interactive table.\"\n",
       "              style=\"display:none;\">\n",
       "        \n",
       "  <svg xmlns=\"http://www.w3.org/2000/svg\" height=\"24px\"viewBox=\"0 0 24 24\"\n",
       "       width=\"24px\">\n",
       "    <path d=\"M0 0h24v24H0V0z\" fill=\"none\"/>\n",
       "    <path d=\"M18.56 5.44l.94 2.06.94-2.06 2.06-.94-2.06-.94-.94-2.06-.94 2.06-2.06.94zm-11 1L8.5 8.5l.94-2.06 2.06-.94-2.06-.94L8.5 2.5l-.94 2.06-2.06.94zm10 10l.94 2.06.94-2.06 2.06-.94-2.06-.94-.94-2.06-.94 2.06-2.06.94z\"/><path d=\"M17.41 7.96l-1.37-1.37c-.4-.4-.92-.59-1.43-.59-.52 0-1.04.2-1.43.59L10.3 9.45l-7.72 7.72c-.78.78-.78 2.05 0 2.83L4 21.41c.39.39.9.59 1.41.59.51 0 1.02-.2 1.41-.59l7.78-7.78 2.81-2.81c.8-.78.8-2.07 0-2.86zM5.41 20L4 18.59l7.72-7.72 1.47 1.35L5.41 20z\"/>\n",
       "  </svg>\n",
       "      </button>\n",
       "      \n",
       "  <style>\n",
       "    .colab-df-container {\n",
       "      display:flex;\n",
       "      flex-wrap:wrap;\n",
       "      gap: 12px;\n",
       "    }\n",
       "\n",
       "    .colab-df-convert {\n",
       "      background-color: #E8F0FE;\n",
       "      border: none;\n",
       "      border-radius: 50%;\n",
       "      cursor: pointer;\n",
       "      display: none;\n",
       "      fill: #1967D2;\n",
       "      height: 32px;\n",
       "      padding: 0 0 0 0;\n",
       "      width: 32px;\n",
       "    }\n",
       "\n",
       "    .colab-df-convert:hover {\n",
       "      background-color: #E2EBFA;\n",
       "      box-shadow: 0px 1px 2px rgba(60, 64, 67, 0.3), 0px 1px 3px 1px rgba(60, 64, 67, 0.15);\n",
       "      fill: #174EA6;\n",
       "    }\n",
       "\n",
       "    [theme=dark] .colab-df-convert {\n",
       "      background-color: #3B4455;\n",
       "      fill: #D2E3FC;\n",
       "    }\n",
       "\n",
       "    [theme=dark] .colab-df-convert:hover {\n",
       "      background-color: #434B5C;\n",
       "      box-shadow: 0px 1px 3px 1px rgba(0, 0, 0, 0.15);\n",
       "      filter: drop-shadow(0px 1px 2px rgba(0, 0, 0, 0.3));\n",
       "      fill: #FFFFFF;\n",
       "    }\n",
       "  </style>\n",
       "\n",
       "      <script>\n",
       "        const buttonEl =\n",
       "          document.querySelector('#df-19aa5bbe-4a4c-44c3-af12-99628984d64d button.colab-df-convert');\n",
       "        buttonEl.style.display =\n",
       "          google.colab.kernel.accessAllowed ? 'block' : 'none';\n",
       "\n",
       "        async function convertToInteractive(key) {\n",
       "          const element = document.querySelector('#df-19aa5bbe-4a4c-44c3-af12-99628984d64d');\n",
       "          const dataTable =\n",
       "            await google.colab.kernel.invokeFunction('convertToInteractive',\n",
       "                                                     [key], {});\n",
       "          if (!dataTable) return;\n",
       "\n",
       "          const docLinkHtml = 'Like what you see? Visit the ' +\n",
       "            '<a target=\"_blank\" href=https://colab.research.google.com/notebooks/data_table.ipynb>data table notebook</a>'\n",
       "            + ' to learn more about interactive tables.';\n",
       "          element.innerHTML = '';\n",
       "          dataTable['output_type'] = 'display_data';\n",
       "          await google.colab.output.renderOutput(dataTable, element);\n",
       "          const docLink = document.createElement('div');\n",
       "          docLink.innerHTML = docLinkHtml;\n",
       "          element.appendChild(docLink);\n",
       "        }\n",
       "      </script>\n",
       "    </div>\n",
       "  </div>\n",
       "  "
      ],
      "text/plain": [
       "   Unnamed: 0 trans_date_trans_time            cc_num  \\\n",
       "0           0   2019-01-01 00:00:18  2703186189652095   \n",
       "1           1   2019-01-01 00:00:44      630423337322   \n",
       "2           2   2019-01-01 00:00:51    38859492057661   \n",
       "3           3   2019-01-01 00:01:16  3534093764340240   \n",
       "4           4   2019-01-01 00:03:06   375534208663984   \n",
       "\n",
       "                             merchant       category     amt      first  \\\n",
       "0          fraud_Rippin, Kub and Mann       misc_net    4.97   Jennifer   \n",
       "1     fraud_Heller, Gutmann and Zieme    grocery_pos  107.23  Stephanie   \n",
       "2                fraud_Lind-Buckridge  entertainment  220.11     Edward   \n",
       "3  fraud_Kutch, Hermiston and Farrell  gas_transport   45.00     Jeremy   \n",
       "4                 fraud_Keeling-Crist       misc_pos   41.96      Tyler   \n",
       "\n",
       "      last gender                        street  ...      lat      long  \\\n",
       "0    Banks      F                561 Perry Cove  ...  36.0788  -81.1781   \n",
       "1     Gill      F  43039 Riley Greens Suite 393  ...  48.8878 -118.2105   \n",
       "2  Sanchez      M      594 White Dale Suite 530  ...  42.1808 -112.2620   \n",
       "3    White      M   9443 Cynthia Court Apt. 038  ...  46.2306 -112.1138   \n",
       "4   Garcia      M              408 Bradley Rest  ...  38.4207  -79.4629   \n",
       "\n",
       "   city_pop                                job         dob  \\\n",
       "0      3495          Psychologist, counselling  1988-03-09   \n",
       "1       149  Special educational needs teacher  1978-06-21   \n",
       "2      4154        Nature conservation officer  1962-01-19   \n",
       "3      1939                    Patent attorney  1967-01-12   \n",
       "4        99     Dance movement psychotherapist  1986-03-28   \n",
       "\n",
       "                          trans_num   unix_time  merch_lat  merch_long  \\\n",
       "0  0b242abb623afc578575680df30655b9  1325376018  36.011293  -82.048315   \n",
       "1  1f76529f8574734946361c461b024d99  1325376044  49.159047 -118.186462   \n",
       "2  a1a22d70485983eac12b5b88dad1cf95  1325376051  43.150704 -112.154481   \n",
       "3  6b849c168bdad6f867558c3793159a81  1325376076  47.034331 -112.561071   \n",
       "4  a41d7549acf90789359a9aa5346dcb46  1325376186  38.674999  -78.632459   \n",
       "\n",
       "   is_fraud  \n",
       "0         0  \n",
       "1         0  \n",
       "2         0  \n",
       "3         0  \n",
       "4         0  \n",
       "\n",
       "[5 rows x 23 columns]"
      ]
     },
     "execution_count": 6,
     "metadata": {},
     "output_type": "execute_result"
    }
   ],
   "source": [
    "fraud_train_df.head(5)"
   ]
  },
  {
   "cell_type": "markdown",
   "metadata": {
    "id": "ccYfCkv6UHRx"
   },
   "source": [
    "Gain Insights Into Underlying Trends and Patterns EDA assists data analysts in identifying crucial trends quickly through data visualizations using various graphs, such as box plots and histograms. Businesses also expect to make some unexpected discoveries in the data while performing EDA, which can help improve certain existing business strategies."
   ]
  },
  {
   "cell_type": "code",
   "execution_count": null,
   "metadata": {
    "colab": {
     "base_uri": "https://localhost:8080/"
    },
    "executionInfo": {
     "elapsed": 246,
     "status": "ok",
     "timestamp": 1678085481133,
     "user": {
      "displayName": "Tin Liman",
      "userId": "01796335397974011301"
     },
     "user_tz": 480
    },
    "id": "JC8_FNCrb9n9",
    "outputId": "03cc9a5a-00ff-44fa-9b74-8509866bf7a3",
    "scrolled": true
   },
   "outputs": [
    {
     "data": {
      "text/plain": [
       "Index(['Unnamed: 0', 'trans_date_trans_time', 'cc_num', 'merchant', 'category',\n",
       "       'amt', 'first', 'last', 'gender', 'street', 'city', 'state', 'zip',\n",
       "       'lat', 'long', 'city_pop', 'job', 'dob', 'trans_num', 'unix_time',\n",
       "       'merch_lat', 'merch_long', 'is_fraud'],\n",
       "      dtype='object')"
      ]
     },
     "execution_count": 7,
     "metadata": {},
     "output_type": "execute_result"
    }
   ],
   "source": [
    "fraud_train_df.columns"
   ]
  },
  {
   "cell_type": "code",
   "execution_count": null,
   "metadata": {
    "colab": {
     "base_uri": "https://localhost:8080/"
    },
    "executionInfo": {
     "elapsed": 3,
     "status": "ok",
     "timestamp": 1678085482631,
     "user": {
      "displayName": "Tin Liman",
      "userId": "01796335397974011301"
     },
     "user_tz": 480
    },
    "id": "JakxG0Kcb9rI",
    "outputId": "59925315-0b5d-4b14-aa17-b4e7ee6c0f80"
   },
   "outputs": [
    {
     "data": {
      "text/plain": [
       "(1296675, 23)"
      ]
     },
     "execution_count": 8,
     "metadata": {},
     "output_type": "execute_result"
    }
   ],
   "source": [
    "fraud_train_df.shape"
   ]
  },
  {
   "cell_type": "code",
   "execution_count": null,
   "metadata": {
    "colab": {
     "base_uri": "https://localhost:8080/"
    },
    "executionInfo": {
     "elapsed": 246,
     "status": "ok",
     "timestamp": 1678085484155,
     "user": {
      "displayName": "Tin Liman",
      "userId": "01796335397974011301"
     },
     "user_tz": 480
    },
    "id": "XBrwmo9DPCPx",
    "outputId": "a4083136-67d7-4557-ae43-f601b0368922",
    "scrolled": true
   },
   "outputs": [
    {
     "data": {
      "text/plain": [
       "29823525"
      ]
     },
     "execution_count": 9,
     "metadata": {},
     "output_type": "execute_result"
    }
   ],
   "source": [
    "fraud_train_df.size"
   ]
  },
  {
   "cell_type": "markdown",
   "metadata": {
    "id": "ZYQrrRA6UHRz"
   },
   "source": [
    "Make Data-driven Decisions The most significant advantage of employing EDA in an organization is that it helps businesses to improve their understanding of data. With EDA, they can use the available tools to extract critical insights and make conclusions, which assist in making decisions based on the insights from the EDA."
   ]
  },
  {
   "cell_type": "code",
   "execution_count": null,
   "metadata": {
    "colab": {
     "base_uri": "https://localhost:8080/"
    },
    "executionInfo": {
     "elapsed": 559,
     "status": "ok",
     "timestamp": 1678085487047,
     "user": {
      "displayName": "Tin Liman",
      "userId": "01796335397974011301"
     },
     "user_tz": 480
    },
    "id": "braxP6m_b9t-",
    "outputId": "70e4d625-3aed-4e71-a78f-dbc0f26d5d93"
   },
   "outputs": [
    {
     "data": {
      "text/plain": [
       "<bound method DataFrame.info of          Unnamed: 0 trans_date_trans_time               cc_num  \\\n",
       "0                 0   2019-01-01 00:00:18     2703186189652095   \n",
       "1                 1   2019-01-01 00:00:44         630423337322   \n",
       "2                 2   2019-01-01 00:00:51       38859492057661   \n",
       "3                 3   2019-01-01 00:01:16     3534093764340240   \n",
       "4                 4   2019-01-01 00:03:06      375534208663984   \n",
       "...             ...                   ...                  ...   \n",
       "1296670     1296670   2020-06-21 12:12:08       30263540414123   \n",
       "1296671     1296671   2020-06-21 12:12:19     6011149206456997   \n",
       "1296672     1296672   2020-06-21 12:12:32     3514865930894695   \n",
       "1296673     1296673   2020-06-21 12:13:36     2720012583106919   \n",
       "1296674     1296674   2020-06-21 12:13:37  4292902571056973207   \n",
       "\n",
       "                                    merchant       category     amt  \\\n",
       "0                 fraud_Rippin, Kub and Mann       misc_net    4.97   \n",
       "1            fraud_Heller, Gutmann and Zieme    grocery_pos  107.23   \n",
       "2                       fraud_Lind-Buckridge  entertainment  220.11   \n",
       "3         fraud_Kutch, Hermiston and Farrell  gas_transport   45.00   \n",
       "4                        fraud_Keeling-Crist       misc_pos   41.96   \n",
       "...                                      ...            ...     ...   \n",
       "1296670                    fraud_Reichel Inc  entertainment   15.56   \n",
       "1296671             fraud_Abernathy and Sons    food_dining   51.70   \n",
       "1296672                 fraud_Stiedemann Ltd    food_dining  105.93   \n",
       "1296673  fraud_Reinger, Weissnat and Strosin    food_dining   74.90   \n",
       "1296674  fraud_Langosh, Wintheiser and Hyatt    food_dining    4.30   \n",
       "\n",
       "               first       last gender                         street  ...  \\\n",
       "0           Jennifer      Banks      F                 561 Perry Cove  ...   \n",
       "1          Stephanie       Gill      F   43039 Riley Greens Suite 393  ...   \n",
       "2             Edward    Sanchez      M       594 White Dale Suite 530  ...   \n",
       "3             Jeremy      White      M    9443 Cynthia Court Apt. 038  ...   \n",
       "4              Tyler     Garcia      M               408 Bradley Rest  ...   \n",
       "...              ...        ...    ...                            ...  ...   \n",
       "1296670         Erik  Patterson      M       162 Jessica Row Apt. 072  ...   \n",
       "1296671      Jeffrey      White      M  8617 Holmes Terrace Suite 651  ...   \n",
       "1296672  Christopher  Castaneda      M     1632 Cohen Drive Suite 639  ...   \n",
       "1296673       Joseph     Murray      M           42933 Ryan Underpass  ...   \n",
       "1296674      Jeffrey      Smith      M           135 Joseph Mountains  ...   \n",
       "\n",
       "             lat      long  city_pop                                job  \\\n",
       "0        36.0788  -81.1781      3495          Psychologist, counselling   \n",
       "1        48.8878 -118.2105       149  Special educational needs teacher   \n",
       "2        42.1808 -112.2620      4154        Nature conservation officer   \n",
       "3        46.2306 -112.1138      1939                    Patent attorney   \n",
       "4        38.4207  -79.4629        99     Dance movement psychotherapist   \n",
       "...          ...       ...       ...                                ...   \n",
       "1296670  37.7175 -112.4777       258                       Geoscientist   \n",
       "1296671  39.2667  -77.5101       100   Production assistant, television   \n",
       "1296672  32.9396 -105.8189       899                    Naval architect   \n",
       "1296673  43.3526 -102.5411      1126              Volunteer coordinator   \n",
       "1296674  45.8433 -113.8748       218           Therapist, horticultural   \n",
       "\n",
       "                dob                         trans_num   unix_time  merch_lat  \\\n",
       "0        1988-03-09  0b242abb623afc578575680df30655b9  1325376018  36.011293   \n",
       "1        1978-06-21  1f76529f8574734946361c461b024d99  1325376044  49.159047   \n",
       "2        1962-01-19  a1a22d70485983eac12b5b88dad1cf95  1325376051  43.150704   \n",
       "3        1967-01-12  6b849c168bdad6f867558c3793159a81  1325376076  47.034331   \n",
       "4        1986-03-28  a41d7549acf90789359a9aa5346dcb46  1325376186  38.674999   \n",
       "...             ...                               ...         ...        ...   \n",
       "1296670  1961-11-24  440b587732da4dc1a6395aba5fb41669  1371816728  36.841266   \n",
       "1296671  1979-12-11  278000d2e0d2277d1de2f890067dcc0a  1371816739  38.906881   \n",
       "1296672  1967-08-30  483f52fe67fabef353d552c1e662974c  1371816752  33.619513   \n",
       "1296673  1980-08-18  d667cdcbadaaed3da3f4020e83591c83  1371816816  42.788940   \n",
       "1296674  1995-08-16  8f7c8e4ab7f25875d753b422917c98c9  1371816817  46.565983   \n",
       "\n",
       "         merch_long  is_fraud  \n",
       "0        -82.048315         0  \n",
       "1       -118.186462         0  \n",
       "2       -112.154481         0  \n",
       "3       -112.561071         0  \n",
       "4        -78.632459         0  \n",
       "...             ...       ...  \n",
       "1296670 -111.690765         0  \n",
       "1296671  -78.246528         0  \n",
       "1296672 -105.130529         0  \n",
       "1296673 -103.241160         0  \n",
       "1296674 -114.186110         0  \n",
       "\n",
       "[1296675 rows x 23 columns]>"
      ]
     },
     "execution_count": 10,
     "metadata": {},
     "output_type": "execute_result"
    }
   ],
   "source": [
    "fraud_train_df.info"
   ]
  },
  {
   "cell_type": "code",
   "execution_count": null,
   "metadata": {
    "colab": {
     "base_uri": "https://localhost:8080/",
     "height": 300
    },
    "executionInfo": {
     "elapsed": 838,
     "status": "ok",
     "timestamp": 1678263708363,
     "user": {
      "displayName": "Tin Liman",
      "userId": "01796335397974011301"
     },
     "user_tz": 480
    },
    "id": "1q122mKKgmKI",
    "outputId": "1d184862-1aa8-4d44-e721-8dedf0c7727b"
   },
   "outputs": [
    {
     "data": {
      "text/html": [
       "\n",
       "  <div id=\"df-9831534f-7739-45c2-a559-276953d93015\">\n",
       "    <div class=\"colab-df-container\">\n",
       "      <div>\n",
       "<style scoped>\n",
       "    .dataframe tbody tr th:only-of-type {\n",
       "        vertical-align: middle;\n",
       "    }\n",
       "\n",
       "    .dataframe tbody tr th {\n",
       "        vertical-align: top;\n",
       "    }\n",
       "\n",
       "    .dataframe thead th {\n",
       "        text-align: right;\n",
       "    }\n",
       "</style>\n",
       "<table border=\"1\" class=\"dataframe\">\n",
       "  <thead>\n",
       "    <tr style=\"text-align: right;\">\n",
       "      <th></th>\n",
       "      <th>Unnamed: 0</th>\n",
       "      <th>cc_num</th>\n",
       "      <th>amt</th>\n",
       "      <th>zip</th>\n",
       "      <th>lat</th>\n",
       "      <th>long</th>\n",
       "      <th>city_pop</th>\n",
       "      <th>unix_time</th>\n",
       "      <th>merch_lat</th>\n",
       "      <th>merch_long</th>\n",
       "      <th>is_fraud</th>\n",
       "    </tr>\n",
       "  </thead>\n",
       "  <tbody>\n",
       "    <tr>\n",
       "      <th>count</th>\n",
       "      <td>1.296675e+06</td>\n",
       "      <td>1.296675e+06</td>\n",
       "      <td>1.296675e+06</td>\n",
       "      <td>1.296675e+06</td>\n",
       "      <td>1.296675e+06</td>\n",
       "      <td>1.296675e+06</td>\n",
       "      <td>1.296675e+06</td>\n",
       "      <td>1.296675e+06</td>\n",
       "      <td>1.296675e+06</td>\n",
       "      <td>1.296675e+06</td>\n",
       "      <td>1.296675e+06</td>\n",
       "    </tr>\n",
       "    <tr>\n",
       "      <th>mean</th>\n",
       "      <td>6.483370e+05</td>\n",
       "      <td>4.171920e+17</td>\n",
       "      <td>7.035104e+01</td>\n",
       "      <td>4.880067e+04</td>\n",
       "      <td>3.853762e+01</td>\n",
       "      <td>-9.022634e+01</td>\n",
       "      <td>8.882444e+04</td>\n",
       "      <td>1.349244e+09</td>\n",
       "      <td>3.853734e+01</td>\n",
       "      <td>-9.022646e+01</td>\n",
       "      <td>5.788652e-03</td>\n",
       "    </tr>\n",
       "    <tr>\n",
       "      <th>std</th>\n",
       "      <td>3.743180e+05</td>\n",
       "      <td>1.308806e+18</td>\n",
       "      <td>1.603160e+02</td>\n",
       "      <td>2.689322e+04</td>\n",
       "      <td>5.075808e+00</td>\n",
       "      <td>1.375908e+01</td>\n",
       "      <td>3.019564e+05</td>\n",
       "      <td>1.284128e+07</td>\n",
       "      <td>5.109788e+00</td>\n",
       "      <td>1.377109e+01</td>\n",
       "      <td>7.586269e-02</td>\n",
       "    </tr>\n",
       "    <tr>\n",
       "      <th>min</th>\n",
       "      <td>0.000000e+00</td>\n",
       "      <td>6.041621e+10</td>\n",
       "      <td>1.000000e+00</td>\n",
       "      <td>1.257000e+03</td>\n",
       "      <td>2.002710e+01</td>\n",
       "      <td>-1.656723e+02</td>\n",
       "      <td>2.300000e+01</td>\n",
       "      <td>1.325376e+09</td>\n",
       "      <td>1.902779e+01</td>\n",
       "      <td>-1.666712e+02</td>\n",
       "      <td>0.000000e+00</td>\n",
       "    </tr>\n",
       "    <tr>\n",
       "      <th>25%</th>\n",
       "      <td>3.241685e+05</td>\n",
       "      <td>1.800429e+14</td>\n",
       "      <td>9.650000e+00</td>\n",
       "      <td>2.623700e+04</td>\n",
       "      <td>3.462050e+01</td>\n",
       "      <td>-9.679800e+01</td>\n",
       "      <td>7.430000e+02</td>\n",
       "      <td>1.338751e+09</td>\n",
       "      <td>3.473357e+01</td>\n",
       "      <td>-9.689728e+01</td>\n",
       "      <td>0.000000e+00</td>\n",
       "    </tr>\n",
       "    <tr>\n",
       "      <th>50%</th>\n",
       "      <td>6.483370e+05</td>\n",
       "      <td>3.521417e+15</td>\n",
       "      <td>4.752000e+01</td>\n",
       "      <td>4.817400e+04</td>\n",
       "      <td>3.935430e+01</td>\n",
       "      <td>-8.747690e+01</td>\n",
       "      <td>2.456000e+03</td>\n",
       "      <td>1.349250e+09</td>\n",
       "      <td>3.936568e+01</td>\n",
       "      <td>-8.743839e+01</td>\n",
       "      <td>0.000000e+00</td>\n",
       "    </tr>\n",
       "    <tr>\n",
       "      <th>75%</th>\n",
       "      <td>9.725055e+05</td>\n",
       "      <td>4.642255e+15</td>\n",
       "      <td>8.314000e+01</td>\n",
       "      <td>7.204200e+04</td>\n",
       "      <td>4.194040e+01</td>\n",
       "      <td>-8.015800e+01</td>\n",
       "      <td>2.032800e+04</td>\n",
       "      <td>1.359385e+09</td>\n",
       "      <td>4.195716e+01</td>\n",
       "      <td>-8.023680e+01</td>\n",
       "      <td>0.000000e+00</td>\n",
       "    </tr>\n",
       "    <tr>\n",
       "      <th>max</th>\n",
       "      <td>1.296674e+06</td>\n",
       "      <td>4.992346e+18</td>\n",
       "      <td>2.894890e+04</td>\n",
       "      <td>9.978300e+04</td>\n",
       "      <td>6.669330e+01</td>\n",
       "      <td>-6.795030e+01</td>\n",
       "      <td>2.906700e+06</td>\n",
       "      <td>1.371817e+09</td>\n",
       "      <td>6.751027e+01</td>\n",
       "      <td>-6.695090e+01</td>\n",
       "      <td>1.000000e+00</td>\n",
       "    </tr>\n",
       "  </tbody>\n",
       "</table>\n",
       "</div>\n",
       "      <button class=\"colab-df-convert\" onclick=\"convertToInteractive('df-9831534f-7739-45c2-a559-276953d93015')\"\n",
       "              title=\"Convert this dataframe to an interactive table.\"\n",
       "              style=\"display:none;\">\n",
       "        \n",
       "  <svg xmlns=\"http://www.w3.org/2000/svg\" height=\"24px\"viewBox=\"0 0 24 24\"\n",
       "       width=\"24px\">\n",
       "    <path d=\"M0 0h24v24H0V0z\" fill=\"none\"/>\n",
       "    <path d=\"M18.56 5.44l.94 2.06.94-2.06 2.06-.94-2.06-.94-.94-2.06-.94 2.06-2.06.94zm-11 1L8.5 8.5l.94-2.06 2.06-.94-2.06-.94L8.5 2.5l-.94 2.06-2.06.94zm10 10l.94 2.06.94-2.06 2.06-.94-2.06-.94-.94-2.06-.94 2.06-2.06.94z\"/><path d=\"M17.41 7.96l-1.37-1.37c-.4-.4-.92-.59-1.43-.59-.52 0-1.04.2-1.43.59L10.3 9.45l-7.72 7.72c-.78.78-.78 2.05 0 2.83L4 21.41c.39.39.9.59 1.41.59.51 0 1.02-.2 1.41-.59l7.78-7.78 2.81-2.81c.8-.78.8-2.07 0-2.86zM5.41 20L4 18.59l7.72-7.72 1.47 1.35L5.41 20z\"/>\n",
       "  </svg>\n",
       "      </button>\n",
       "      \n",
       "  <style>\n",
       "    .colab-df-container {\n",
       "      display:flex;\n",
       "      flex-wrap:wrap;\n",
       "      gap: 12px;\n",
       "    }\n",
       "\n",
       "    .colab-df-convert {\n",
       "      background-color: #E8F0FE;\n",
       "      border: none;\n",
       "      border-radius: 50%;\n",
       "      cursor: pointer;\n",
       "      display: none;\n",
       "      fill: #1967D2;\n",
       "      height: 32px;\n",
       "      padding: 0 0 0 0;\n",
       "      width: 32px;\n",
       "    }\n",
       "\n",
       "    .colab-df-convert:hover {\n",
       "      background-color: #E2EBFA;\n",
       "      box-shadow: 0px 1px 2px rgba(60, 64, 67, 0.3), 0px 1px 3px 1px rgba(60, 64, 67, 0.15);\n",
       "      fill: #174EA6;\n",
       "    }\n",
       "\n",
       "    [theme=dark] .colab-df-convert {\n",
       "      background-color: #3B4455;\n",
       "      fill: #D2E3FC;\n",
       "    }\n",
       "\n",
       "    [theme=dark] .colab-df-convert:hover {\n",
       "      background-color: #434B5C;\n",
       "      box-shadow: 0px 1px 3px 1px rgba(0, 0, 0, 0.15);\n",
       "      filter: drop-shadow(0px 1px 2px rgba(0, 0, 0, 0.3));\n",
       "      fill: #FFFFFF;\n",
       "    }\n",
       "  </style>\n",
       "\n",
       "      <script>\n",
       "        const buttonEl =\n",
       "          document.querySelector('#df-9831534f-7739-45c2-a559-276953d93015 button.colab-df-convert');\n",
       "        buttonEl.style.display =\n",
       "          google.colab.kernel.accessAllowed ? 'block' : 'none';\n",
       "\n",
       "        async function convertToInteractive(key) {\n",
       "          const element = document.querySelector('#df-9831534f-7739-45c2-a559-276953d93015');\n",
       "          const dataTable =\n",
       "            await google.colab.kernel.invokeFunction('convertToInteractive',\n",
       "                                                     [key], {});\n",
       "          if (!dataTable) return;\n",
       "\n",
       "          const docLinkHtml = 'Like what you see? Visit the ' +\n",
       "            '<a target=\"_blank\" href=https://colab.research.google.com/notebooks/data_table.ipynb>data table notebook</a>'\n",
       "            + ' to learn more about interactive tables.';\n",
       "          element.innerHTML = '';\n",
       "          dataTable['output_type'] = 'display_data';\n",
       "          await google.colab.output.renderOutput(dataTable, element);\n",
       "          const docLink = document.createElement('div');\n",
       "          docLink.innerHTML = docLinkHtml;\n",
       "          element.appendChild(docLink);\n",
       "        }\n",
       "      </script>\n",
       "    </div>\n",
       "  </div>\n",
       "  "
      ],
      "text/plain": [
       "         Unnamed: 0        cc_num           amt           zip           lat  \\\n",
       "count  1.296675e+06  1.296675e+06  1.296675e+06  1.296675e+06  1.296675e+06   \n",
       "mean   6.483370e+05  4.171920e+17  7.035104e+01  4.880067e+04  3.853762e+01   \n",
       "std    3.743180e+05  1.308806e+18  1.603160e+02  2.689322e+04  5.075808e+00   \n",
       "min    0.000000e+00  6.041621e+10  1.000000e+00  1.257000e+03  2.002710e+01   \n",
       "25%    3.241685e+05  1.800429e+14  9.650000e+00  2.623700e+04  3.462050e+01   \n",
       "50%    6.483370e+05  3.521417e+15  4.752000e+01  4.817400e+04  3.935430e+01   \n",
       "75%    9.725055e+05  4.642255e+15  8.314000e+01  7.204200e+04  4.194040e+01   \n",
       "max    1.296674e+06  4.992346e+18  2.894890e+04  9.978300e+04  6.669330e+01   \n",
       "\n",
       "               long      city_pop     unix_time     merch_lat    merch_long  \\\n",
       "count  1.296675e+06  1.296675e+06  1.296675e+06  1.296675e+06  1.296675e+06   \n",
       "mean  -9.022634e+01  8.882444e+04  1.349244e+09  3.853734e+01 -9.022646e+01   \n",
       "std    1.375908e+01  3.019564e+05  1.284128e+07  5.109788e+00  1.377109e+01   \n",
       "min   -1.656723e+02  2.300000e+01  1.325376e+09  1.902779e+01 -1.666712e+02   \n",
       "25%   -9.679800e+01  7.430000e+02  1.338751e+09  3.473357e+01 -9.689728e+01   \n",
       "50%   -8.747690e+01  2.456000e+03  1.349250e+09  3.936568e+01 -8.743839e+01   \n",
       "75%   -8.015800e+01  2.032800e+04  1.359385e+09  4.195716e+01 -8.023680e+01   \n",
       "max   -6.795030e+01  2.906700e+06  1.371817e+09  6.751027e+01 -6.695090e+01   \n",
       "\n",
       "           is_fraud  \n",
       "count  1.296675e+06  \n",
       "mean   5.788652e-03  \n",
       "std    7.586269e-02  \n",
       "min    0.000000e+00  \n",
       "25%    0.000000e+00  \n",
       "50%    0.000000e+00  \n",
       "75%    0.000000e+00  \n",
       "max    1.000000e+00  "
      ]
     },
     "execution_count": 41,
     "metadata": {},
     "output_type": "execute_result"
    }
   ],
   "source": [
    "fraud_train_df.describe()"
   ]
  },
  {
   "cell_type": "code",
   "execution_count": null,
   "metadata": {
    "colab": {
     "base_uri": "https://localhost:8080/"
    },
    "executionInfo": {
     "elapsed": 230,
     "status": "ok",
     "timestamp": 1678085492738,
     "user": {
      "displayName": "Tin Liman",
      "userId": "01796335397974011301"
     },
     "user_tz": 480
    },
    "id": "pE5WY51LgmM0",
    "outputId": "1d6848f9-e1b3-4b3a-96ee-d3c4af636e18"
   },
   "outputs": [
    {
     "data": {
      "text/plain": [
       "11"
      ]
     },
     "execution_count": 12,
     "metadata": {},
     "output_type": "execute_result"
    }
   ],
   "source": [
    "numerics= ['int16', 'int32', 'int64', 'float16', 'float32', 'float64']\n",
    "\n",
    "numeric_df= fraud_train_df.select_dtypes(include= numerics)\n",
    "len(numeric_df.columns)"
   ]
  },
  {
   "cell_type": "code",
   "execution_count": null,
   "metadata": {
    "colab": {
     "base_uri": "https://localhost:8080/",
     "height": 505
    },
    "executionInfo": {
     "elapsed": 1367,
     "status": "ok",
     "timestamp": 1678263711687,
     "user": {
      "displayName": "Tin Liman",
      "userId": "01796335397974011301"
     },
     "user_tz": 480
    },
    "id": "FL7KtRmQgmPq",
    "outputId": "dd97eef7-b5c4-442e-d553-f141d89486d5"
   },
   "outputs": [
    {
     "data": {
      "text/html": [
       "\n",
       "  <div id=\"df-9491a46b-bdc8-44ea-a4fa-689e0a4b81f9\">\n",
       "    <div class=\"colab-df-container\">\n",
       "      <div>\n",
       "<style scoped>\n",
       "    .dataframe tbody tr th:only-of-type {\n",
       "        vertical-align: middle;\n",
       "    }\n",
       "\n",
       "    .dataframe tbody tr th {\n",
       "        vertical-align: top;\n",
       "    }\n",
       "\n",
       "    .dataframe thead th {\n",
       "        text-align: right;\n",
       "    }\n",
       "</style>\n",
       "<table border=\"1\" class=\"dataframe\">\n",
       "  <thead>\n",
       "    <tr style=\"text-align: right;\">\n",
       "      <th></th>\n",
       "      <th>Unnamed: 0</th>\n",
       "      <th>trans_date_trans_time</th>\n",
       "      <th>cc_num</th>\n",
       "      <th>merchant</th>\n",
       "      <th>category</th>\n",
       "      <th>amt</th>\n",
       "      <th>first</th>\n",
       "      <th>last</th>\n",
       "      <th>gender</th>\n",
       "      <th>street</th>\n",
       "      <th>...</th>\n",
       "      <th>lat</th>\n",
       "      <th>long</th>\n",
       "      <th>city_pop</th>\n",
       "      <th>job</th>\n",
       "      <th>dob</th>\n",
       "      <th>trans_num</th>\n",
       "      <th>unix_time</th>\n",
       "      <th>merch_lat</th>\n",
       "      <th>merch_long</th>\n",
       "      <th>is_fraud</th>\n",
       "    </tr>\n",
       "  </thead>\n",
       "  <tbody>\n",
       "    <tr>\n",
       "      <th>0</th>\n",
       "      <td>False</td>\n",
       "      <td>False</td>\n",
       "      <td>False</td>\n",
       "      <td>False</td>\n",
       "      <td>False</td>\n",
       "      <td>False</td>\n",
       "      <td>False</td>\n",
       "      <td>False</td>\n",
       "      <td>False</td>\n",
       "      <td>False</td>\n",
       "      <td>...</td>\n",
       "      <td>False</td>\n",
       "      <td>False</td>\n",
       "      <td>False</td>\n",
       "      <td>False</td>\n",
       "      <td>False</td>\n",
       "      <td>False</td>\n",
       "      <td>False</td>\n",
       "      <td>False</td>\n",
       "      <td>False</td>\n",
       "      <td>False</td>\n",
       "    </tr>\n",
       "    <tr>\n",
       "      <th>1</th>\n",
       "      <td>False</td>\n",
       "      <td>False</td>\n",
       "      <td>False</td>\n",
       "      <td>False</td>\n",
       "      <td>False</td>\n",
       "      <td>False</td>\n",
       "      <td>False</td>\n",
       "      <td>False</td>\n",
       "      <td>False</td>\n",
       "      <td>False</td>\n",
       "      <td>...</td>\n",
       "      <td>False</td>\n",
       "      <td>False</td>\n",
       "      <td>False</td>\n",
       "      <td>False</td>\n",
       "      <td>False</td>\n",
       "      <td>False</td>\n",
       "      <td>False</td>\n",
       "      <td>False</td>\n",
       "      <td>False</td>\n",
       "      <td>False</td>\n",
       "    </tr>\n",
       "    <tr>\n",
       "      <th>2</th>\n",
       "      <td>False</td>\n",
       "      <td>False</td>\n",
       "      <td>False</td>\n",
       "      <td>False</td>\n",
       "      <td>False</td>\n",
       "      <td>False</td>\n",
       "      <td>False</td>\n",
       "      <td>False</td>\n",
       "      <td>False</td>\n",
       "      <td>False</td>\n",
       "      <td>...</td>\n",
       "      <td>False</td>\n",
       "      <td>False</td>\n",
       "      <td>False</td>\n",
       "      <td>False</td>\n",
       "      <td>False</td>\n",
       "      <td>False</td>\n",
       "      <td>False</td>\n",
       "      <td>False</td>\n",
       "      <td>False</td>\n",
       "      <td>False</td>\n",
       "    </tr>\n",
       "    <tr>\n",
       "      <th>3</th>\n",
       "      <td>False</td>\n",
       "      <td>False</td>\n",
       "      <td>False</td>\n",
       "      <td>False</td>\n",
       "      <td>False</td>\n",
       "      <td>False</td>\n",
       "      <td>False</td>\n",
       "      <td>False</td>\n",
       "      <td>False</td>\n",
       "      <td>False</td>\n",
       "      <td>...</td>\n",
       "      <td>False</td>\n",
       "      <td>False</td>\n",
       "      <td>False</td>\n",
       "      <td>False</td>\n",
       "      <td>False</td>\n",
       "      <td>False</td>\n",
       "      <td>False</td>\n",
       "      <td>False</td>\n",
       "      <td>False</td>\n",
       "      <td>False</td>\n",
       "    </tr>\n",
       "    <tr>\n",
       "      <th>4</th>\n",
       "      <td>False</td>\n",
       "      <td>False</td>\n",
       "      <td>False</td>\n",
       "      <td>False</td>\n",
       "      <td>False</td>\n",
       "      <td>False</td>\n",
       "      <td>False</td>\n",
       "      <td>False</td>\n",
       "      <td>False</td>\n",
       "      <td>False</td>\n",
       "      <td>...</td>\n",
       "      <td>False</td>\n",
       "      <td>False</td>\n",
       "      <td>False</td>\n",
       "      <td>False</td>\n",
       "      <td>False</td>\n",
       "      <td>False</td>\n",
       "      <td>False</td>\n",
       "      <td>False</td>\n",
       "      <td>False</td>\n",
       "      <td>False</td>\n",
       "    </tr>\n",
       "    <tr>\n",
       "      <th>...</th>\n",
       "      <td>...</td>\n",
       "      <td>...</td>\n",
       "      <td>...</td>\n",
       "      <td>...</td>\n",
       "      <td>...</td>\n",
       "      <td>...</td>\n",
       "      <td>...</td>\n",
       "      <td>...</td>\n",
       "      <td>...</td>\n",
       "      <td>...</td>\n",
       "      <td>...</td>\n",
       "      <td>...</td>\n",
       "      <td>...</td>\n",
       "      <td>...</td>\n",
       "      <td>...</td>\n",
       "      <td>...</td>\n",
       "      <td>...</td>\n",
       "      <td>...</td>\n",
       "      <td>...</td>\n",
       "      <td>...</td>\n",
       "      <td>...</td>\n",
       "    </tr>\n",
       "    <tr>\n",
       "      <th>1296670</th>\n",
       "      <td>False</td>\n",
       "      <td>False</td>\n",
       "      <td>False</td>\n",
       "      <td>False</td>\n",
       "      <td>False</td>\n",
       "      <td>False</td>\n",
       "      <td>False</td>\n",
       "      <td>False</td>\n",
       "      <td>False</td>\n",
       "      <td>False</td>\n",
       "      <td>...</td>\n",
       "      <td>False</td>\n",
       "      <td>False</td>\n",
       "      <td>False</td>\n",
       "      <td>False</td>\n",
       "      <td>False</td>\n",
       "      <td>False</td>\n",
       "      <td>False</td>\n",
       "      <td>False</td>\n",
       "      <td>False</td>\n",
       "      <td>False</td>\n",
       "    </tr>\n",
       "    <tr>\n",
       "      <th>1296671</th>\n",
       "      <td>False</td>\n",
       "      <td>False</td>\n",
       "      <td>False</td>\n",
       "      <td>False</td>\n",
       "      <td>False</td>\n",
       "      <td>False</td>\n",
       "      <td>False</td>\n",
       "      <td>False</td>\n",
       "      <td>False</td>\n",
       "      <td>False</td>\n",
       "      <td>...</td>\n",
       "      <td>False</td>\n",
       "      <td>False</td>\n",
       "      <td>False</td>\n",
       "      <td>False</td>\n",
       "      <td>False</td>\n",
       "      <td>False</td>\n",
       "      <td>False</td>\n",
       "      <td>False</td>\n",
       "      <td>False</td>\n",
       "      <td>False</td>\n",
       "    </tr>\n",
       "    <tr>\n",
       "      <th>1296672</th>\n",
       "      <td>False</td>\n",
       "      <td>False</td>\n",
       "      <td>False</td>\n",
       "      <td>False</td>\n",
       "      <td>False</td>\n",
       "      <td>False</td>\n",
       "      <td>False</td>\n",
       "      <td>False</td>\n",
       "      <td>False</td>\n",
       "      <td>False</td>\n",
       "      <td>...</td>\n",
       "      <td>False</td>\n",
       "      <td>False</td>\n",
       "      <td>False</td>\n",
       "      <td>False</td>\n",
       "      <td>False</td>\n",
       "      <td>False</td>\n",
       "      <td>False</td>\n",
       "      <td>False</td>\n",
       "      <td>False</td>\n",
       "      <td>False</td>\n",
       "    </tr>\n",
       "    <tr>\n",
       "      <th>1296673</th>\n",
       "      <td>False</td>\n",
       "      <td>False</td>\n",
       "      <td>False</td>\n",
       "      <td>False</td>\n",
       "      <td>False</td>\n",
       "      <td>False</td>\n",
       "      <td>False</td>\n",
       "      <td>False</td>\n",
       "      <td>False</td>\n",
       "      <td>False</td>\n",
       "      <td>...</td>\n",
       "      <td>False</td>\n",
       "      <td>False</td>\n",
       "      <td>False</td>\n",
       "      <td>False</td>\n",
       "      <td>False</td>\n",
       "      <td>False</td>\n",
       "      <td>False</td>\n",
       "      <td>False</td>\n",
       "      <td>False</td>\n",
       "      <td>False</td>\n",
       "    </tr>\n",
       "    <tr>\n",
       "      <th>1296674</th>\n",
       "      <td>False</td>\n",
       "      <td>False</td>\n",
       "      <td>False</td>\n",
       "      <td>False</td>\n",
       "      <td>False</td>\n",
       "      <td>False</td>\n",
       "      <td>False</td>\n",
       "      <td>False</td>\n",
       "      <td>False</td>\n",
       "      <td>False</td>\n",
       "      <td>...</td>\n",
       "      <td>False</td>\n",
       "      <td>False</td>\n",
       "      <td>False</td>\n",
       "      <td>False</td>\n",
       "      <td>False</td>\n",
       "      <td>False</td>\n",
       "      <td>False</td>\n",
       "      <td>False</td>\n",
       "      <td>False</td>\n",
       "      <td>False</td>\n",
       "    </tr>\n",
       "  </tbody>\n",
       "</table>\n",
       "<p>1296675 rows × 23 columns</p>\n",
       "</div>\n",
       "      <button class=\"colab-df-convert\" onclick=\"convertToInteractive('df-9491a46b-bdc8-44ea-a4fa-689e0a4b81f9')\"\n",
       "              title=\"Convert this dataframe to an interactive table.\"\n",
       "              style=\"display:none;\">\n",
       "        \n",
       "  <svg xmlns=\"http://www.w3.org/2000/svg\" height=\"24px\"viewBox=\"0 0 24 24\"\n",
       "       width=\"24px\">\n",
       "    <path d=\"M0 0h24v24H0V0z\" fill=\"none\"/>\n",
       "    <path d=\"M18.56 5.44l.94 2.06.94-2.06 2.06-.94-2.06-.94-.94-2.06-.94 2.06-2.06.94zm-11 1L8.5 8.5l.94-2.06 2.06-.94-2.06-.94L8.5 2.5l-.94 2.06-2.06.94zm10 10l.94 2.06.94-2.06 2.06-.94-2.06-.94-.94-2.06-.94 2.06-2.06.94z\"/><path d=\"M17.41 7.96l-1.37-1.37c-.4-.4-.92-.59-1.43-.59-.52 0-1.04.2-1.43.59L10.3 9.45l-7.72 7.72c-.78.78-.78 2.05 0 2.83L4 21.41c.39.39.9.59 1.41.59.51 0 1.02-.2 1.41-.59l7.78-7.78 2.81-2.81c.8-.78.8-2.07 0-2.86zM5.41 20L4 18.59l7.72-7.72 1.47 1.35L5.41 20z\"/>\n",
       "  </svg>\n",
       "      </button>\n",
       "      \n",
       "  <style>\n",
       "    .colab-df-container {\n",
       "      display:flex;\n",
       "      flex-wrap:wrap;\n",
       "      gap: 12px;\n",
       "    }\n",
       "\n",
       "    .colab-df-convert {\n",
       "      background-color: #E8F0FE;\n",
       "      border: none;\n",
       "      border-radius: 50%;\n",
       "      cursor: pointer;\n",
       "      display: none;\n",
       "      fill: #1967D2;\n",
       "      height: 32px;\n",
       "      padding: 0 0 0 0;\n",
       "      width: 32px;\n",
       "    }\n",
       "\n",
       "    .colab-df-convert:hover {\n",
       "      background-color: #E2EBFA;\n",
       "      box-shadow: 0px 1px 2px rgba(60, 64, 67, 0.3), 0px 1px 3px 1px rgba(60, 64, 67, 0.15);\n",
       "      fill: #174EA6;\n",
       "    }\n",
       "\n",
       "    [theme=dark] .colab-df-convert {\n",
       "      background-color: #3B4455;\n",
       "      fill: #D2E3FC;\n",
       "    }\n",
       "\n",
       "    [theme=dark] .colab-df-convert:hover {\n",
       "      background-color: #434B5C;\n",
       "      box-shadow: 0px 1px 3px 1px rgba(0, 0, 0, 0.15);\n",
       "      filter: drop-shadow(0px 1px 2px rgba(0, 0, 0, 0.3));\n",
       "      fill: #FFFFFF;\n",
       "    }\n",
       "  </style>\n",
       "\n",
       "      <script>\n",
       "        const buttonEl =\n",
       "          document.querySelector('#df-9491a46b-bdc8-44ea-a4fa-689e0a4b81f9 button.colab-df-convert');\n",
       "        buttonEl.style.display =\n",
       "          google.colab.kernel.accessAllowed ? 'block' : 'none';\n",
       "\n",
       "        async function convertToInteractive(key) {\n",
       "          const element = document.querySelector('#df-9491a46b-bdc8-44ea-a4fa-689e0a4b81f9');\n",
       "          const dataTable =\n",
       "            await google.colab.kernel.invokeFunction('convertToInteractive',\n",
       "                                                     [key], {});\n",
       "          if (!dataTable) return;\n",
       "\n",
       "          const docLinkHtml = 'Like what you see? Visit the ' +\n",
       "            '<a target=\"_blank\" href=https://colab.research.google.com/notebooks/data_table.ipynb>data table notebook</a>'\n",
       "            + ' to learn more about interactive tables.';\n",
       "          element.innerHTML = '';\n",
       "          dataTable['output_type'] = 'display_data';\n",
       "          await google.colab.output.renderOutput(dataTable, element);\n",
       "          const docLink = document.createElement('div');\n",
       "          docLink.innerHTML = docLinkHtml;\n",
       "          element.appendChild(docLink);\n",
       "        }\n",
       "      </script>\n",
       "    </div>\n",
       "  </div>\n",
       "  "
      ],
      "text/plain": [
       "         Unnamed: 0  trans_date_trans_time  cc_num  merchant  category    amt  \\\n",
       "0             False                  False   False     False     False  False   \n",
       "1             False                  False   False     False     False  False   \n",
       "2             False                  False   False     False     False  False   \n",
       "3             False                  False   False     False     False  False   \n",
       "4             False                  False   False     False     False  False   \n",
       "...             ...                    ...     ...       ...       ...    ...   \n",
       "1296670       False                  False   False     False     False  False   \n",
       "1296671       False                  False   False     False     False  False   \n",
       "1296672       False                  False   False     False     False  False   \n",
       "1296673       False                  False   False     False     False  False   \n",
       "1296674       False                  False   False     False     False  False   \n",
       "\n",
       "         first   last  gender  street  ...    lat   long  city_pop    job  \\\n",
       "0        False  False   False   False  ...  False  False     False  False   \n",
       "1        False  False   False   False  ...  False  False     False  False   \n",
       "2        False  False   False   False  ...  False  False     False  False   \n",
       "3        False  False   False   False  ...  False  False     False  False   \n",
       "4        False  False   False   False  ...  False  False     False  False   \n",
       "...        ...    ...     ...     ...  ...    ...    ...       ...    ...   \n",
       "1296670  False  False   False   False  ...  False  False     False  False   \n",
       "1296671  False  False   False   False  ...  False  False     False  False   \n",
       "1296672  False  False   False   False  ...  False  False     False  False   \n",
       "1296673  False  False   False   False  ...  False  False     False  False   \n",
       "1296674  False  False   False   False  ...  False  False     False  False   \n",
       "\n",
       "           dob  trans_num  unix_time  merch_lat  merch_long  is_fraud  \n",
       "0        False      False      False      False       False     False  \n",
       "1        False      False      False      False       False     False  \n",
       "2        False      False      False      False       False     False  \n",
       "3        False      False      False      False       False     False  \n",
       "4        False      False      False      False       False     False  \n",
       "...        ...        ...        ...        ...         ...       ...  \n",
       "1296670  False      False      False      False       False     False  \n",
       "1296671  False      False      False      False       False     False  \n",
       "1296672  False      False      False      False       False     False  \n",
       "1296673  False      False      False      False       False     False  \n",
       "1296674  False      False      False      False       False     False  \n",
       "\n",
       "[1296675 rows x 23 columns]"
      ]
     },
     "execution_count": 42,
     "metadata": {},
     "output_type": "execute_result"
    }
   ],
   "source": [
    "fraud_train_df.isna()"
   ]
  },
  {
   "cell_type": "markdown",
   "metadata": {
    "id": "1OkcdSsQlqHH"
   },
   "source": [
    "Percentage of missing values per column"
   ]
  },
  {
   "cell_type": "code",
   "execution_count": null,
   "metadata": {
    "colab": {
     "base_uri": "https://localhost:8080/"
    },
    "executionInfo": {
     "elapsed": 1203,
     "status": "ok",
     "timestamp": 1678085499321,
     "user": {
      "displayName": "Tin Liman",
      "userId": "01796335397974011301"
     },
     "user_tz": 480
    },
    "id": "38hUvF6JgmSi",
    "outputId": "882a55cb-1ee4-4371-a758-8a246f1d40f8"
   },
   "outputs": [
    {
     "data": {
      "text/plain": [
       "Unnamed: 0               0\n",
       "zip                      0\n",
       "merch_long               0\n",
       "merch_lat                0\n",
       "unix_time                0\n",
       "trans_num                0\n",
       "dob                      0\n",
       "job                      0\n",
       "city_pop                 0\n",
       "long                     0\n",
       "lat                      0\n",
       "state                    0\n",
       "trans_date_trans_time    0\n",
       "city                     0\n",
       "street                   0\n",
       "gender                   0\n",
       "last                     0\n",
       "first                    0\n",
       "amt                      0\n",
       "category                 0\n",
       "merchant                 0\n",
       "cc_num                   0\n",
       "is_fraud                 0\n",
       "dtype: int64"
      ]
     },
     "execution_count": 14,
     "metadata": {},
     "output_type": "execute_result"
    }
   ],
   "source": [
    "fraud_train_df.isna().sum().sort_values(ascending= False)"
   ]
  },
  {
   "cell_type": "markdown",
   "metadata": {
    "id": "eFQ3N9sGhDcP"
   },
   "source": [
    "## Exploratory Analysis and Visualization"
   ]
  },
  {
   "cell_type": "markdown",
   "metadata": {
    "id": "lgPOj1zuZQOV"
   },
   "source": [
    "### Gender vs. Fraud Claims"
   ]
  },
  {
   "cell_type": "markdown",
   "metadata": {
    "id": "mjdIfzkLhMkF"
   },
   "source": [
    "I want to check any relationship between gender vs. fraud claim charges."
   ]
  },
  {
   "cell_type": "code",
   "execution_count": 7,
   "metadata": {
    "colab": {
     "base_uri": "https://localhost:8080/",
     "height": 520
    },
    "executionInfo": {
     "elapsed": 52083,
     "status": "ok",
     "timestamp": 1679370895941,
     "user": {
      "displayName": "Tin Liman",
      "userId": "01796335397974011301"
     },
     "user_tz": 420
    },
    "id": "HScYi_URhNkK",
    "outputId": "4ef16398-3de7-435d-95be-600ac7d35f1d"
   },
   "outputs": [
    {
     "data": {
      "image/png": "[encoded data removed]",
      "text/plain": [
       "<Figure size 1224x576 with 1 Axes>"
      ]
     },
     "metadata": {
      "needs_background": "light"
     },
     "output_type": "display_data"
    }
   ],
   "source": [
    "plt.figure(figsize=(17,8))\n",
    "sns.barplot(x='gender', y='is_fraud', data=fraud_train_df).set(title='Gender vs. Fraud Claims');"
   ]
  },
  {
   "cell_type": "markdown",
   "metadata": {
    "id": "KVhHdQFEYNOg"
   },
   "source": [
    "Conclusion:\n",
    "\n",
    "Male happened to use credit card more than female based on this bar graph. It could be that most of the female don't report the fraud claims."
   ]
  },
  {
   "cell_type": "markdown",
   "metadata": {
    "id": "bLx1lL4wZVFx"
   },
   "source": [
    "### Average amount spent "
   ]
  },
  {
   "cell_type": "code",
   "execution_count": 35,
   "metadata": {
    "colab": {
     "base_uri": "https://localhost:8080/",
     "height": 520
    },
    "executionInfo": {
     "elapsed": 788,
     "status": "ok",
     "timestamp": 1679372273666,
     "user": {
      "displayName": "Tin Liman",
      "userId": "01796335397974011301"
     },
     "user_tz": 420
    },
    "id": "9gGL4wzihNwZ",
    "outputId": "d9e36812-46df-43bb-a30c-87e48e322f8e"
   },
   "outputs": [
    {
     "data": {
      "image/png": "[encoded data removed]",
      "text/plain": [
       "<Figure size 1224x576 with 1 Axes>"
      ]
     },
     "metadata": {
      "needs_background": "light"
     },
     "output_type": "display_data"
    }
   ],
   "source": [
    "plt.figure(figsize=(17,8))\n",
    "sns.boxplot(x='amt',data= fraud_train_df).set(title='Average amount spent');"
   ]
  },
  {
   "cell_type": "markdown",
   "metadata": {
    "id": "O-JFzrrxYMZ5"
   },
   "source": [
    "Conclusion:\n",
    "\n",
    "I can see very few charges more than $30,000. \n",
    "Mostly, people spend less than $1,000 on the daily basic."
   ]
  },
  {
   "cell_type": "markdown",
   "metadata": {
    "id": "h_6DaX9QZoZu"
   },
   "source": [
    "### Comparison on Shopping Category"
   ]
  },
  {
   "cell_type": "code",
   "execution_count": 10,
   "metadata": {
    "colab": {
     "base_uri": "https://localhost:8080/",
     "height": 594
    },
    "executionInfo": {
     "elapsed": 7996,
     "status": "ok",
     "timestamp": 1679371008485,
     "user": {
      "displayName": "Tin Liman",
      "userId": "01796335397974011301"
     },
     "user_tz": 420
    },
    "id": "SNzaBjdShN1G",
    "outputId": "fc195642-c8ef-4188-ec1e-c680a31a42a6"
   },
   "outputs": [
    {
     "data": {
      "image/png": "[encoded data removed]",
      "text/plain": [
       "<Figure size 1224x576 with 1 Axes>"
      ]
     },
     "metadata": {
      "needs_background": "light"
     },
     "output_type": "display_data"
    }
   ],
   "source": [
    "plt.figure(figsize=(17,8))\n",
    "sns.histplot(fraud_train_df['category'],kde=True).set(title='Comparison on Shopping Category')\n",
    "plt.xticks(rotation=90);"
   ]
  },
  {
   "cell_type": "markdown",
   "metadata": {
    "id": "zrgYT6y5YLuL"
   },
   "source": [
    "Conclusion:\n",
    "\n",
    "People mostly shop daily on grocery, home and gas(transportation) categories. That makes sense because of the basic human needs will always be fooods and transportation."
   ]
  },
  {
   "cell_type": "markdown",
   "metadata": {
    "id": "uYk8y5ALZtX8"
   },
   "source": [
    "### Fraud Claim Counts on Population Counts"
   ]
  },
  {
   "cell_type": "code",
   "execution_count": 37,
   "metadata": {
    "colab": {
     "base_uri": "https://localhost:8080/",
     "height": 716
    },
    "executionInfo": {
     "elapsed": 6344,
     "status": "ok",
     "timestamp": 1679372910751,
     "user": {
      "displayName": "Tin Liman",
      "userId": "01796335397974011301"
     },
     "user_tz": 420
    },
    "id": "kjM52mShhN5Q",
    "outputId": "f680c385-001f-4f8a-da77-40d581c17180"
   },
   "outputs": [
    {
     "name": "stderr",
     "output_type": "stream",
     "text": [
      "<ipython-input-37-088785a5ed3f>:2: UserWarning: \n",
      "\n",
      "`distplot` is a deprecated function and will be removed in seaborn v0.14.0.\n",
      "\n",
      "Please adapt your code to use either `displot` (a figure-level function with\n",
      "similar flexibility) or `histplot` (an axes-level function for histograms).\n",
      "\n",
      "For a guide to updating your code to use the new functions, please see\n",
      "https://gist.github.com/mwaskom/de44147ed2974457ad6372750bbe5751\n",
      "\n",
      "  sns.distplot(fraud_train_df['city_pop'], kde=True, bins=15).set(title='Fraud Claim Charges on Population Counts');\n"
     ]
    },
    {
     "data": {
      "image/png": "[encoded data removed]",
      "text/plain": [
       "<Figure size 1224x576 with 1 Axes>"
      ]
     },
     "metadata": {
      "needs_background": "light"
     },
     "output_type": "display_data"
    }
   ],
   "source": [
    "plt.figure(figsize=(17,8))\n",
    "sns.distplot(fraud_train_df['city_pop'], kde=True, bins=15).set(title='Fraud Claim Charges on Population Counts');"
   ]
  },
  {
   "cell_type": "markdown",
   "metadata": {
    "id": "oYa7RHjTXDc8"
   },
   "source": [
    "Conclusion:\n",
    "\n",
    "It is interesting to see City population on fraud claims. I don't think the city population affects how people use their credit card."
   ]
  },
  {
   "cell_type": "markdown",
   "metadata": {
    "id": "GS81J_DYXwdq"
   },
   "source": [
    "### Fraud Claim Counts per Category\n",
    "\n",
    "Creating new columns called 'fraud_claim_counts' to check and see any outliers (unusual) charges based on its category."
   ]
  },
  {
   "cell_type": "code",
   "execution_count": 31,
   "metadata": {
    "colab": {
     "base_uri": "https://localhost:8080/"
    },
    "executionInfo": {
     "elapsed": 203,
     "status": "ok",
     "timestamp": 1679371580040,
     "user": {
      "displayName": "Tin Liman",
      "userId": "01796335397974011301"
     },
     "user_tz": 420
    },
    "id": "wdpl8YZLhN9s",
    "outputId": "48c0c1c6-612a-407a-c803-5b1605fc081e"
   },
   "outputs": [
    {
     "data": {
      "text/plain": [
       "0    1289169\n",
       "1       7506\n",
       "Name: is_fraud, dtype: int64"
      ]
     },
     "execution_count": 31,
     "metadata": {},
     "output_type": "execute_result"
    }
   ],
   "source": [
    "fraud_train_df.is_fraud.value_counts()"
   ]
  },
  {
   "cell_type": "markdown",
   "metadata": {
    "id": "FtmaGlR7XEek"
   },
   "source": [
    "There are 7506 fraud credit card claims reported across all the category. It seems like there should be a way to detect the fraud charges easily."
   ]
  },
  {
   "cell_type": "code",
   "execution_count": 32,
   "metadata": {
    "executionInfo": {
     "elapsed": 409,
     "status": "ok",
     "timestamp": 1679371612608,
     "user": {
      "displayName": "Tin Liman",
      "userId": "01796335397974011301"
     },
     "user_tz": 420
    },
    "id": "Zp-9AhJuWLy_"
   },
   "outputs": [],
   "source": [
    "counts= fraud_train_df.groupby(['category', 'amt', 'is_fraud']).size().reset_index().rename(columns={0:'fraud_claim_counts'})"
   ]
  },
  {
   "cell_type": "code",
   "execution_count": 33,
   "metadata": {
    "colab": {
     "base_uri": "https://localhost:8080/",
     "height": 424
    },
    "executionInfo": {
     "elapsed": 205,
     "status": "ok",
     "timestamp": 1679371633193,
     "user": {
      "displayName": "Tin Liman",
      "userId": "01796335397974011301"
     },
     "user_tz": 420
    },
    "id": "EJb0FxUwWL2o",
    "outputId": "971e48c6-1379-4dc4-b5e0-14224d64e123"
   },
   "outputs": [
    {
     "data": {
      "text/html": [
       "\n",
       "  <div id=\"df-4ae3cd73-75af-4649-96a9-db91ac42fe95\">\n",
       "    <div class=\"colab-df-container\">\n",
       "      <div>\n",
       "<style scoped>\n",
       "    .dataframe tbody tr th:only-of-type {\n",
       "        vertical-align: middle;\n",
       "    }\n",
       "\n",
       "    .dataframe tbody tr th {\n",
       "        vertical-align: top;\n",
       "    }\n",
       "\n",
       "    .dataframe thead th {\n",
       "        text-align: right;\n",
       "    }\n",
       "</style>\n",
       "<table border=\"1\" class=\"dataframe\">\n",
       "  <thead>\n",
       "    <tr style=\"text-align: right;\">\n",
       "      <th></th>\n",
       "      <th>category</th>\n",
       "      <th>amt</th>\n",
       "      <th>is_fraud</th>\n",
       "      <th>fraud_claim_counts</th>\n",
       "    </tr>\n",
       "  </thead>\n",
       "  <tbody>\n",
       "    <tr>\n",
       "      <th>0</th>\n",
       "      <td>entertainment</td>\n",
       "      <td>1.00</td>\n",
       "      <td>0</td>\n",
       "      <td>6</td>\n",
       "    </tr>\n",
       "    <tr>\n",
       "      <th>1</th>\n",
       "      <td>entertainment</td>\n",
       "      <td>1.01</td>\n",
       "      <td>0</td>\n",
       "      <td>19</td>\n",
       "    </tr>\n",
       "    <tr>\n",
       "      <th>2</th>\n",
       "      <td>entertainment</td>\n",
       "      <td>1.02</td>\n",
       "      <td>0</td>\n",
       "      <td>22</td>\n",
       "    </tr>\n",
       "    <tr>\n",
       "      <th>3</th>\n",
       "      <td>entertainment</td>\n",
       "      <td>1.03</td>\n",
       "      <td>0</td>\n",
       "      <td>24</td>\n",
       "    </tr>\n",
       "    <tr>\n",
       "      <th>4</th>\n",
       "      <td>entertainment</td>\n",
       "      <td>1.04</td>\n",
       "      <td>0</td>\n",
       "      <td>32</td>\n",
       "    </tr>\n",
       "    <tr>\n",
       "      <th>...</th>\n",
       "      <td>...</td>\n",
       "      <td>...</td>\n",
       "      <td>...</td>\n",
       "      <td>...</td>\n",
       "    </tr>\n",
       "    <tr>\n",
       "      <th>241774</th>\n",
       "      <td>travel</td>\n",
       "      <td>25086.94</td>\n",
       "      <td>0</td>\n",
       "      <td>1</td>\n",
       "    </tr>\n",
       "    <tr>\n",
       "      <th>241775</th>\n",
       "      <td>travel</td>\n",
       "      <td>26544.12</td>\n",
       "      <td>0</td>\n",
       "      <td>1</td>\n",
       "    </tr>\n",
       "    <tr>\n",
       "      <th>241776</th>\n",
       "      <td>travel</td>\n",
       "      <td>27119.77</td>\n",
       "      <td>0</td>\n",
       "      <td>1</td>\n",
       "    </tr>\n",
       "    <tr>\n",
       "      <th>241777</th>\n",
       "      <td>travel</td>\n",
       "      <td>27390.12</td>\n",
       "      <td>0</td>\n",
       "      <td>1</td>\n",
       "    </tr>\n",
       "    <tr>\n",
       "      <th>241778</th>\n",
       "      <td>travel</td>\n",
       "      <td>28948.90</td>\n",
       "      <td>0</td>\n",
       "      <td>1</td>\n",
       "    </tr>\n",
       "  </tbody>\n",
       "</table>\n",
       "<p>241779 rows × 4 columns</p>\n",
       "</div>\n",
       "      <button class=\"colab-df-convert\" onclick=\"convertToInteractive('df-4ae3cd73-75af-4649-96a9-db91ac42fe95')\"\n",
       "              title=\"Convert this dataframe to an interactive table.\"\n",
       "              style=\"display:none;\">\n",
       "        \n",
       "  <svg xmlns=\"http://www.w3.org/2000/svg\" height=\"24px\"viewBox=\"0 0 24 24\"\n",
       "       width=\"24px\">\n",
       "    <path d=\"M0 0h24v24H0V0z\" fill=\"none\"/>\n",
       "    <path d=\"M18.56 5.44l.94 2.06.94-2.06 2.06-.94-2.06-.94-.94-2.06-.94 2.06-2.06.94zm-11 1L8.5 8.5l.94-2.06 2.06-.94-2.06-.94L8.5 2.5l-.94 2.06-2.06.94zm10 10l.94 2.06.94-2.06 2.06-.94-2.06-.94-.94-2.06-.94 2.06-2.06.94z\"/><path d=\"M17.41 7.96l-1.37-1.37c-.4-.4-.92-.59-1.43-.59-.52 0-1.04.2-1.43.59L10.3 9.45l-7.72 7.72c-.78.78-.78 2.05 0 2.83L4 21.41c.39.39.9.59 1.41.59.51 0 1.02-.2 1.41-.59l7.78-7.78 2.81-2.81c.8-.78.8-2.07 0-2.86zM5.41 20L4 18.59l7.72-7.72 1.47 1.35L5.41 20z\"/>\n",
       "  </svg>\n",
       "      </button>\n",
       "      \n",
       "  <style>\n",
       "    .colab-df-container {\n",
       "      display:flex;\n",
       "      flex-wrap:wrap;\n",
       "      gap: 12px;\n",
       "    }\n",
       "\n",
       "    .colab-df-convert {\n",
       "      background-color: #E8F0FE;\n",
       "      border: none;\n",
       "      border-radius: 50%;\n",
       "      cursor: pointer;\n",
       "      display: none;\n",
       "      fill: #1967D2;\n",
       "      height: 32px;\n",
       "      padding: 0 0 0 0;\n",
       "      width: 32px;\n",
       "    }\n",
       "\n",
       "    .colab-df-convert:hover {\n",
       "      background-color: #E2EBFA;\n",
       "      box-shadow: 0px 1px 2px rgba(60, 64, 67, 0.3), 0px 1px 3px 1px rgba(60, 64, 67, 0.15);\n",
       "      fill: #174EA6;\n",
       "    }\n",
       "\n",
       "    [theme=dark] .colab-df-convert {\n",
       "      background-color: #3B4455;\n",
       "      fill: #D2E3FC;\n",
       "    }\n",
       "\n",
       "    [theme=dark] .colab-df-convert:hover {\n",
       "      background-color: #434B5C;\n",
       "      box-shadow: 0px 1px 3px 1px rgba(0, 0, 0, 0.15);\n",
       "      filter: drop-shadow(0px 1px 2px rgba(0, 0, 0, 0.3));\n",
       "      fill: #FFFFFF;\n",
       "    }\n",
       "  </style>\n",
       "\n",
       "      <script>\n",
       "        const buttonEl =\n",
       "          document.querySelector('#df-4ae3cd73-75af-4649-96a9-db91ac42fe95 button.colab-df-convert');\n",
       "        buttonEl.style.display =\n",
       "          google.colab.kernel.accessAllowed ? 'block' : 'none';\n",
       "\n",
       "        async function convertToInteractive(key) {\n",
       "          const element = document.querySelector('#df-4ae3cd73-75af-4649-96a9-db91ac42fe95');\n",
       "          const dataTable =\n",
       "            await google.colab.kernel.invokeFunction('convertToInteractive',\n",
       "                                                     [key], {});\n",
       "          if (!dataTable) return;\n",
       "\n",
       "          const docLinkHtml = 'Like what you see? Visit the ' +\n",
       "            '<a target=\"_blank\" href=https://colab.research.google.com/notebooks/data_table.ipynb>data table notebook</a>'\n",
       "            + ' to learn more about interactive tables.';\n",
       "          element.innerHTML = '';\n",
       "          dataTable['output_type'] = 'display_data';\n",
       "          await google.colab.output.renderOutput(dataTable, element);\n",
       "          const docLink = document.createElement('div');\n",
       "          docLink.innerHTML = docLinkHtml;\n",
       "          element.appendChild(docLink);\n",
       "        }\n",
       "      </script>\n",
       "    </div>\n",
       "  </div>\n",
       "  "
      ],
      "text/plain": [
       "             category       amt  is_fraud  fraud_claim_counts\n",
       "0       entertainment      1.00         0                   6\n",
       "1       entertainment      1.01         0                  19\n",
       "2       entertainment      1.02         0                  22\n",
       "3       entertainment      1.03         0                  24\n",
       "4       entertainment      1.04         0                  32\n",
       "...               ...       ...       ...                 ...\n",
       "241774         travel  25086.94         0                   1\n",
       "241775         travel  26544.12         0                   1\n",
       "241776         travel  27119.77         0                   1\n",
       "241777         travel  27390.12         0                   1\n",
       "241778         travel  28948.90         0                   1\n",
       "\n",
       "[241779 rows x 4 columns]"
      ]
     },
     "execution_count": 33,
     "metadata": {},
     "output_type": "execute_result"
    }
   ],
   "source": [
    "counts"
   ]
  },
  {
   "cell_type": "code",
   "execution_count": 34,
   "metadata": {
    "colab": {
     "base_uri": "https://localhost:8080/",
     "height": 485
    },
    "executionInfo": {
     "elapsed": 4014,
     "status": "ok",
     "timestamp": 1679371663539,
     "user": {
      "displayName": "Tin Liman",
      "userId": "01796335397974011301"
     },
     "user_tz": 420
    },
    "id": "KlfuVMFPWYrO",
    "outputId": "f73844d5-faac-4c75-a146-408883286ed4"
   },
   "outputs": [
    {
     "data": {
      "image/png": "[encoded data removed]",
      "text/plain": [
       "<Figure size 1296x432 with 1 Axes>"
      ]
     },
     "metadata": {
      "needs_background": "light"
     },
     "output_type": "display_data"
    }
   ],
   "source": [
    "matplotlib.rcParams['figure.figsize']= (18,6)\n",
    "sns.barplot(x= 'category', y= 'fraud_claim_counts', data= counts).set(title='Fraud Claim Counts per Category')\n",
    "plt.xticks(rotation=90)\n",
    "plt.show();"
   ]
  },
  {
   "cell_type": "markdown",
   "metadata": {
    "id": "A45szPINWhnF"
   },
   "source": [
    "Conclusion:\n",
    "\n",
    "The most fraud charges that usually people gets are entertainment and online shopping websites. At present, there is no technological solution similar to an EMV microchip that can significantly reduce card-not-present fraud.\n",
    "\n",
    "Instead, the burden is on both credit card issuers and merchants to employ stronger digital security measures to identify and block fraudulent transactions in real-time."
   ]
  },
  {
   "cell_type": "markdown",
   "metadata": {
    "id": "B134nO3CQbDp"
   },
   "source": [
    "**Columns to use for analysis**\n",
    "\n",
    "I don't see any missing values in the dataset. So, i will go ahead and select the columns that i will be using in the project!"
   ]
  },
  {
   "cell_type": "markdown",
   "metadata": {
    "id": "ydju3cdZQD13"
   },
   "source": [
    "Columns that will be going to use for the project:\n",
    "\n",
    "* category\n",
    "* amount\n",
    "* city_population\n",
    "* long\n",
    "* lat\n",
    "* job\n",
    "* gender\n",
    "* is_fraud"
   ]
  },
  {
   "cell_type": "code",
   "execution_count": null,
   "metadata": {
    "colab": {
     "base_uri": "https://localhost:8080/",
     "height": 424
    },
    "executionInfo": {
     "elapsed": 191,
     "status": "ok",
     "timestamp": 1679260455248,
     "user": {
      "displayName": "Tin Liman",
      "userId": "01796335397974011301"
     },
     "user_tz": 420
    },
    "id": "hc4M2MVpBJ8q",
    "outputId": "537a026a-1a26-4f83-d015-389a09129d65"
   },
   "outputs": [
    {
     "data": {
      "text/html": [
       "\n",
       "  <div id=\"df-139c7070-af3c-422f-aac3-57c0ba1121d4\">\n",
       "    <div class=\"colab-df-container\">\n",
       "      <div>\n",
       "<style scoped>\n",
       "    .dataframe tbody tr th:only-of-type {\n",
       "        vertical-align: middle;\n",
       "    }\n",
       "\n",
       "    .dataframe tbody tr th {\n",
       "        vertical-align: top;\n",
       "    }\n",
       "\n",
       "    .dataframe thead th {\n",
       "        text-align: right;\n",
       "    }\n",
       "</style>\n",
       "<table border=\"1\" class=\"dataframe\">\n",
       "  <thead>\n",
       "    <tr style=\"text-align: right;\">\n",
       "      <th></th>\n",
       "      <th>category</th>\n",
       "      <th>amt</th>\n",
       "      <th>city_pop</th>\n",
       "      <th>long</th>\n",
       "      <th>lat</th>\n",
       "      <th>job</th>\n",
       "      <th>gender</th>\n",
       "      <th>is_fraud</th>\n",
       "    </tr>\n",
       "  </thead>\n",
       "  <tbody>\n",
       "    <tr>\n",
       "      <th>0</th>\n",
       "      <td>misc_net</td>\n",
       "      <td>4.97</td>\n",
       "      <td>3495</td>\n",
       "      <td>-81.1781</td>\n",
       "      <td>36.0788</td>\n",
       "      <td>Psychologist, counselling</td>\n",
       "      <td>F</td>\n",
       "      <td>0</td>\n",
       "    </tr>\n",
       "    <tr>\n",
       "      <th>1</th>\n",
       "      <td>grocery_pos</td>\n",
       "      <td>107.23</td>\n",
       "      <td>149</td>\n",
       "      <td>-118.2105</td>\n",
       "      <td>48.8878</td>\n",
       "      <td>Special educational needs teacher</td>\n",
       "      <td>F</td>\n",
       "      <td>0</td>\n",
       "    </tr>\n",
       "    <tr>\n",
       "      <th>2</th>\n",
       "      <td>entertainment</td>\n",
       "      <td>220.11</td>\n",
       "      <td>4154</td>\n",
       "      <td>-112.2620</td>\n",
       "      <td>42.1808</td>\n",
       "      <td>Nature conservation officer</td>\n",
       "      <td>M</td>\n",
       "      <td>0</td>\n",
       "    </tr>\n",
       "    <tr>\n",
       "      <th>3</th>\n",
       "      <td>gas_transport</td>\n",
       "      <td>45.00</td>\n",
       "      <td>1939</td>\n",
       "      <td>-112.1138</td>\n",
       "      <td>46.2306</td>\n",
       "      <td>Patent attorney</td>\n",
       "      <td>M</td>\n",
       "      <td>0</td>\n",
       "    </tr>\n",
       "    <tr>\n",
       "      <th>4</th>\n",
       "      <td>misc_pos</td>\n",
       "      <td>41.96</td>\n",
       "      <td>99</td>\n",
       "      <td>-79.4629</td>\n",
       "      <td>38.4207</td>\n",
       "      <td>Dance movement psychotherapist</td>\n",
       "      <td>M</td>\n",
       "      <td>0</td>\n",
       "    </tr>\n",
       "    <tr>\n",
       "      <th>...</th>\n",
       "      <td>...</td>\n",
       "      <td>...</td>\n",
       "      <td>...</td>\n",
       "      <td>...</td>\n",
       "      <td>...</td>\n",
       "      <td>...</td>\n",
       "      <td>...</td>\n",
       "      <td>...</td>\n",
       "    </tr>\n",
       "    <tr>\n",
       "      <th>1296670</th>\n",
       "      <td>entertainment</td>\n",
       "      <td>15.56</td>\n",
       "      <td>258</td>\n",
       "      <td>-112.4777</td>\n",
       "      <td>37.7175</td>\n",
       "      <td>Geoscientist</td>\n",
       "      <td>M</td>\n",
       "      <td>0</td>\n",
       "    </tr>\n",
       "    <tr>\n",
       "      <th>1296671</th>\n",
       "      <td>food_dining</td>\n",
       "      <td>51.70</td>\n",
       "      <td>100</td>\n",
       "      <td>-77.5101</td>\n",
       "      <td>39.2667</td>\n",
       "      <td>Production assistant, television</td>\n",
       "      <td>M</td>\n",
       "      <td>0</td>\n",
       "    </tr>\n",
       "    <tr>\n",
       "      <th>1296672</th>\n",
       "      <td>food_dining</td>\n",
       "      <td>105.93</td>\n",
       "      <td>899</td>\n",
       "      <td>-105.8189</td>\n",
       "      <td>32.9396</td>\n",
       "      <td>Naval architect</td>\n",
       "      <td>M</td>\n",
       "      <td>0</td>\n",
       "    </tr>\n",
       "    <tr>\n",
       "      <th>1296673</th>\n",
       "      <td>food_dining</td>\n",
       "      <td>74.90</td>\n",
       "      <td>1126</td>\n",
       "      <td>-102.5411</td>\n",
       "      <td>43.3526</td>\n",
       "      <td>Volunteer coordinator</td>\n",
       "      <td>M</td>\n",
       "      <td>0</td>\n",
       "    </tr>\n",
       "    <tr>\n",
       "      <th>1296674</th>\n",
       "      <td>food_dining</td>\n",
       "      <td>4.30</td>\n",
       "      <td>218</td>\n",
       "      <td>-113.8748</td>\n",
       "      <td>45.8433</td>\n",
       "      <td>Therapist, horticultural</td>\n",
       "      <td>M</td>\n",
       "      <td>0</td>\n",
       "    </tr>\n",
       "  </tbody>\n",
       "</table>\n",
       "<p>1296675 rows × 8 columns</p>\n",
       "</div>\n",
       "      <button class=\"colab-df-convert\" onclick=\"convertToInteractive('df-139c7070-af3c-422f-aac3-57c0ba1121d4')\"\n",
       "              title=\"Convert this dataframe to an interactive table.\"\n",
       "              style=\"display:none;\">\n",
       "        \n",
       "  <svg xmlns=\"http://www.w3.org/2000/svg\" height=\"24px\"viewBox=\"0 0 24 24\"\n",
       "       width=\"24px\">\n",
       "    <path d=\"M0 0h24v24H0V0z\" fill=\"none\"/>\n",
       "    <path d=\"M18.56 5.44l.94 2.06.94-2.06 2.06-.94-2.06-.94-.94-2.06-.94 2.06-2.06.94zm-11 1L8.5 8.5l.94-2.06 2.06-.94-2.06-.94L8.5 2.5l-.94 2.06-2.06.94zm10 10l.94 2.06.94-2.06 2.06-.94-2.06-.94-.94-2.06-.94 2.06-2.06.94z\"/><path d=\"M17.41 7.96l-1.37-1.37c-.4-.4-.92-.59-1.43-.59-.52 0-1.04.2-1.43.59L10.3 9.45l-7.72 7.72c-.78.78-.78 2.05 0 2.83L4 21.41c.39.39.9.59 1.41.59.51 0 1.02-.2 1.41-.59l7.78-7.78 2.81-2.81c.8-.78.8-2.07 0-2.86zM5.41 20L4 18.59l7.72-7.72 1.47 1.35L5.41 20z\"/>\n",
       "  </svg>\n",
       "      </button>\n",
       "      \n",
       "  <style>\n",
       "    .colab-df-container {\n",
       "      display:flex;\n",
       "      flex-wrap:wrap;\n",
       "      gap: 12px;\n",
       "    }\n",
       "\n",
       "    .colab-df-convert {\n",
       "      background-color: #E8F0FE;\n",
       "      border: none;\n",
       "      border-radius: 50%;\n",
       "      cursor: pointer;\n",
       "      display: none;\n",
       "      fill: #1967D2;\n",
       "      height: 32px;\n",
       "      padding: 0 0 0 0;\n",
       "      width: 32px;\n",
       "    }\n",
       "\n",
       "    .colab-df-convert:hover {\n",
       "      background-color: #E2EBFA;\n",
       "      box-shadow: 0px 1px 2px rgba(60, 64, 67, 0.3), 0px 1px 3px 1px rgba(60, 64, 67, 0.15);\n",
       "      fill: #174EA6;\n",
       "    }\n",
       "\n",
       "    [theme=dark] .colab-df-convert {\n",
       "      background-color: #3B4455;\n",
       "      fill: #D2E3FC;\n",
       "    }\n",
       "\n",
       "    [theme=dark] .colab-df-convert:hover {\n",
       "      background-color: #434B5C;\n",
       "      box-shadow: 0px 1px 3px 1px rgba(0, 0, 0, 0.15);\n",
       "      filter: drop-shadow(0px 1px 2px rgba(0, 0, 0, 0.3));\n",
       "      fill: #FFFFFF;\n",
       "    }\n",
       "  </style>\n",
       "\n",
       "      <script>\n",
       "        const buttonEl =\n",
       "          document.querySelector('#df-139c7070-af3c-422f-aac3-57c0ba1121d4 button.colab-df-convert');\n",
       "        buttonEl.style.display =\n",
       "          google.colab.kernel.accessAllowed ? 'block' : 'none';\n",
       "\n",
       "        async function convertToInteractive(key) {\n",
       "          const element = document.querySelector('#df-139c7070-af3c-422f-aac3-57c0ba1121d4');\n",
       "          const dataTable =\n",
       "            await google.colab.kernel.invokeFunction('convertToInteractive',\n",
       "                                                     [key], {});\n",
       "          if (!dataTable) return;\n",
       "\n",
       "          const docLinkHtml = 'Like what you see? Visit the ' +\n",
       "            '<a target=\"_blank\" href=https://colab.research.google.com/notebooks/data_table.ipynb>data table notebook</a>'\n",
       "            + ' to learn more about interactive tables.';\n",
       "          element.innerHTML = '';\n",
       "          dataTable['output_type'] = 'display_data';\n",
       "          await google.colab.output.renderOutput(dataTable, element);\n",
       "          const docLink = document.createElement('div');\n",
       "          docLink.innerHTML = docLinkHtml;\n",
       "          element.appendChild(docLink);\n",
       "        }\n",
       "      </script>\n",
       "    </div>\n",
       "  </div>\n",
       "  "
      ],
      "text/plain": [
       "              category     amt  city_pop      long      lat  \\\n",
       "0             misc_net    4.97      3495  -81.1781  36.0788   \n",
       "1          grocery_pos  107.23       149 -118.2105  48.8878   \n",
       "2        entertainment  220.11      4154 -112.2620  42.1808   \n",
       "3        gas_transport   45.00      1939 -112.1138  46.2306   \n",
       "4             misc_pos   41.96        99  -79.4629  38.4207   \n",
       "...                ...     ...       ...       ...      ...   \n",
       "1296670  entertainment   15.56       258 -112.4777  37.7175   \n",
       "1296671    food_dining   51.70       100  -77.5101  39.2667   \n",
       "1296672    food_dining  105.93       899 -105.8189  32.9396   \n",
       "1296673    food_dining   74.90      1126 -102.5411  43.3526   \n",
       "1296674    food_dining    4.30       218 -113.8748  45.8433   \n",
       "\n",
       "                                       job gender  is_fraud  \n",
       "0                Psychologist, counselling      F         0  \n",
       "1        Special educational needs teacher      F         0  \n",
       "2              Nature conservation officer      M         0  \n",
       "3                          Patent attorney      M         0  \n",
       "4           Dance movement psychotherapist      M         0  \n",
       "...                                    ...    ...       ...  \n",
       "1296670                       Geoscientist      M         0  \n",
       "1296671   Production assistant, television      M         0  \n",
       "1296672                    Naval architect      M         0  \n",
       "1296673              Volunteer coordinator      M         0  \n",
       "1296674           Therapist, horticultural      M         0  \n",
       "\n",
       "[1296675 rows x 8 columns]"
      ]
     },
     "execution_count": 10,
     "metadata": {},
     "output_type": "execute_result"
    }
   ],
   "source": [
    "cols_to_use= ['category', 'amt','city_pop', 'long', 'lat', 'job','gender','is_fraud']\n",
    "cols_df= fraud_train_df[cols_to_use]\n",
    "cols_df"
   ]
  },
  {
   "cell_type": "code",
   "execution_count": null,
   "metadata": {
    "colab": {
     "base_uri": "https://localhost:8080/"
    },
    "executionInfo": {
     "elapsed": 801,
     "status": "ok",
     "timestamp": 1679260458916,
     "user": {
      "displayName": "Tin Liman",
      "userId": "01796335397974011301"
     },
     "user_tz": 420
    },
    "id": "0mCVunxDBJ8q",
    "outputId": "51632f75-0445-4edc-bdb6-f879aca4493e"
   },
   "outputs": [
    {
     "name": "stdout",
     "output_type": "stream",
     "text": [
      "<class 'pandas.core.frame.DataFrame'>\n",
      "RangeIndex: 1296675 entries, 0 to 1296674\n",
      "Data columns (total 8 columns):\n",
      " #   Column    Non-Null Count    Dtype  \n",
      "---  ------    --------------    -----  \n",
      " 0   category  1296675 non-null  object \n",
      " 1   amt       1296675 non-null  float64\n",
      " 2   city_pop  1296675 non-null  int64  \n",
      " 3   long      1296675 non-null  float64\n",
      " 4   lat       1296675 non-null  float64\n",
      " 5   job       1296675 non-null  object \n",
      " 6   gender    1296675 non-null  object \n",
      " 7   is_fraud  1296675 non-null  int64  \n",
      "dtypes: float64(3), int64(2), object(3)\n",
      "memory usage: 79.1+ MB\n"
     ]
    }
   ],
   "source": [
    "cols_df.info()"
   ]
  },
  {
   "cell_type": "markdown",
   "metadata": {
    "id": "rFAWHOdSUHR1"
   },
   "source": [
    "Improved Understanding of Variables Data analysts can significantly improve their comprehension of many factors related to the dataset. Using EDA, they can extract various information such as averages, means, minimum and maximum, and more such information is required for preprocessing the data appropriately."
   ]
  },
  {
   "cell_type": "code",
   "execution_count": null,
   "metadata": {
    "colab": {
     "base_uri": "https://localhost:8080/",
     "height": 300
    },
    "executionInfo": {
     "elapsed": 405,
     "status": "ok",
     "timestamp": 1679179341876,
     "user": {
      "displayName": "Tin Liman",
      "userId": "01796335397974011301"
     },
     "user_tz": 420
    },
    "id": "u2AdHu6xRXV1",
    "outputId": "baee0eff-1f69-45a2-bf16-f68bad9ebc22"
   },
   "outputs": [
    {
     "data": {
      "text/html": [
       "\n",
       "  <div id=\"df-9c30477b-84c6-494f-988f-4e76ca729568\">\n",
       "    <div class=\"colab-df-container\">\n",
       "      <div>\n",
       "<style scoped>\n",
       "    .dataframe tbody tr th:only-of-type {\n",
       "        vertical-align: middle;\n",
       "    }\n",
       "\n",
       "    .dataframe tbody tr th {\n",
       "        vertical-align: top;\n",
       "    }\n",
       "\n",
       "    .dataframe thead th {\n",
       "        text-align: right;\n",
       "    }\n",
       "</style>\n",
       "<table border=\"1\" class=\"dataframe\">\n",
       "  <thead>\n",
       "    <tr style=\"text-align: right;\">\n",
       "      <th></th>\n",
       "      <th>amt</th>\n",
       "      <th>city_pop</th>\n",
       "      <th>long</th>\n",
       "      <th>lat</th>\n",
       "      <th>is_fraud</th>\n",
       "    </tr>\n",
       "  </thead>\n",
       "  <tbody>\n",
       "    <tr>\n",
       "      <th>count</th>\n",
       "      <td>1.296675e+06</td>\n",
       "      <td>1.296675e+06</td>\n",
       "      <td>1.296675e+06</td>\n",
       "      <td>1.296675e+06</td>\n",
       "      <td>1.296675e+06</td>\n",
       "    </tr>\n",
       "    <tr>\n",
       "      <th>mean</th>\n",
       "      <td>7.035104e+01</td>\n",
       "      <td>8.882444e+04</td>\n",
       "      <td>-9.022634e+01</td>\n",
       "      <td>3.853762e+01</td>\n",
       "      <td>5.788652e-03</td>\n",
       "    </tr>\n",
       "    <tr>\n",
       "      <th>std</th>\n",
       "      <td>1.603160e+02</td>\n",
       "      <td>3.019564e+05</td>\n",
       "      <td>1.375908e+01</td>\n",
       "      <td>5.075808e+00</td>\n",
       "      <td>7.586269e-02</td>\n",
       "    </tr>\n",
       "    <tr>\n",
       "      <th>min</th>\n",
       "      <td>1.000000e+00</td>\n",
       "      <td>2.300000e+01</td>\n",
       "      <td>-1.656723e+02</td>\n",
       "      <td>2.002710e+01</td>\n",
       "      <td>0.000000e+00</td>\n",
       "    </tr>\n",
       "    <tr>\n",
       "      <th>25%</th>\n",
       "      <td>9.650000e+00</td>\n",
       "      <td>7.430000e+02</td>\n",
       "      <td>-9.679800e+01</td>\n",
       "      <td>3.462050e+01</td>\n",
       "      <td>0.000000e+00</td>\n",
       "    </tr>\n",
       "    <tr>\n",
       "      <th>50%</th>\n",
       "      <td>4.752000e+01</td>\n",
       "      <td>2.456000e+03</td>\n",
       "      <td>-8.747690e+01</td>\n",
       "      <td>3.935430e+01</td>\n",
       "      <td>0.000000e+00</td>\n",
       "    </tr>\n",
       "    <tr>\n",
       "      <th>75%</th>\n",
       "      <td>8.314000e+01</td>\n",
       "      <td>2.032800e+04</td>\n",
       "      <td>-8.015800e+01</td>\n",
       "      <td>4.194040e+01</td>\n",
       "      <td>0.000000e+00</td>\n",
       "    </tr>\n",
       "    <tr>\n",
       "      <th>max</th>\n",
       "      <td>2.894890e+04</td>\n",
       "      <td>2.906700e+06</td>\n",
       "      <td>-6.795030e+01</td>\n",
       "      <td>6.669330e+01</td>\n",
       "      <td>1.000000e+00</td>\n",
       "    </tr>\n",
       "  </tbody>\n",
       "</table>\n",
       "</div>\n",
       "      <button class=\"colab-df-convert\" onclick=\"convertToInteractive('df-9c30477b-84c6-494f-988f-4e76ca729568')\"\n",
       "              title=\"Convert this dataframe to an interactive table.\"\n",
       "              style=\"display:none;\">\n",
       "        \n",
       "  <svg xmlns=\"http://www.w3.org/2000/svg\" height=\"24px\"viewBox=\"0 0 24 24\"\n",
       "       width=\"24px\">\n",
       "    <path d=\"M0 0h24v24H0V0z\" fill=\"none\"/>\n",
       "    <path d=\"M18.56 5.44l.94 2.06.94-2.06 2.06-.94-2.06-.94-.94-2.06-.94 2.06-2.06.94zm-11 1L8.5 8.5l.94-2.06 2.06-.94-2.06-.94L8.5 2.5l-.94 2.06-2.06.94zm10 10l.94 2.06.94-2.06 2.06-.94-2.06-.94-.94-2.06-.94 2.06-2.06.94z\"/><path d=\"M17.41 7.96l-1.37-1.37c-.4-.4-.92-.59-1.43-.59-.52 0-1.04.2-1.43.59L10.3 9.45l-7.72 7.72c-.78.78-.78 2.05 0 2.83L4 21.41c.39.39.9.59 1.41.59.51 0 1.02-.2 1.41-.59l7.78-7.78 2.81-2.81c.8-.78.8-2.07 0-2.86zM5.41 20L4 18.59l7.72-7.72 1.47 1.35L5.41 20z\"/>\n",
       "  </svg>\n",
       "      </button>\n",
       "      \n",
       "  <style>\n",
       "    .colab-df-container {\n",
       "      display:flex;\n",
       "      flex-wrap:wrap;\n",
       "      gap: 12px;\n",
       "    }\n",
       "\n",
       "    .colab-df-convert {\n",
       "      background-color: #E8F0FE;\n",
       "      border: none;\n",
       "      border-radius: 50%;\n",
       "      cursor: pointer;\n",
       "      display: none;\n",
       "      fill: #1967D2;\n",
       "      height: 32px;\n",
       "      padding: 0 0 0 0;\n",
       "      width: 32px;\n",
       "    }\n",
       "\n",
       "    .colab-df-convert:hover {\n",
       "      background-color: #E2EBFA;\n",
       "      box-shadow: 0px 1px 2px rgba(60, 64, 67, 0.3), 0px 1px 3px 1px rgba(60, 64, 67, 0.15);\n",
       "      fill: #174EA6;\n",
       "    }\n",
       "\n",
       "    [theme=dark] .colab-df-convert {\n",
       "      background-color: #3B4455;\n",
       "      fill: #D2E3FC;\n",
       "    }\n",
       "\n",
       "    [theme=dark] .colab-df-convert:hover {\n",
       "      background-color: #434B5C;\n",
       "      box-shadow: 0px 1px 3px 1px rgba(0, 0, 0, 0.15);\n",
       "      filter: drop-shadow(0px 1px 2px rgba(0, 0, 0, 0.3));\n",
       "      fill: #FFFFFF;\n",
       "    }\n",
       "  </style>\n",
       "\n",
       "      <script>\n",
       "        const buttonEl =\n",
       "          document.querySelector('#df-9c30477b-84c6-494f-988f-4e76ca729568 button.colab-df-convert');\n",
       "        buttonEl.style.display =\n",
       "          google.colab.kernel.accessAllowed ? 'block' : 'none';\n",
       "\n",
       "        async function convertToInteractive(key) {\n",
       "          const element = document.querySelector('#df-9c30477b-84c6-494f-988f-4e76ca729568');\n",
       "          const dataTable =\n",
       "            await google.colab.kernel.invokeFunction('convertToInteractive',\n",
       "                                                     [key], {});\n",
       "          if (!dataTable) return;\n",
       "\n",
       "          const docLinkHtml = 'Like what you see? Visit the ' +\n",
       "            '<a target=\"_blank\" href=https://colab.research.google.com/notebooks/data_table.ipynb>data table notebook</a>'\n",
       "            + ' to learn more about interactive tables.';\n",
       "          element.innerHTML = '';\n",
       "          dataTable['output_type'] = 'display_data';\n",
       "          await google.colab.output.renderOutput(dataTable, element);\n",
       "          const docLink = document.createElement('div');\n",
       "          docLink.innerHTML = docLinkHtml;\n",
       "          element.appendChild(docLink);\n",
       "        }\n",
       "      </script>\n",
       "    </div>\n",
       "  </div>\n",
       "  "
      ],
      "text/plain": [
       "                amt      city_pop          long           lat      is_fraud\n",
       "count  1.296675e+06  1.296675e+06  1.296675e+06  1.296675e+06  1.296675e+06\n",
       "mean   7.035104e+01  8.882444e+04 -9.022634e+01  3.853762e+01  5.788652e-03\n",
       "std    1.603160e+02  3.019564e+05  1.375908e+01  5.075808e+00  7.586269e-02\n",
       "min    1.000000e+00  2.300000e+01 -1.656723e+02  2.002710e+01  0.000000e+00\n",
       "25%    9.650000e+00  7.430000e+02 -9.679800e+01  3.462050e+01  0.000000e+00\n",
       "50%    4.752000e+01  2.456000e+03 -8.747690e+01  3.935430e+01  0.000000e+00\n",
       "75%    8.314000e+01  2.032800e+04 -8.015800e+01  4.194040e+01  0.000000e+00\n",
       "max    2.894890e+04  2.906700e+06 -6.795030e+01  6.669330e+01  1.000000e+00"
      ]
     },
     "execution_count": 9,
     "metadata": {},
     "output_type": "execute_result"
    }
   ],
   "source": [
    "cols_df.describe()"
   ]
  },
  {
   "cell_type": "code",
   "execution_count": null,
   "metadata": {
    "colab": {
     "base_uri": "https://localhost:8080/"
    },
    "executionInfo": {
     "elapsed": 640,
     "status": "ok",
     "timestamp": 1678232789584,
     "user": {
      "displayName": "Tin Liman",
      "userId": "01796335397974011301"
     },
     "user_tz": 480
    },
    "id": "If7CbsInRXZA",
    "outputId": "96e55f48-2769-4339-ff11-a229eaa924cd"
   },
   "outputs": [
    {
     "data": {
      "text/plain": [
       "category       14\n",
       "amt         52928\n",
       "city_pop      879\n",
       "long          969\n",
       "lat           968\n",
       "job           494\n",
       "gender          2\n",
       "is_fraud        2\n",
       "dtype: int64"
      ]
     },
     "execution_count": 13,
     "metadata": {},
     "output_type": "execute_result"
    }
   ],
   "source": [
    "cols_df[cols_to_use].nunique()"
   ]
  },
  {
   "cell_type": "markdown",
   "metadata": {
    "id": "MkDwgeLxSaBo"
   },
   "source": [
    "Looking for duplicate"
   ]
  },
  {
   "cell_type": "code",
   "execution_count": null,
   "metadata": {
    "colab": {
     "base_uri": "https://localhost:8080/"
    },
    "executionInfo": {
     "elapsed": 618,
     "status": "ok",
     "timestamp": 1678232792508,
     "user": {
      "displayName": "Tin Liman",
      "userId": "01796335397974011301"
     },
     "user_tz": 480
    },
    "id": "zR5jn_mVRXca",
    "outputId": "fe6dc93a-d561-4fcf-87e8-10769aa708b0"
   },
   "outputs": [
    {
     "data": {
      "text/plain": [
       "23886"
      ]
     },
     "execution_count": 14,
     "metadata": {},
     "output_type": "execute_result"
    }
   ],
   "source": [
    "cols_df.duplicated().sum()"
   ]
  },
  {
   "cell_type": "markdown",
   "metadata": {
    "id": "Sc4fhTV1qsR0"
   },
   "source": [
    "## Ask & answer questions about the data"
   ]
  },
  {
   "cell_type": "markdown",
   "metadata": {
    "id": "cVlz4DPR1fUF"
   },
   "source": [
    "### Gender vs. Shopping Category"
   ]
  },
  {
   "cell_type": "markdown",
   "metadata": {
    "id": "f1Hn4Oc-23gd"
   },
   "source": [
    "The first question that pop-up in my mind would be the shopping behavior between gender. "
   ]
  },
  {
   "cell_type": "markdown",
   "metadata": {
    "id": "7UGZ-G2d4ekR"
   },
   "source": [
    "**Q1.What will be the relationship between the gender and the amount for the credit usage?**"
   ]
  },
  {
   "cell_type": "code",
   "execution_count": null,
   "metadata": {
    "colab": {
     "base_uri": "https://localhost:8080/",
     "height": 520
    },
    "executionInfo": {
     "elapsed": 19377,
     "status": "ok",
     "timestamp": 1679261024318,
     "user": {
      "displayName": "Tin Liman",
      "userId": "01796335397974011301"
     },
     "user_tz": 420
    },
    "id": "sbPalYYL46oJ",
    "outputId": "b3bad4a7-cefa-4761-e496-54f9adcc5350"
   },
   "outputs": [
    {
     "data": {
      "image/png": "[encoded data removed]",
      "text/plain": [
       "<Figure size 1224x576 with 1 Axes>"
      ]
     },
     "metadata": {
      "needs_background": "light"
     },
     "output_type": "display_data"
    }
   ],
   "source": [
    "plt.figure(figsize=(17,8))\n",
    "sns.barplot(x='gender', y='amt', data=cols_df, hue= 'category').set(title='Gender vs. Shopping Category');"
   ]
  },
  {
   "cell_type": "markdown",
   "metadata": {
    "id": "odlsTgA6gpgG"
   },
   "source": [
    "**Insights:**\n",
    "\n",
    "It is easy to tell the category that most of the man and women mostly shop seems ways different.\n",
    "Women shop grocery and miscellaneous category compares to men.\n",
    "They both shop on online miscellaneous category however, men shop for Travel category a lot higher than women.\n",
    "\n",
    "The credit usages vary between men vs. women depends on category that they shop but I can see there are fraud charges on every categories.\n",
    "\n",
    "With digital crime and online fraud of all kinds on the rise, it’s more important than ever for organizations to take firm and clear steps to prevent payment card fraud through advanced technology and strong security measures."
   ]
  },
  {
   "cell_type": "markdown",
   "metadata": {
    "id": "6Qnm-cCFz2Z1"
   },
   "source": [
    "### Fraud Claims Per Category"
   ]
  },
  {
   "cell_type": "markdown",
   "metadata": {
    "id": "d1_dm-5T4ekS"
   },
   "source": [
    "**Q2.Which category has the highest percentage of sales?**"
   ]
  },
  {
   "cell_type": "code",
   "execution_count": null,
   "metadata": {
    "colab": {
     "base_uri": "https://localhost:8080/",
     "height": 633
    },
    "executionInfo": {
     "elapsed": 18610,
     "status": "ok",
     "timestamp": 1679179807496,
     "user": {
      "displayName": "Tin Liman",
      "userId": "01796335397974011301"
     },
     "user_tz": 420
    },
    "id": "yE5oUL6Y_Q49",
    "outputId": "025ea51b-ed37-4606-ab4b-2c9de5ec9f7c"
   },
   "outputs": [
    {
     "name": "stderr",
     "output_type": "stream",
     "text": [
      "/usr/local/lib/python3.9/dist-packages/plotly/express/_core.py:1637: FutureWarning: The frame.append method is deprecated and will be removed from pandas in a future version. Use pandas.concat instead.\n",
      "  df_all_trees = df_all_trees.append(df_tree, ignore_index=True)\n",
      "/usr/local/lib/python3.9/dist-packages/plotly/express/_core.py:1637: FutureWarning: The frame.append method is deprecated and will be removed from pandas in a future version. Use pandas.concat instead.\n",
      "  df_all_trees = df_all_trees.append(df_tree, ignore_index=True)\n"
     ]
    },
    {
     "data": {
      "text/html": [
       "<html>\n",
       "<head><meta charset=\"utf-8\" /></head>\n",
       "<body>\n",
       "    <div>            <script src=\"https://cdnjs.cloudflare.com/ajax/libs/mathjax/2.7.5/MathJax.js?config=TeX-AMS-MML_SVG\"></script><script type=\"text/javascript\">if (window.MathJax) {MathJax.Hub.Config({SVG: {font: \"STIX-Web\"}});}</script>                <script type=\"text/javascript\">window.PlotlyConfig = {MathJaxConfig: 'local'};</script>\n",
       "        <script src=\"https://cdn.plot.ly/plotly-2.8.3.min.js\"></script>                <div id=\"5d6cdf10-1995-4c3d-b47d-e48d62768a2d\" class=\"plotly-graph-div\" style=\"height:525px; width:100%;\"></div>            <script type=\"text/javascript\">                                    window.PLOTLYENV=window.PLOTLYENV || {};                                    if (document.getElementById(\"5d6cdf10-1995-4c3d-b47d-e48d62768a2d\")) {                    Plotly.newPlot(                        \"5d6cdf10-1995-4c3d-b47d-e48d62768a2d\",                        [{\"branchvalues\":\"total\",\"customdata\":[[0.004361844322194131],[0.0019590517409165753],[0.002255473744383862],[0.0015354354391208295],[0.005448653358872848],[0.0063480204163136374],[0.0008053309930360442],[0.004315872076400955],[0.013281240943999363],[0.01971851765519105],[0.003919205457345403],[0.0005388506126714752],[0.002637827320231256],[0.0003072629634330937],[0.0023627326548029625],[0.00033103884374376737],[0.012455533823401786],[0.023209713478931134],[0.001851060210174409],[0.0018735536687249485],[0.0015319733604325075],[0.0013639632485195692],[0.015377691880009106],[0.03232953106153065],[0.007511865477509607],[0.006101222687326962],[0.0015308913603702637],[0.0029729771079430307],[0.0057669955965486686],[0.0071837869719505966]],\"domain\":{\"x\":[0.0,1.0],\"y\":[0.0,1.0]},\"hovertemplate\":\"labels=%{label}<br>city_pop=%{value}<br>parent=%{parent}<br>id=%{id}<br>is_fraud=%{color}<extra></extra>\",\"ids\":[\"F/entertainment\",\"M/entertainment\",\"F/food_dining\",\"M/food_dining\",\"F/gas_transport\",\"M/gas_transport\",\"F/grocery_net\",\"M/grocery_net\",\"F/grocery_pos\",\"M/grocery_pos\",\"F/health_fitness\",\"M/health_fitness\",\"F/home\",\"M/home\",\"F/kids_pets\",\"M/kids_pets\",\"F/misc_net\",\"M/misc_net\",\"F/misc_pos\",\"M/misc_pos\",\"F/personal_care\",\"M/personal_care\",\"F/shopping_net\",\"M/shopping_net\",\"F/shopping_pos\",\"M/shopping_pos\",\"F/travel\",\"M/travel\",\"F\",\"M\"],\"labels\":[\"entertainment\",\"entertainment\",\"food_dining\",\"food_dining\",\"gas_transport\",\"gas_transport\",\"grocery_net\",\"grocery_net\",\"grocery_pos\",\"grocery_pos\",\"health_fitness\",\"health_fitness\",\"home\",\"home\",\"kids_pets\",\"kids_pets\",\"misc_net\",\"misc_net\",\"misc_pos\",\"misc_pos\",\"personal_care\",\"personal_care\",\"shopping_net\",\"shopping_net\",\"shopping_pos\",\"shopping_pos\",\"travel\",\"travel\",\"F\",\"M\"],\"marker\":{\"coloraxis\":\"coloraxis\",\"colors\":[0.004361844322194131,0.0019590517409165753,0.002255473744383862,0.0015354354391208295,0.005448653358872848,0.0063480204163136374,0.0008053309930360442,0.004315872076400955,0.013281240943999363,0.01971851765519105,0.003919205457345403,0.0005388506126714752,0.002637827320231256,0.0003072629634330937,0.0023627326548029625,0.00033103884374376737,0.012455533823401786,0.023209713478931134,0.001851060210174409,0.0018735536687249485,0.0015319733604325075,0.0013639632485195692,0.015377691880009106,0.03232953106153065,0.007511865477509607,0.006101222687326962,0.0015308913603702637,0.0029729771079430307,0.0057669955965486686,0.0071837869719505966]},\"name\":\"\",\"parents\":[\"F\",\"M\",\"F\",\"M\",\"F\",\"M\",\"F\",\"M\",\"F\",\"M\",\"F\",\"M\",\"F\",\"M\",\"F\",\"M\",\"F\",\"M\",\"F\",\"M\",\"F\",\"M\",\"F\",\"M\",\"F\",\"M\",\"F\",\"M\",\"\",\"\"],\"values\":[4812431726,3533586610,5122840835,3582358372,4235478655,4851665083,3417076983,1885320940,6256038374,4408833033,4336502943,2954295611,6247410463,4387014253,6081125586,3857831261,3254651593,2195665235,4398948211,3099610167,5224849992,2877092916,5917778865,3114598749,7448186761,4224964949,1883151917,1567121384,68636472904,46539958563],\"type\":\"sunburst\"}],                        {\"template\":{\"data\":{\"bar\":[{\"error_x\":{\"color\":\"#2a3f5f\"},\"error_y\":{\"color\":\"#2a3f5f\"},\"marker\":{\"line\":{\"color\":\"#E5ECF6\",\"width\":0.5},\"pattern\":{\"fillmode\":\"overlay\",\"size\":10,\"solidity\":0.2}},\"type\":\"bar\"}],\"barpolar\":[{\"marker\":{\"line\":{\"color\":\"#E5ECF6\",\"width\":0.5},\"pattern\":{\"fillmode\":\"overlay\",\"size\":10,\"solidity\":0.2}},\"type\":\"barpolar\"}],\"carpet\":[{\"aaxis\":{\"endlinecolor\":\"#2a3f5f\",\"gridcolor\":\"white\",\"linecolor\":\"white\",\"minorgridcolor\":\"white\",\"startlinecolor\":\"#2a3f5f\"},\"baxis\":{\"endlinecolor\":\"#2a3f5f\",\"gridcolor\":\"white\",\"linecolor\":\"white\",\"minorgridcolor\":\"white\",\"startlinecolor\":\"#2a3f5f\"},\"type\":\"carpet\"}],\"choropleth\":[{\"colorbar\":{\"outlinewidth\":0,\"ticks\":\"\"},\"type\":\"choropleth\"}],\"contour\":[{\"colorbar\":{\"outlinewidth\":0,\"ticks\":\"\"},\"colorscale\":[[0.0,\"#0d0887\"],[0.1111111111111111,\"#46039f\"],[0.2222222222222222,\"#7201a8\"],[0.3333333333333333,\"#9c179e\"],[0.4444444444444444,\"#bd3786\"],[0.5555555555555556,\"#d8576b\"],[0.6666666666666666,\"#ed7953\"],[0.7777777777777778,\"#fb9f3a\"],[0.8888888888888888,\"#fdca26\"],[1.0,\"#f0f921\"]],\"type\":\"contour\"}],\"contourcarpet\":[{\"colorbar\":{\"outlinewidth\":0,\"ticks\":\"\"},\"type\":\"contourcarpet\"}],\"heatmap\":[{\"colorbar\":{\"outlinewidth\":0,\"ticks\":\"\"},\"colorscale\":[[0.0,\"#0d0887\"],[0.1111111111111111,\"#46039f\"],[0.2222222222222222,\"#7201a8\"],[0.3333333333333333,\"#9c179e\"],[0.4444444444444444,\"#bd3786\"],[0.5555555555555556,\"#d8576b\"],[0.6666666666666666,\"#ed7953\"],[0.7777777777777778,\"#fb9f3a\"],[0.8888888888888888,\"#fdca26\"],[1.0,\"#f0f921\"]],\"type\":\"heatmap\"}],\"heatmapgl\":[{\"colorbar\":{\"outlinewidth\":0,\"ticks\":\"\"},\"colorscale\":[[0.0,\"#0d0887\"],[0.1111111111111111,\"#46039f\"],[0.2222222222222222,\"#7201a8\"],[0.3333333333333333,\"#9c179e\"],[0.4444444444444444,\"#bd3786\"],[0.5555555555555556,\"#d8576b\"],[0.6666666666666666,\"#ed7953\"],[0.7777777777777778,\"#fb9f3a\"],[0.8888888888888888,\"#fdca26\"],[1.0,\"#f0f921\"]],\"type\":\"heatmapgl\"}],\"histogram\":[{\"marker\":{\"pattern\":{\"fillmode\":\"overlay\",\"size\":10,\"solidity\":0.2}},\"type\":\"histogram\"}],\"histogram2d\":[{\"colorbar\":{\"outlinewidth\":0,\"ticks\":\"\"},\"colorscale\":[[0.0,\"#0d0887\"],[0.1111111111111111,\"#46039f\"],[0.2222222222222222,\"#7201a8\"],[0.3333333333333333,\"#9c179e\"],[0.4444444444444444,\"#bd3786\"],[0.5555555555555556,\"#d8576b\"],[0.6666666666666666,\"#ed7953\"],[0.7777777777777778,\"#fb9f3a\"],[0.8888888888888888,\"#fdca26\"],[1.0,\"#f0f921\"]],\"type\":\"histogram2d\"}],\"histogram2dcontour\":[{\"colorbar\":{\"outlinewidth\":0,\"ticks\":\"\"},\"colorscale\":[[0.0,\"#0d0887\"],[0.1111111111111111,\"#46039f\"],[0.2222222222222222,\"#7201a8\"],[0.3333333333333333,\"#9c179e\"],[0.4444444444444444,\"#bd3786\"],[0.5555555555555556,\"#d8576b\"],[0.6666666666666666,\"#ed7953\"],[0.7777777777777778,\"#fb9f3a\"],[0.8888888888888888,\"#fdca26\"],[1.0,\"#f0f921\"]],\"type\":\"histogram2dcontour\"}],\"mesh3d\":[{\"colorbar\":{\"outlinewidth\":0,\"ticks\":\"\"},\"type\":\"mesh3d\"}],\"parcoords\":[{\"line\":{\"colorbar\":{\"outlinewidth\":0,\"ticks\":\"\"}},\"type\":\"parcoords\"}],\"pie\":[{\"automargin\":true,\"type\":\"pie\"}],\"scatter\":[{\"marker\":{\"colorbar\":{\"outlinewidth\":0,\"ticks\":\"\"}},\"type\":\"scatter\"}],\"scatter3d\":[{\"line\":{\"colorbar\":{\"outlinewidth\":0,\"ticks\":\"\"}},\"marker\":{\"colorbar\":{\"outlinewidth\":0,\"ticks\":\"\"}},\"type\":\"scatter3d\"}],\"scattercarpet\":[{\"marker\":{\"colorbar\":{\"outlinewidth\":0,\"ticks\":\"\"}},\"type\":\"scattercarpet\"}],\"scattergeo\":[{\"marker\":{\"colorbar\":{\"outlinewidth\":0,\"ticks\":\"\"}},\"type\":\"scattergeo\"}],\"scattergl\":[{\"marker\":{\"colorbar\":{\"outlinewidth\":0,\"ticks\":\"\"}},\"type\":\"scattergl\"}],\"scattermapbox\":[{\"marker\":{\"colorbar\":{\"outlinewidth\":0,\"ticks\":\"\"}},\"type\":\"scattermapbox\"}],\"scatterpolar\":[{\"marker\":{\"colorbar\":{\"outlinewidth\":0,\"ticks\":\"\"}},\"type\":\"scatterpolar\"}],\"scatterpolargl\":[{\"marker\":{\"colorbar\":{\"outlinewidth\":0,\"ticks\":\"\"}},\"type\":\"scatterpolargl\"}],\"scatterternary\":[{\"marker\":{\"colorbar\":{\"outlinewidth\":0,\"ticks\":\"\"}},\"type\":\"scatterternary\"}],\"surface\":[{\"colorbar\":{\"outlinewidth\":0,\"ticks\":\"\"},\"colorscale\":[[0.0,\"#0d0887\"],[0.1111111111111111,\"#46039f\"],[0.2222222222222222,\"#7201a8\"],[0.3333333333333333,\"#9c179e\"],[0.4444444444444444,\"#bd3786\"],[0.5555555555555556,\"#d8576b\"],[0.6666666666666666,\"#ed7953\"],[0.7777777777777778,\"#fb9f3a\"],[0.8888888888888888,\"#fdca26\"],[1.0,\"#f0f921\"]],\"type\":\"surface\"}],\"table\":[{\"cells\":{\"fill\":{\"color\":\"#EBF0F8\"},\"line\":{\"color\":\"white\"}},\"header\":{\"fill\":{\"color\":\"#C8D4E3\"},\"line\":{\"color\":\"white\"}},\"type\":\"table\"}]},\"layout\":{\"annotationdefaults\":{\"arrowcolor\":\"#2a3f5f\",\"arrowhead\":0,\"arrowwidth\":1},\"autotypenumbers\":\"strict\",\"coloraxis\":{\"colorbar\":{\"outlinewidth\":0,\"ticks\":\"\"}},\"colorscale\":{\"diverging\":[[0,\"#8e0152\"],[0.1,\"#c51b7d\"],[0.2,\"#de77ae\"],[0.3,\"#f1b6da\"],[0.4,\"#fde0ef\"],[0.5,\"#f7f7f7\"],[0.6,\"#e6f5d0\"],[0.7,\"#b8e186\"],[0.8,\"#7fbc41\"],[0.9,\"#4d9221\"],[1,\"#276419\"]],\"sequential\":[[0.0,\"#0d0887\"],[0.1111111111111111,\"#46039f\"],[0.2222222222222222,\"#7201a8\"],[0.3333333333333333,\"#9c179e\"],[0.4444444444444444,\"#bd3786\"],[0.5555555555555556,\"#d8576b\"],[0.6666666666666666,\"#ed7953\"],[0.7777777777777778,\"#fb9f3a\"],[0.8888888888888888,\"#fdca26\"],[1.0,\"#f0f921\"]],\"sequentialminus\":[[0.0,\"#0d0887\"],[0.1111111111111111,\"#46039f\"],[0.2222222222222222,\"#7201a8\"],[0.3333333333333333,\"#9c179e\"],[0.4444444444444444,\"#bd3786\"],[0.5555555555555556,\"#d8576b\"],[0.6666666666666666,\"#ed7953\"],[0.7777777777777778,\"#fb9f3a\"],[0.8888888888888888,\"#fdca26\"],[1.0,\"#f0f921\"]]},\"colorway\":[\"#636efa\",\"#EF553B\",\"#00cc96\",\"#ab63fa\",\"#FFA15A\",\"#19d3f3\",\"#FF6692\",\"#B6E880\",\"#FF97FF\",\"#FECB52\"],\"font\":{\"color\":\"#2a3f5f\"},\"geo\":{\"bgcolor\":\"white\",\"lakecolor\":\"white\",\"landcolor\":\"#E5ECF6\",\"showlakes\":true,\"showland\":true,\"subunitcolor\":\"white\"},\"hoverlabel\":{\"align\":\"left\"},\"hovermode\":\"closest\",\"mapbox\":{\"style\":\"light\"},\"paper_bgcolor\":\"white\",\"plot_bgcolor\":\"#E5ECF6\",\"polar\":{\"angularaxis\":{\"gridcolor\":\"white\",\"linecolor\":\"white\",\"ticks\":\"\"},\"bgcolor\":\"#E5ECF6\",\"radialaxis\":{\"gridcolor\":\"white\",\"linecolor\":\"white\",\"ticks\":\"\"}},\"scene\":{\"xaxis\":{\"backgroundcolor\":\"#E5ECF6\",\"gridcolor\":\"white\",\"gridwidth\":2,\"linecolor\":\"white\",\"showbackground\":true,\"ticks\":\"\",\"zerolinecolor\":\"white\"},\"yaxis\":{\"backgroundcolor\":\"#E5ECF6\",\"gridcolor\":\"white\",\"gridwidth\":2,\"linecolor\":\"white\",\"showbackground\":true,\"ticks\":\"\",\"zerolinecolor\":\"white\"},\"zaxis\":{\"backgroundcolor\":\"#E5ECF6\",\"gridcolor\":\"white\",\"gridwidth\":2,\"linecolor\":\"white\",\"showbackground\":true,\"ticks\":\"\",\"zerolinecolor\":\"white\"}},\"shapedefaults\":{\"line\":{\"color\":\"#2a3f5f\"}},\"ternary\":{\"aaxis\":{\"gridcolor\":\"white\",\"linecolor\":\"white\",\"ticks\":\"\"},\"baxis\":{\"gridcolor\":\"white\",\"linecolor\":\"white\",\"ticks\":\"\"},\"bgcolor\":\"#E5ECF6\",\"caxis\":{\"gridcolor\":\"white\",\"linecolor\":\"white\",\"ticks\":\"\"}},\"title\":{\"x\":0.05},\"xaxis\":{\"automargin\":true,\"gridcolor\":\"white\",\"linecolor\":\"white\",\"ticks\":\"\",\"title\":{\"standoff\":15},\"zerolinecolor\":\"white\",\"zerolinewidth\":2},\"yaxis\":{\"automargin\":true,\"gridcolor\":\"white\",\"linecolor\":\"white\",\"ticks\":\"\",\"title\":{\"standoff\":15},\"zerolinecolor\":\"white\",\"zerolinewidth\":2}}},\"coloraxis\":{\"colorbar\":{\"title\":{\"text\":\"is_fraud\"}},\"colorscale\":[[0.0,\"rgb(103,0,31)\"],[0.1,\"rgb(178,24,43)\"],[0.2,\"rgb(214,96,77)\"],[0.3,\"rgb(244,165,130)\"],[0.4,\"rgb(253,219,199)\"],[0.5,\"rgb(247,247,247)\"],[0.6,\"rgb(209,229,240)\"],[0.7,\"rgb(146,197,222)\"],[0.8,\"rgb(67,147,195)\"],[0.9,\"rgb(33,102,172)\"],[1.0,\"rgb(5,48,97)\"]]},\"legend\":{\"tracegroupgap\":0},\"title\":{\"text\":\" Fraud Claims Per Category\"}},                        {\"responsive\": true}                    ).then(function(){\n",
       "                            \n",
       "var gd = document.getElementById('5d6cdf10-1995-4c3d-b47d-e48d62768a2d');\n",
       "var x = new MutationObserver(function (mutations, observer) {{\n",
       "        var display = window.getComputedStyle(gd).display;\n",
       "        if (!display || display === 'none') {{\n",
       "            console.log([gd, 'removed!']);\n",
       "            Plotly.purge(gd);\n",
       "            observer.disconnect();\n",
       "        }}\n",
       "}});\n",
       "\n",
       "// Listen for the removal of the full notebook cells\n",
       "var notebookContainer = gd.closest('#notebook-container');\n",
       "if (notebookContainer) {{\n",
       "    x.observe(notebookContainer, {childList: true});\n",
       "}}\n",
       "\n",
       "// Listen for the clearing of the current output cell\n",
       "var outputEl = gd.closest('.output');\n",
       "if (outputEl) {{\n",
       "    x.observe(outputEl, {childList: true});\n",
       "}}\n",
       "\n",
       "                        })                };                            </script>        </div>\n",
       "</body>\n",
       "</html>"
      ]
     },
     "metadata": {},
     "output_type": "display_data"
    }
   ],
   "source": [
    "fig= px.sunburst(cols_df, \n",
    "               path= ['gender', 'category'],\n",
    "               values= 'city_pop',\n",
    "               color= 'is_fraud',\n",
    "               title=' Fraud Claims Per Category',\n",
    "               color_continuous_scale= 'RdBu')\n",
    "fig.show();"
   ]
  },
  {
   "cell_type": "markdown",
   "metadata": {
    "id": "0UdCNoFfgnTP"
   },
   "source": [
    "**Insights:**\n",
    "\n",
    "People spent a lot of dollars $$ amount on online shopping miscellaneous category(shopping_net category and misc_net categories). \n",
    "There are a lot of fake online website nowadays that can easily get scamed by that. \n"
   ]
  },
  {
   "cell_type": "markdown",
   "metadata": {
    "id": "qgUmKkuO1UAc"
   },
   "source": [
    "### Highest Percentage on Shopping Category"
   ]
  },
  {
   "cell_type": "markdown",
   "metadata": {
    "id": "arBiLs597kS8"
   },
   "source": [
    "**Q3.Which category has the highest percentage of fraud claims?**"
   ]
  },
  {
   "cell_type": "code",
   "execution_count": null,
   "metadata": {
    "colab": {
     "base_uri": "https://localhost:8080/",
     "height": 756
    },
    "executionInfo": {
     "elapsed": 19295,
     "status": "ok",
     "timestamp": 1679180171186,
     "user": {
      "displayName": "Tin Liman",
      "userId": "01796335397974011301"
     },
     "user_tz": 420
    },
    "id": "Vzg1-p3hBJ8q",
    "outputId": "2c2bd67f-d362-4a76-e969-977c19371464"
   },
   "outputs": [
    {
     "name": "stderr",
     "output_type": "stream",
     "text": [
      "/usr/local/lib/python3.9/dist-packages/plotly/express/_core.py:1637: FutureWarning:\n",
      "\n",
      "The frame.append method is deprecated and will be removed from pandas in a future version. Use pandas.concat instead.\n",
      "\n",
      "/usr/local/lib/python3.9/dist-packages/plotly/express/_core.py:1637: FutureWarning:\n",
      "\n",
      "The frame.append method is deprecated and will be removed from pandas in a future version. Use pandas.concat instead.\n",
      "\n",
      "/usr/local/lib/python3.9/dist-packages/plotly/express/_core.py:1637: FutureWarning:\n",
      "\n",
      "The frame.append method is deprecated and will be removed from pandas in a future version. Use pandas.concat instead.\n",
      "\n"
     ]
    },
    {
     "data": {
      "text/html": [
       "<html>\n",
       "<head><meta charset=\"utf-8\" /></head>\n",
       "<body>\n",
       "    <div>            <script src=\"https://cdnjs.cloudflare.com/ajax/libs/mathjax/2.7.5/MathJax.js?config=TeX-AMS-MML_SVG\"></script><script type=\"text/javascript\">if (window.MathJax) {MathJax.Hub.Config({SVG: {font: \"STIX-Web\"}});}</script>                <script type=\"text/javascript\">window.PlotlyConfig = {MathJaxConfig: 'local'};</script>\n",
       "        <script src=\"https://cdn.plot.ly/plotly-2.8.3.min.js\"></script>                <div id=\"b3eb2c63-51bb-48cb-84a3-1ae4beab234a\" class=\"plotly-graph-div\" style=\"height:525px; width:100%;\"></div>            <script type=\"text/javascript\">                                    window.PLOTLYENV=window.PLOTLYENV || {};                                    if (document.getElementById(\"b3eb2c63-51bb-48cb-84a3-1ae4beab234a\")) {                    Plotly.newPlot(                        \"b3eb2c63-51bb-48cb-84a3-1ae4beab234a\",                        [{\"branchvalues\":\"total\",\"customdata\":[[\"gas_transport\"],[\"grocery_pos\"],[\"shopping_net\"],[\"shopping_net\"],[\"misc_net\"],[\"personal_care\"],[\"grocery_net\"],[\"shopping_pos\"],[\"entertainment\"],[\"kids_pets\"],[\"grocery_pos\"],[\"shopping_pos\"],[\"health_fitness\"],[\"home\"],[\"kids_pets\"],[\"travel\"],[\"personal_care\"],[\"gas_transport\"],[\"entertainment\"],[\"kids_pets\"],[\"health_fitness\"],[\"health_fitness\"],[\"grocery_net\"],[\"kids_pets\"],[\"personal_care\"],[\"gas_transport\"],[\"entertainment\"],[\"home\"],[\"misc_pos\"],[\"travel\"],[\"home\"],[\"food_dining\"],[\"personal_care\"],[\"misc_net\"],[\"grocery_pos\"],[\"entertainment\"],[\"misc_net\"],[\"misc_net\"],[\"travel\"],[\"shopping_pos\"],[\"personal_care\"],[\"kids_pets\"],[\"food_dining\"],[\"misc_pos\"],[\"food_dining\"],[\"food_dining\"],[\"shopping_pos\"],[\"health_fitness\"],[\"health_fitness\"],[\"home\"],[\"grocery_net\"],[\"misc_net\"],[\"misc_pos\"],[\"kids_pets\"],[\"misc_net\"],[\"entertainment\"],[\"shopping_pos\"],[\"shopping_net\"],[\"grocery_pos\"],[\"food_dining\"],[\"gas_transport\"],[\"grocery_net\"],[\"gas_transport\"],[\"misc_pos\"],[\"shopping_net\"],[\"shopping_net\"],[\"entertainment\"],[\"misc_pos\"],[\"gas_transport\"],[\"grocery_net\"],[\"shopping_net\"],[\"grocery_pos\"],[\"misc_net\"],[\"travel\"],[\"health_fitness\"],[\"misc_pos\"],[\"shopping_pos\"],[\"travel\"],[\"travel\"],[\"home\"],[\"health_fitness\"],[\"shopping_pos\"],[\"personal_care\"],[\"gas_transport\"],[\"shopping_net\"],[\"home\"],[\"food_dining\"],[\"travel\"],[\"entertainment\"],[\"grocery_pos\"],[\"kids_pets\"],[\"misc_pos\"],[\"grocery_net\"],[\"food_dining\"],[\"grocery_pos\"],[\"home\"],[\"grocery_net\"],[\"personal_care\"]],\"domain\":{\"x\":[0.0,1.0],\"y\":[0.0,1.0]},\"hovertemplate\":\"labels=%{label}<br>is_fraud=%{value}<br>parent=%{parent}<br>id=%{id}<br>category=%{customdata[0]}<extra></extra>\",\"ids\":[\"gas_transport/0/F\",\"grocery_pos/1/F\",\"shopping_net/1/M\",\"shopping_net/1\",\"misc_net/1\",\"personal_care/0/M\",\"grocery_net\",\"shopping_pos/0/M\",\"entertainment/1/M\",\"kids_pets/1/F\",\"grocery_pos/1/M\",\"shopping_pos\",\"health_fitness\",\"home\",\"kids_pets\",\"travel/1\",\"personal_care/1/M\",\"gas_transport/1\",\"entertainment/0\",\"kids_pets/0/F\",\"health_fitness/0\",\"health_fitness/0/F\",\"grocery_net/0/F\",\"kids_pets/0\",\"personal_care/1\",\"gas_transport/0\",\"entertainment/1\",\"home/0\",\"misc_pos/1/M\",\"travel\",\"home/0/F\",\"food_dining\",\"personal_care\",\"misc_net/1/F\",\"grocery_pos\",\"entertainment/0/M\",\"misc_net/1/M\",\"misc_net\",\"travel/0/F\",\"shopping_pos/0/F\",\"personal_care/0/F\",\"kids_pets/1/M\",\"food_dining/0\",\"misc_pos/0/F\",\"food_dining/1\",\"food_dining/0/F\",\"shopping_pos/1/M\",\"health_fitness/1/F\",\"health_fitness/1/M\",\"home/1/F\",\"grocery_net/0/M\",\"misc_net/0\",\"misc_pos/1\",\"kids_pets/0/M\",\"misc_net/0/M\",\"entertainment\",\"shopping_pos/1/F\",\"shopping_net/0/M\",\"grocery_pos/1\",\"food_dining/1/M\",\"gas_transport/1/M\",\"grocery_net/1/M\",\"gas_transport\",\"misc_pos\",\"shopping_net\",\"shopping_net/0\",\"entertainment/0/F\",\"misc_pos/0\",\"gas_transport/1/F\",\"grocery_net/0\",\"shopping_net/1/F\",\"grocery_pos/0/F\",\"misc_net/0/F\",\"travel/1/F\",\"health_fitness/0/M\",\"misc_pos/0/M\",\"shopping_pos/1\",\"travel/0/M\",\"travel/1/M\",\"home/1/M\",\"health_fitness/1\",\"shopping_pos/0\",\"personal_care/0\",\"gas_transport/0/M\",\"shopping_net/0/F\",\"home/1\",\"food_dining/1/F\",\"travel/0\",\"entertainment/1/F\",\"grocery_pos/0\",\"kids_pets/1\",\"misc_pos/1/F\",\"grocery_net/1\",\"food_dining/0/M\",\"grocery_pos/0/M\",\"home/0/M\",\"grocery_net/1/F\",\"personal_care/1/F\"],\"labels\":[\"F\",\"F\",\"M\",\"1\",\"1\",\"M\",\"grocery_net\",\"M\",\"M\",\"F\",\"M\",\"shopping_pos\",\"health_fitness\",\"home\",\"kids_pets\",\"1\",\"M\",\"1\",\"0\",\"F\",\"0\",\"F\",\"F\",\"0\",\"1\",\"0\",\"1\",\"0\",\"M\",\"travel\",\"F\",\"food_dining\",\"personal_care\",\"F\",\"grocery_pos\",\"M\",\"M\",\"misc_net\",\"F\",\"F\",\"F\",\"M\",\"0\",\"F\",\"1\",\"F\",\"M\",\"F\",\"M\",\"F\",\"M\",\"0\",\"1\",\"M\",\"M\",\"entertainment\",\"F\",\"M\",\"1\",\"M\",\"M\",\"M\",\"gas_transport\",\"misc_pos\",\"shopping_net\",\"0\",\"F\",\"0\",\"F\",\"0\",\"F\",\"F\",\"F\",\"F\",\"M\",\"M\",\"1\",\"M\",\"M\",\"M\",\"1\",\"0\",\"0\",\"M\",\"F\",\"1\",\"F\",\"0\",\"F\",\"0\",\"1\",\"F\",\"1\",\"M\",\"M\",\"M\",\"F\",\"F\"],\"marker\":{\"colors\":[\"#636efa\",\"#EF553B\",\"#00cc96\",\"#00cc96\",\"#ab63fa\",\"#FFA15A\",\"#19d3f3\",\"#FF6692\",\"#B6E880\",\"#FF97FF\",\"#EF553B\",\"#FF6692\",\"#FECB52\",\"#636efa\",\"#FF97FF\",\"#EF553B\",\"#FFA15A\",\"#636efa\",\"#B6E880\",\"#FF97FF\",\"#FECB52\",\"#FECB52\",\"#19d3f3\",\"#FF97FF\",\"#FFA15A\",\"#636efa\",\"#B6E880\",\"#636efa\",\"#00cc96\",\"#EF553B\",\"#636efa\",\"#ab63fa\",\"#FFA15A\",\"#ab63fa\",\"#EF553B\",\"#B6E880\",\"#ab63fa\",\"#ab63fa\",\"#EF553B\",\"#FF6692\",\"#FFA15A\",\"#FF97FF\",\"#ab63fa\",\"#00cc96\",\"#ab63fa\",\"#ab63fa\",\"#FF6692\",\"#FECB52\",\"#FECB52\",\"#636efa\",\"#19d3f3\",\"#ab63fa\",\"#00cc96\",\"#FF97FF\",\"#ab63fa\",\"#B6E880\",\"#FF6692\",\"#00cc96\",\"#EF553B\",\"#ab63fa\",\"#636efa\",\"#19d3f3\",\"#636efa\",\"#00cc96\",\"#00cc96\",\"#00cc96\",\"#B6E880\",\"#00cc96\",\"#636efa\",\"#19d3f3\",\"#00cc96\",\"#EF553B\",\"#ab63fa\",\"#EF553B\",\"#FECB52\",\"#00cc96\",\"#FF6692\",\"#EF553B\",\"#EF553B\",\"#636efa\",\"#FECB52\",\"#FF6692\",\"#FFA15A\",\"#636efa\",\"#00cc96\",\"#636efa\",\"#ab63fa\",\"#EF553B\",\"#B6E880\",\"#EF553B\",\"#FF97FF\",\"#00cc96\",\"#19d3f3\",\"#ab63fa\",\"#EF553B\",\"#636efa\",\"#19d3f3\",\"#FFA15A\"]},\"name\":\"\",\"parents\":[\"gas_transport/0\",\"grocery_pos/1\",\"shopping_net/1\",\"shopping_net\",\"misc_net\",\"personal_care/0\",\"\",\"shopping_pos/0\",\"entertainment/1\",\"kids_pets/1\",\"grocery_pos/1\",\"\",\"\",\"\",\"\",\"travel\",\"personal_care/1\",\"gas_transport\",\"entertainment\",\"kids_pets/0\",\"health_fitness\",\"health_fitness/0\",\"grocery_net/0\",\"kids_pets\",\"personal_care\",\"gas_transport\",\"entertainment\",\"home\",\"misc_pos/1\",\"\",\"home/0\",\"\",\"\",\"misc_net/1\",\"\",\"entertainment/0\",\"misc_net/1\",\"\",\"travel/0\",\"shopping_pos/0\",\"personal_care/0\",\"kids_pets/1\",\"food_dining\",\"misc_pos/0\",\"food_dining\",\"food_dining/0\",\"shopping_pos/1\",\"health_fitness/1\",\"health_fitness/1\",\"home/1\",\"grocery_net/0\",\"misc_net\",\"misc_pos\",\"kids_pets/0\",\"misc_net/0\",\"\",\"shopping_pos/1\",\"shopping_net/0\",\"grocery_pos\",\"food_dining/1\",\"gas_transport/1\",\"grocery_net/1\",\"\",\"\",\"\",\"shopping_net\",\"entertainment/0\",\"misc_pos\",\"gas_transport/1\",\"grocery_net\",\"shopping_net/1\",\"grocery_pos/0\",\"misc_net/0\",\"travel/1\",\"health_fitness/0\",\"misc_pos/0\",\"shopping_pos\",\"travel/0\",\"travel/1\",\"home/1\",\"health_fitness\",\"shopping_pos\",\"personal_care\",\"gas_transport/0\",\"shopping_net/0\",\"home\",\"food_dining/1\",\"travel\",\"entertainment/1\",\"grocery_pos\",\"kids_pets\",\"misc_pos/1\",\"grocery_net\",\"food_dining/0\",\"grocery_pos/0\",\"home/0\",\"grocery_net/1\",\"personal_care/1\"],\"values\":[0,751,1027,1713,915,0,134,0,87,190,992,843,133,198,239,116,58,618,0,0,0,0,0,0,220,0,233,0,85,116,0,151,220,392,1743,0,523,915,0,0,0,49,0,0,151,0,386,112,21,180,0,0,250,0,0,233,457,0,1743,35,363,77,618,250,1713,0,0,0,255,0,686,0,0,66,0,0,843,0,50,18,133,0,0,0,0,198,116,0,146,0,239,165,134,0,0,0,57,162],\"type\":\"treemap\"}],                        {\"template\":{\"data\":{\"bar\":[{\"error_x\":{\"color\":\"#2a3f5f\"},\"error_y\":{\"color\":\"#2a3f5f\"},\"marker\":{\"line\":{\"color\":\"#E5ECF6\",\"width\":0.5},\"pattern\":{\"fillmode\":\"overlay\",\"size\":10,\"solidity\":0.2}},\"type\":\"bar\"}],\"barpolar\":[{\"marker\":{\"line\":{\"color\":\"#E5ECF6\",\"width\":0.5},\"pattern\":{\"fillmode\":\"overlay\",\"size\":10,\"solidity\":0.2}},\"type\":\"barpolar\"}],\"carpet\":[{\"aaxis\":{\"endlinecolor\":\"#2a3f5f\",\"gridcolor\":\"white\",\"linecolor\":\"white\",\"minorgridcolor\":\"white\",\"startlinecolor\":\"#2a3f5f\"},\"baxis\":{\"endlinecolor\":\"#2a3f5f\",\"gridcolor\":\"white\",\"linecolor\":\"white\",\"minorgridcolor\":\"white\",\"startlinecolor\":\"#2a3f5f\"},\"type\":\"carpet\"}],\"choropleth\":[{\"colorbar\":{\"outlinewidth\":0,\"ticks\":\"\"},\"type\":\"choropleth\"}],\"contour\":[{\"colorbar\":{\"outlinewidth\":0,\"ticks\":\"\"},\"colorscale\":[[0.0,\"#0d0887\"],[0.1111111111111111,\"#46039f\"],[0.2222222222222222,\"#7201a8\"],[0.3333333333333333,\"#9c179e\"],[0.4444444444444444,\"#bd3786\"],[0.5555555555555556,\"#d8576b\"],[0.6666666666666666,\"#ed7953\"],[0.7777777777777778,\"#fb9f3a\"],[0.8888888888888888,\"#fdca26\"],[1.0,\"#f0f921\"]],\"type\":\"contour\"}],\"contourcarpet\":[{\"colorbar\":{\"outlinewidth\":0,\"ticks\":\"\"},\"type\":\"contourcarpet\"}],\"heatmap\":[{\"colorbar\":{\"outlinewidth\":0,\"ticks\":\"\"},\"colorscale\":[[0.0,\"#0d0887\"],[0.1111111111111111,\"#46039f\"],[0.2222222222222222,\"#7201a8\"],[0.3333333333333333,\"#9c179e\"],[0.4444444444444444,\"#bd3786\"],[0.5555555555555556,\"#d8576b\"],[0.6666666666666666,\"#ed7953\"],[0.7777777777777778,\"#fb9f3a\"],[0.8888888888888888,\"#fdca26\"],[1.0,\"#f0f921\"]],\"type\":\"heatmap\"}],\"heatmapgl\":[{\"colorbar\":{\"outlinewidth\":0,\"ticks\":\"\"},\"colorscale\":[[0.0,\"#0d0887\"],[0.1111111111111111,\"#46039f\"],[0.2222222222222222,\"#7201a8\"],[0.3333333333333333,\"#9c179e\"],[0.4444444444444444,\"#bd3786\"],[0.5555555555555556,\"#d8576b\"],[0.6666666666666666,\"#ed7953\"],[0.7777777777777778,\"#fb9f3a\"],[0.8888888888888888,\"#fdca26\"],[1.0,\"#f0f921\"]],\"type\":\"heatmapgl\"}],\"histogram\":[{\"marker\":{\"pattern\":{\"fillmode\":\"overlay\",\"size\":10,\"solidity\":0.2}},\"type\":\"histogram\"}],\"histogram2d\":[{\"colorbar\":{\"outlinewidth\":0,\"ticks\":\"\"},\"colorscale\":[[0.0,\"#0d0887\"],[0.1111111111111111,\"#46039f\"],[0.2222222222222222,\"#7201a8\"],[0.3333333333333333,\"#9c179e\"],[0.4444444444444444,\"#bd3786\"],[0.5555555555555556,\"#d8576b\"],[0.6666666666666666,\"#ed7953\"],[0.7777777777777778,\"#fb9f3a\"],[0.8888888888888888,\"#fdca26\"],[1.0,\"#f0f921\"]],\"type\":\"histogram2d\"}],\"histogram2dcontour\":[{\"colorbar\":{\"outlinewidth\":0,\"ticks\":\"\"},\"colorscale\":[[0.0,\"#0d0887\"],[0.1111111111111111,\"#46039f\"],[0.2222222222222222,\"#7201a8\"],[0.3333333333333333,\"#9c179e\"],[0.4444444444444444,\"#bd3786\"],[0.5555555555555556,\"#d8576b\"],[0.6666666666666666,\"#ed7953\"],[0.7777777777777778,\"#fb9f3a\"],[0.8888888888888888,\"#fdca26\"],[1.0,\"#f0f921\"]],\"type\":\"histogram2dcontour\"}],\"mesh3d\":[{\"colorbar\":{\"outlinewidth\":0,\"ticks\":\"\"},\"type\":\"mesh3d\"}],\"parcoords\":[{\"line\":{\"colorbar\":{\"outlinewidth\":0,\"ticks\":\"\"}},\"type\":\"parcoords\"}],\"pie\":[{\"automargin\":true,\"type\":\"pie\"}],\"scatter\":[{\"marker\":{\"colorbar\":{\"outlinewidth\":0,\"ticks\":\"\"}},\"type\":\"scatter\"}],\"scatter3d\":[{\"line\":{\"colorbar\":{\"outlinewidth\":0,\"ticks\":\"\"}},\"marker\":{\"colorbar\":{\"outlinewidth\":0,\"ticks\":\"\"}},\"type\":\"scatter3d\"}],\"scattercarpet\":[{\"marker\":{\"colorbar\":{\"outlinewidth\":0,\"ticks\":\"\"}},\"type\":\"scattercarpet\"}],\"scattergeo\":[{\"marker\":{\"colorbar\":{\"outlinewidth\":0,\"ticks\":\"\"}},\"type\":\"scattergeo\"}],\"scattergl\":[{\"marker\":{\"colorbar\":{\"outlinewidth\":0,\"ticks\":\"\"}},\"type\":\"scattergl\"}],\"scattermapbox\":[{\"marker\":{\"colorbar\":{\"outlinewidth\":0,\"ticks\":\"\"}},\"type\":\"scattermapbox\"}],\"scatterpolar\":[{\"marker\":{\"colorbar\":{\"outlinewidth\":0,\"ticks\":\"\"}},\"type\":\"scatterpolar\"}],\"scatterpolargl\":[{\"marker\":{\"colorbar\":{\"outlinewidth\":0,\"ticks\":\"\"}},\"type\":\"scatterpolargl\"}],\"scatterternary\":[{\"marker\":{\"colorbar\":{\"outlinewidth\":0,\"ticks\":\"\"}},\"type\":\"scatterternary\"}],\"surface\":[{\"colorbar\":{\"outlinewidth\":0,\"ticks\":\"\"},\"colorscale\":[[0.0,\"#0d0887\"],[0.1111111111111111,\"#46039f\"],[0.2222222222222222,\"#7201a8\"],[0.3333333333333333,\"#9c179e\"],[0.4444444444444444,\"#bd3786\"],[0.5555555555555556,\"#d8576b\"],[0.6666666666666666,\"#ed7953\"],[0.7777777777777778,\"#fb9f3a\"],[0.8888888888888888,\"#fdca26\"],[1.0,\"#f0f921\"]],\"type\":\"surface\"}],\"table\":[{\"cells\":{\"fill\":{\"color\":\"#EBF0F8\"},\"line\":{\"color\":\"white\"}},\"header\":{\"fill\":{\"color\":\"#C8D4E3\"},\"line\":{\"color\":\"white\"}},\"type\":\"table\"}]},\"layout\":{\"annotationdefaults\":{\"arrowcolor\":\"#2a3f5f\",\"arrowhead\":0,\"arrowwidth\":1},\"autotypenumbers\":\"strict\",\"coloraxis\":{\"colorbar\":{\"outlinewidth\":0,\"ticks\":\"\"}},\"colorscale\":{\"diverging\":[[0,\"#8e0152\"],[0.1,\"#c51b7d\"],[0.2,\"#de77ae\"],[0.3,\"#f1b6da\"],[0.4,\"#fde0ef\"],[0.5,\"#f7f7f7\"],[0.6,\"#e6f5d0\"],[0.7,\"#b8e186\"],[0.8,\"#7fbc41\"],[0.9,\"#4d9221\"],[1,\"#276419\"]],\"sequential\":[[0.0,\"#0d0887\"],[0.1111111111111111,\"#46039f\"],[0.2222222222222222,\"#7201a8\"],[0.3333333333333333,\"#9c179e\"],[0.4444444444444444,\"#bd3786\"],[0.5555555555555556,\"#d8576b\"],[0.6666666666666666,\"#ed7953\"],[0.7777777777777778,\"#fb9f3a\"],[0.8888888888888888,\"#fdca26\"],[1.0,\"#f0f921\"]],\"sequentialminus\":[[0.0,\"#0d0887\"],[0.1111111111111111,\"#46039f\"],[0.2222222222222222,\"#7201a8\"],[0.3333333333333333,\"#9c179e\"],[0.4444444444444444,\"#bd3786\"],[0.5555555555555556,\"#d8576b\"],[0.6666666666666666,\"#ed7953\"],[0.7777777777777778,\"#fb9f3a\"],[0.8888888888888888,\"#fdca26\"],[1.0,\"#f0f921\"]]},\"colorway\":[\"#636efa\",\"#EF553B\",\"#00cc96\",\"#ab63fa\",\"#FFA15A\",\"#19d3f3\",\"#FF6692\",\"#B6E880\",\"#FF97FF\",\"#FECB52\"],\"font\":{\"color\":\"#2a3f5f\"},\"geo\":{\"bgcolor\":\"white\",\"lakecolor\":\"white\",\"landcolor\":\"#E5ECF6\",\"showlakes\":true,\"showland\":true,\"subunitcolor\":\"white\"},\"hoverlabel\":{\"align\":\"left\"},\"hovermode\":\"closest\",\"mapbox\":{\"style\":\"light\"},\"paper_bgcolor\":\"white\",\"plot_bgcolor\":\"#E5ECF6\",\"polar\":{\"angularaxis\":{\"gridcolor\":\"white\",\"linecolor\":\"white\",\"ticks\":\"\"},\"bgcolor\":\"#E5ECF6\",\"radialaxis\":{\"gridcolor\":\"white\",\"linecolor\":\"white\",\"ticks\":\"\"}},\"scene\":{\"xaxis\":{\"backgroundcolor\":\"#E5ECF6\",\"gridcolor\":\"white\",\"gridwidth\":2,\"linecolor\":\"white\",\"showbackground\":true,\"ticks\":\"\",\"zerolinecolor\":\"white\"},\"yaxis\":{\"backgroundcolor\":\"#E5ECF6\",\"gridcolor\":\"white\",\"gridwidth\":2,\"linecolor\":\"white\",\"showbackground\":true,\"ticks\":\"\",\"zerolinecolor\":\"white\"},\"zaxis\":{\"backgroundcolor\":\"#E5ECF6\",\"gridcolor\":\"white\",\"gridwidth\":2,\"linecolor\":\"white\",\"showbackground\":true,\"ticks\":\"\",\"zerolinecolor\":\"white\"}},\"shapedefaults\":{\"line\":{\"color\":\"#2a3f5f\"}},\"ternary\":{\"aaxis\":{\"gridcolor\":\"white\",\"linecolor\":\"white\",\"ticks\":\"\"},\"baxis\":{\"gridcolor\":\"white\",\"linecolor\":\"white\",\"ticks\":\"\"},\"bgcolor\":\"#E5ECF6\",\"caxis\":{\"gridcolor\":\"white\",\"linecolor\":\"white\",\"ticks\":\"\"}},\"title\":{\"x\":0.05},\"xaxis\":{\"automargin\":true,\"gridcolor\":\"white\",\"linecolor\":\"white\",\"ticks\":\"\",\"title\":{\"standoff\":15},\"zerolinecolor\":\"white\",\"zerolinewidth\":2},\"yaxis\":{\"automargin\":true,\"gridcolor\":\"white\",\"linecolor\":\"white\",\"ticks\":\"\",\"title\":{\"standoff\":15},\"zerolinecolor\":\"white\",\"zerolinewidth\":2}}},\"legend\":{\"tracegroupgap\":0},\"title\":{\"text\":\"Highest Percentage on Shopping Category vs. Fraud Claims\"}},                        {\"responsive\": true}                    ).then(function(){\n",
       "                            \n",
       "var gd = document.getElementById('b3eb2c63-51bb-48cb-84a3-1ae4beab234a');\n",
       "var x = new MutationObserver(function (mutations, observer) {{\n",
       "        var display = window.getComputedStyle(gd).display;\n",
       "        if (!display || display === 'none') {{\n",
       "            console.log([gd, 'removed!']);\n",
       "            Plotly.purge(gd);\n",
       "            observer.disconnect();\n",
       "        }}\n",
       "}});\n",
       "\n",
       "// Listen for the removal of the full notebook cells\n",
       "var notebookContainer = gd.closest('#notebook-container');\n",
       "if (notebookContainer) {{\n",
       "    x.observe(notebookContainer, {childList: true});\n",
       "}}\n",
       "\n",
       "// Listen for the clearing of the current output cell\n",
       "var outputEl = gd.closest('.output');\n",
       "if (outputEl) {{\n",
       "    x.observe(outputEl, {childList: true});\n",
       "}}\n",
       "\n",
       "                        })                };                            </script>        </div>\n",
       "</body>\n",
       "</html>"
      ]
     },
     "metadata": {},
     "output_type": "display_data"
    }
   ],
   "source": [
    "fig= px.treemap(cols_df, \n",
    "               path= ['category','is_fraud','gender'],\n",
    "               values= 'is_fraud',\n",
    "               color= 'category',\n",
    "                title='Highest Percentage on Shopping Category vs. Fraud Claims',\n",
    "               color_continuous_scale= 'RdBu')\n",
    "fig.show();"
   ]
  },
  {
   "cell_type": "markdown",
   "metadata": {
    "id": "vHucNYZVglFL"
   },
   "source": [
    "**Insights:**\n",
    "\n",
    "All the category have fraud claims based on this treemap. The availability of compromised card information, coupled with a rise in online shopping, has dramatically increased card-not-present credit card fraud. \n",
    "\n",
    "The most fraud charges that usually people gets are entertainment and online shopping websites. At present, there is no technological solution similar to an EMV microchip that can significantly reduce card-not-present fraud.\n",
    "\n",
    "The availability of compromised card information, coupled with a rise in online shopping, has dramatically increased card-not-present credit card fraud.\n",
    "\n",
    " "
   ]
  },
  {
   "cell_type": "markdown",
   "metadata": {
    "id": "3_G6stcn1xkG"
   },
   "source": [
    "### Amount spent vs. Population"
   ]
  },
  {
   "cell_type": "markdown",
   "metadata": {
    "id": "QMyJyeGN_29G"
   },
   "source": [
    "**Q4.Does population of the city affect the credit card usage?**"
   ]
  },
  {
   "cell_type": "code",
   "execution_count": null,
   "metadata": {
    "colab": {
     "base_uri": "https://localhost:8080/",
     "height": 542,
     "output_embedded_package_id": "1sYFxY2QPbKj6qHNqtWoafEFZUlgtCIB5"
    },
    "executionInfo": {
     "elapsed": 20771,
     "status": "ok",
     "timestamp": 1678263825709,
     "user": {
      "displayName": "Tin Liman",
      "userId": "01796335397974011301"
     },
     "user_tz": 480
    },
    "id": "tpt93AH57R4M",
    "outputId": "860b09ee-485c-425d-f265-a9ecac78e17d"
   },
   "outputs": [
    {
     "data": {
      "text/plain": [
       "Output hidden; open in https://colab.research.google.com to view."
      ]
     },
     "metadata": {},
     "output_type": "display_data"
    }
   ],
   "source": [
    "fig=px.scatter(cols_df,\n",
    "               x='city_pop',\n",
    "               y='amt',\n",
    "               color= 'is_fraud',\n",
    "               opacity= 0.8,\n",
    "               hover_data=['is_fraud'],\n",
    "               title= 'Amount spent vs. Population')\n",
    "fig.update_traces(marker_size=5)\n",
    "fig.show();"
   ]
  },
  {
   "cell_type": "markdown",
   "metadata": {
    "id": "c-wcgazogjVZ"
   },
   "source": [
    "**Insights:**\n",
    "\n",
    "The city population doesn't really affect the credit card usage according to this scatter plot result.\n",
    "Maybe most of fraud claims charges are online transcations based on the records.\n",
    "\n",
    "There is some overlap between identity theft and credit card theft. In fact, credit card theft is one of the most common forms of identity theft.\n",
    "\n",
    "In such cases, a fraudster uses an individual’s personal information, which is often stolen as part of a cyberattack or data breach, to open a new account that the victim does not know about. This activity is considered both identity fraud and credit card fraud.\n"
   ]
  },
  {
   "cell_type": "markdown",
   "metadata": {
    "id": "SNg0bSQqNFcx"
   },
   "source": [
    "### Fraud Claims on merchant locations"
   ]
  },
  {
   "cell_type": "markdown",
   "metadata": {
    "id": "DEt4d0BR23gh"
   },
   "source": [
    "**Q5.How does the city population affect on the fraud claim reports?**"
   ]
  },
  {
   "cell_type": "code",
   "execution_count": null,
   "metadata": {
    "colab": {
     "base_uri": "https://localhost:8080/"
    },
    "executionInfo": {
     "elapsed": 159,
     "status": "ok",
     "timestamp": 1678263441640,
     "user": {
      "displayName": "Tin Liman",
      "userId": "01796335397974011301"
     },
     "user_tz": 480
    },
    "id": "o0OZcuJ0SbLb",
    "outputId": "833e246d-5022-4013-d592-c74e94af32fc"
   },
   "outputs": [
    {
     "data": {
      "text/plain": [
       "3495"
      ]
     },
     "execution_count": 36,
     "metadata": {},
     "output_type": "execute_result"
    }
   ],
   "source": [
    "cols_df.iloc[0]['city_pop']"
   ]
  },
  {
   "cell_type": "code",
   "execution_count": null,
   "metadata": {
    "colab": {
     "base_uri": "https://localhost:8080/",
     "height": 952
    },
    "executionInfo": {
     "elapsed": 208,
     "status": "ok",
     "timestamp": 1678263883927,
     "user": {
      "displayName": "Tin Liman",
      "userId": "01796335397974011301"
     },
     "user_tz": 480
    },
    "id": "buPxxedHPjM0",
    "outputId": "1a6529ba-2989-42b5-c764-8dcabe13b256"
   },
   "outputs": [
    {
     "data": {
      "text/html": [
       "<div style=\"width:100%;\"><div style=\"position:relative;width:100%;height:0;padding-bottom:60%;\"><span style=\"color:#565656\">Make this Notebook Trusted to load map: File -> Trust Notebook</span><iframe srcdoc=\"&lt;!DOCTYPE html&gt;\n",
       "&lt;html&gt;\n",
       "&lt;head&gt;\n",
       "    \n",
       "    &lt;meta http-equiv=&quot;content-type&quot; content=&quot;text/html; charset=UTF-8&quot; /&gt;\n",
       "    \n",
       "        &lt;script&gt;\n",
       "            L_NO_TOUCH = false;\n",
       "            L_DISABLE_3D = false;\n",
       "        &lt;/script&gt;\n",
       "    \n",
       "    &lt;style&gt;html, body {width: 100%;height: 100%;margin: 0;padding: 0;}&lt;/style&gt;\n",
       "    &lt;style&gt;#map {position:absolute;top:0;bottom:0;right:0;left:0;}&lt;/style&gt;\n",
       "    &lt;script src=&quot;https://cdn.jsdelivr.net/npm/leaflet@1.6.0/dist/leaflet.js&quot;&gt;&lt;/script&gt;\n",
       "    &lt;script src=&quot;https://code.jquery.com/jquery-1.12.4.min.js&quot;&gt;&lt;/script&gt;\n",
       "    &lt;script src=&quot;https://maxcdn.bootstrapcdn.com/bootstrap/3.2.0/js/bootstrap.min.js&quot;&gt;&lt;/script&gt;\n",
       "    &lt;script src=&quot;https://cdnjs.cloudflare.com/ajax/libs/Leaflet.awesome-markers/2.0.2/leaflet.awesome-markers.js&quot;&gt;&lt;/script&gt;\n",
       "    &lt;link rel=&quot;stylesheet&quot; href=&quot;https://cdn.jsdelivr.net/npm/leaflet@1.6.0/dist/leaflet.css&quot;/&gt;\n",
       "    &lt;link rel=&quot;stylesheet&quot; href=&quot;https://maxcdn.bootstrapcdn.com/bootstrap/3.2.0/css/bootstrap.min.css&quot;/&gt;\n",
       "    &lt;link rel=&quot;stylesheet&quot; href=&quot;https://maxcdn.bootstrapcdn.com/bootstrap/3.2.0/css/bootstrap-theme.min.css&quot;/&gt;\n",
       "    &lt;link rel=&quot;stylesheet&quot; href=&quot;https://maxcdn.bootstrapcdn.com/font-awesome/4.6.3/css/font-awesome.min.css&quot;/&gt;\n",
       "    &lt;link rel=&quot;stylesheet&quot; href=&quot;https://cdnjs.cloudflare.com/ajax/libs/Leaflet.awesome-markers/2.0.2/leaflet.awesome-markers.css&quot;/&gt;\n",
       "    &lt;link rel=&quot;stylesheet&quot; href=&quot;https://cdn.jsdelivr.net/gh/python-visualization/folium/folium/templates/leaflet.awesome.rotate.min.css&quot;/&gt;\n",
       "    \n",
       "            &lt;meta name=&quot;viewport&quot; content=&quot;width=device-width,\n",
       "                initial-scale=1.0, maximum-scale=1.0, user-scalable=no&quot; /&gt;\n",
       "            &lt;style&gt;\n",
       "                #map_33182330f8228ade11bae7e1d612a95a {\n",
       "                    position: relative;\n",
       "                    width: 100.0%;\n",
       "                    height: 100.0%;\n",
       "                    left: 0.0%;\n",
       "                    top: 0.0%;\n",
       "                }\n",
       "            &lt;/style&gt;\n",
       "        \n",
       "&lt;/head&gt;\n",
       "&lt;body&gt;\n",
       "    \n",
       "    \n",
       "            &lt;div class=&quot;folium-map&quot; id=&quot;map_33182330f8228ade11bae7e1d612a95a&quot; &gt;&lt;/div&gt;\n",
       "        \n",
       "&lt;/body&gt;\n",
       "&lt;script&gt;\n",
       "    \n",
       "    \n",
       "            var map_33182330f8228ade11bae7e1d612a95a = L.map(\n",
       "                &quot;map_33182330f8228ade11bae7e1d612a95a&quot;,\n",
       "                {\n",
       "                    center: [36.0, -113.0],\n",
       "                    crs: L.CRS.EPSG3857,\n",
       "                    zoom: 4,\n",
       "                    zoomControl: true,\n",
       "                    preferCanvas: false,\n",
       "                }\n",
       "            );\n",
       "\n",
       "            \n",
       "\n",
       "        \n",
       "    \n",
       "            var tile_layer_7179083958fb3eedbf8894f3d442c295 = L.tileLayer(\n",
       "                &quot;https://{s}.tile.openstreetmap.org/{z}/{x}/{y}.png&quot;,\n",
       "                {&quot;attribution&quot;: &quot;Data by \\u0026copy; \\u003ca href=\\&quot;http://openstreetmap.org\\&quot;\\u003eOpenStreetMap\\u003c/a\\u003e, under \\u003ca href=\\&quot;http://www.openstreetmap.org/copyright\\&quot;\\u003eODbL\\u003c/a\\u003e.&quot;, &quot;detectRetina&quot;: false, &quot;maxNativeZoom&quot;: 18, &quot;maxZoom&quot;: 18, &quot;minZoom&quot;: 0, &quot;noWrap&quot;: false, &quot;opacity&quot;: 1, &quot;subdomains&quot;: &quot;abc&quot;, &quot;tms&quot;: false}\n",
       "            ).addTo(map_33182330f8228ade11bae7e1d612a95a);\n",
       "        \n",
       "    \n",
       "            var marker_d0a8e79a8340f5916b356d78795fceae = L.marker(\n",
       "                [36.0788, -81.1781],\n",
       "                {}\n",
       "            ).addTo(map_33182330f8228ade11bae7e1d612a95a);\n",
       "        \n",
       "    \n",
       "            var icon_2747155fd48fe9ef67027e509d1fac3b = L.AwesomeMarkers.icon(\n",
       "                {&quot;extraClasses&quot;: &quot;fa-rotate-0&quot;, &quot;icon&quot;: &quot;info-sign&quot;, &quot;iconColor&quot;: &quot;white&quot;, &quot;markerColor&quot;: &quot;darkpurple&quot;, &quot;prefix&quot;: &quot;glyphicon&quot;}\n",
       "            );\n",
       "            marker_d0a8e79a8340f5916b356d78795fceae.setIcon(icon_2747155fd48fe9ef67027e509d1fac3b);\n",
       "        \n",
       "    \n",
       "        var popup_4343bd2562384b2b2e675a6f85ffc23b = L.popup({&quot;maxWidth&quot;: &quot;100%&quot;});\n",
       "\n",
       "        \n",
       "            var html_4f5dc71eb2429d095a47436b6f38e49f = $(`&lt;div id=&quot;html_4f5dc71eb2429d095a47436b6f38e49f&quot; style=&quot;width: 100.0%; height: 100.0%;&quot;&gt;3495&lt;/div&gt;`)[0];\n",
       "            popup_4343bd2562384b2b2e675a6f85ffc23b.setContent(html_4f5dc71eb2429d095a47436b6f38e49f);\n",
       "        \n",
       "\n",
       "        marker_d0a8e79a8340f5916b356d78795fceae.bindPopup(popup_4343bd2562384b2b2e675a6f85ffc23b)\n",
       "        ;\n",
       "\n",
       "        \n",
       "    \n",
       "    \n",
       "            var marker_e2b34860ff67ba302e9aea8b776bdbd3 = L.marker(\n",
       "                [48.8878, -118.2105],\n",
       "                {}\n",
       "            ).addTo(map_33182330f8228ade11bae7e1d612a95a);\n",
       "        \n",
       "    \n",
       "            var icon_1e8d03d08768a1b51a381b9ad7206148 = L.AwesomeMarkers.icon(\n",
       "                {&quot;extraClasses&quot;: &quot;fa-rotate-0&quot;, &quot;icon&quot;: &quot;info-sign&quot;, &quot;iconColor&quot;: &quot;white&quot;, &quot;markerColor&quot;: &quot;darkpurple&quot;, &quot;prefix&quot;: &quot;glyphicon&quot;}\n",
       "            );\n",
       "            marker_e2b34860ff67ba302e9aea8b776bdbd3.setIcon(icon_1e8d03d08768a1b51a381b9ad7206148);\n",
       "        \n",
       "    \n",
       "        var popup_fec35588aeb387a1e7728b52d2ff6ac5 = L.popup({&quot;maxWidth&quot;: &quot;100%&quot;});\n",
       "\n",
       "        \n",
       "            var html_f0a4836e8d1859b8ebaf48d556cd70b6 = $(`&lt;div id=&quot;html_f0a4836e8d1859b8ebaf48d556cd70b6&quot; style=&quot;width: 100.0%; height: 100.0%;&quot;&gt;149&lt;/div&gt;`)[0];\n",
       "            popup_fec35588aeb387a1e7728b52d2ff6ac5.setContent(html_f0a4836e8d1859b8ebaf48d556cd70b6);\n",
       "        \n",
       "\n",
       "        marker_e2b34860ff67ba302e9aea8b776bdbd3.bindPopup(popup_fec35588aeb387a1e7728b52d2ff6ac5)\n",
       "        ;\n",
       "\n",
       "        \n",
       "    \n",
       "    \n",
       "            var marker_31f1ecbea7de708e5c97e12b1559d99f = L.marker(\n",
       "                [42.1808, -112.262],\n",
       "                {}\n",
       "            ).addTo(map_33182330f8228ade11bae7e1d612a95a);\n",
       "        \n",
       "    \n",
       "            var icon_99a7cfa3516d4a7e1cd7f7aecdac2605 = L.AwesomeMarkers.icon(\n",
       "                {&quot;extraClasses&quot;: &quot;fa-rotate-0&quot;, &quot;icon&quot;: &quot;info-sign&quot;, &quot;iconColor&quot;: &quot;white&quot;, &quot;markerColor&quot;: &quot;darkpurple&quot;, &quot;prefix&quot;: &quot;glyphicon&quot;}\n",
       "            );\n",
       "            marker_31f1ecbea7de708e5c97e12b1559d99f.setIcon(icon_99a7cfa3516d4a7e1cd7f7aecdac2605);\n",
       "        \n",
       "    \n",
       "        var popup_b8672e31b426011213ac3a782327e223 = L.popup({&quot;maxWidth&quot;: &quot;100%&quot;});\n",
       "\n",
       "        \n",
       "            var html_77b6be7326c3e16fdda52797365e3e40 = $(`&lt;div id=&quot;html_77b6be7326c3e16fdda52797365e3e40&quot; style=&quot;width: 100.0%; height: 100.0%;&quot;&gt;4154&lt;/div&gt;`)[0];\n",
       "            popup_b8672e31b426011213ac3a782327e223.setContent(html_77b6be7326c3e16fdda52797365e3e40);\n",
       "        \n",
       "\n",
       "        marker_31f1ecbea7de708e5c97e12b1559d99f.bindPopup(popup_b8672e31b426011213ac3a782327e223)\n",
       "        ;\n",
       "\n",
       "        \n",
       "    \n",
       "    \n",
       "            var marker_5363f8d1c612aaf23ebdb3c51c5157b0 = L.marker(\n",
       "                [46.2306, -112.1138],\n",
       "                {}\n",
       "            ).addTo(map_33182330f8228ade11bae7e1d612a95a);\n",
       "        \n",
       "    \n",
       "            var icon_c349142055ea8ffd518f541df6caff8d = L.AwesomeMarkers.icon(\n",
       "                {&quot;extraClasses&quot;: &quot;fa-rotate-0&quot;, &quot;icon&quot;: &quot;info-sign&quot;, &quot;iconColor&quot;: &quot;white&quot;, &quot;markerColor&quot;: &quot;darkpurple&quot;, &quot;prefix&quot;: &quot;glyphicon&quot;}\n",
       "            );\n",
       "            marker_5363f8d1c612aaf23ebdb3c51c5157b0.setIcon(icon_c349142055ea8ffd518f541df6caff8d);\n",
       "        \n",
       "    \n",
       "        var popup_f25acefed378033bdf98846de142c025 = L.popup({&quot;maxWidth&quot;: &quot;100%&quot;});\n",
       "\n",
       "        \n",
       "            var html_fc0df8ea217a19fc0374a8ba6b398b3b = $(`&lt;div id=&quot;html_fc0df8ea217a19fc0374a8ba6b398b3b&quot; style=&quot;width: 100.0%; height: 100.0%;&quot;&gt;1939&lt;/div&gt;`)[0];\n",
       "            popup_f25acefed378033bdf98846de142c025.setContent(html_fc0df8ea217a19fc0374a8ba6b398b3b);\n",
       "        \n",
       "\n",
       "        marker_5363f8d1c612aaf23ebdb3c51c5157b0.bindPopup(popup_f25acefed378033bdf98846de142c025)\n",
       "        ;\n",
       "\n",
       "        \n",
       "    \n",
       "    \n",
       "            var marker_3a30187e0c842a8845acef5450e184d7 = L.marker(\n",
       "                [38.4207, -79.4629],\n",
       "                {}\n",
       "            ).addTo(map_33182330f8228ade11bae7e1d612a95a);\n",
       "        \n",
       "    \n",
       "            var icon_b5ce039030bc1b7de4357d2344921ab7 = L.AwesomeMarkers.icon(\n",
       "                {&quot;extraClasses&quot;: &quot;fa-rotate-0&quot;, &quot;icon&quot;: &quot;info-sign&quot;, &quot;iconColor&quot;: &quot;white&quot;, &quot;markerColor&quot;: &quot;darkpurple&quot;, &quot;prefix&quot;: &quot;glyphicon&quot;}\n",
       "            );\n",
       "            marker_3a30187e0c842a8845acef5450e184d7.setIcon(icon_b5ce039030bc1b7de4357d2344921ab7);\n",
       "        \n",
       "    \n",
       "        var popup_98d83ad26f00fa6b4d6c50db9ddc621a = L.popup({&quot;maxWidth&quot;: &quot;100%&quot;});\n",
       "\n",
       "        \n",
       "            var html_5ccc0b0d9073b9eb932c1788d0d47218 = $(`&lt;div id=&quot;html_5ccc0b0d9073b9eb932c1788d0d47218&quot; style=&quot;width: 100.0%; height: 100.0%;&quot;&gt;99&lt;/div&gt;`)[0];\n",
       "            popup_98d83ad26f00fa6b4d6c50db9ddc621a.setContent(html_5ccc0b0d9073b9eb932c1788d0d47218);\n",
       "        \n",
       "\n",
       "        marker_3a30187e0c842a8845acef5450e184d7.bindPopup(popup_98d83ad26f00fa6b4d6c50db9ddc621a)\n",
       "        ;\n",
       "\n",
       "        \n",
       "    \n",
       "    \n",
       "            var marker_6be0c14751b3bb6b15830d676a6bb1ce = L.marker(\n",
       "                [40.375, -75.2045],\n",
       "                {}\n",
       "            ).addTo(map_33182330f8228ade11bae7e1d612a95a);\n",
       "        \n",
       "    \n",
       "            var icon_b1957a525776764156e37b54f8bde315 = L.AwesomeMarkers.icon(\n",
       "                {&quot;extraClasses&quot;: &quot;fa-rotate-0&quot;, &quot;icon&quot;: &quot;info-sign&quot;, &quot;iconColor&quot;: &quot;white&quot;, &quot;markerColor&quot;: &quot;darkpurple&quot;, &quot;prefix&quot;: &quot;glyphicon&quot;}\n",
       "            );\n",
       "            marker_6be0c14751b3bb6b15830d676a6bb1ce.setIcon(icon_b1957a525776764156e37b54f8bde315);\n",
       "        \n",
       "    \n",
       "        var popup_2dbb59e992395aca0d219813a3723f2c = L.popup({&quot;maxWidth&quot;: &quot;100%&quot;});\n",
       "\n",
       "        \n",
       "            var html_6aa91737efd6c8f0cc5c3538c1fa8a08 = $(`&lt;div id=&quot;html_6aa91737efd6c8f0cc5c3538c1fa8a08&quot; style=&quot;width: 100.0%; height: 100.0%;&quot;&gt;2158&lt;/div&gt;`)[0];\n",
       "            popup_2dbb59e992395aca0d219813a3723f2c.setContent(html_6aa91737efd6c8f0cc5c3538c1fa8a08);\n",
       "        \n",
       "\n",
       "        marker_6be0c14751b3bb6b15830d676a6bb1ce.bindPopup(popup_2dbb59e992395aca0d219813a3723f2c)\n",
       "        ;\n",
       "\n",
       "        \n",
       "    \n",
       "    \n",
       "            var marker_ccf4c299bb059f9fedd8ceac5bc9828a = L.marker(\n",
       "                [37.9931, -100.9893],\n",
       "                {}\n",
       "            ).addTo(map_33182330f8228ade11bae7e1d612a95a);\n",
       "        \n",
       "    \n",
       "            var icon_f85be2eb8aedef817dece8b55488165e = L.AwesomeMarkers.icon(\n",
       "                {&quot;extraClasses&quot;: &quot;fa-rotate-0&quot;, &quot;icon&quot;: &quot;info-sign&quot;, &quot;iconColor&quot;: &quot;white&quot;, &quot;markerColor&quot;: &quot;darkpurple&quot;, &quot;prefix&quot;: &quot;glyphicon&quot;}\n",
       "            );\n",
       "            marker_ccf4c299bb059f9fedd8ceac5bc9828a.setIcon(icon_f85be2eb8aedef817dece8b55488165e);\n",
       "        \n",
       "    \n",
       "        var popup_faaee196a6422818bf67555ca27fbae6 = L.popup({&quot;maxWidth&quot;: &quot;100%&quot;});\n",
       "\n",
       "        \n",
       "            var html_a5cd6fdd7522bf44e434b01734c332da = $(`&lt;div id=&quot;html_a5cd6fdd7522bf44e434b01734c332da&quot; style=&quot;width: 100.0%; height: 100.0%;&quot;&gt;2691&lt;/div&gt;`)[0];\n",
       "            popup_faaee196a6422818bf67555ca27fbae6.setContent(html_a5cd6fdd7522bf44e434b01734c332da);\n",
       "        \n",
       "\n",
       "        marker_ccf4c299bb059f9fedd8ceac5bc9828a.bindPopup(popup_faaee196a6422818bf67555ca27fbae6)\n",
       "        ;\n",
       "\n",
       "        \n",
       "    \n",
       "    \n",
       "            var marker_edc158391d2a97e83be7c29f603f3593 = L.marker(\n",
       "                [38.8432, -78.6003],\n",
       "                {}\n",
       "            ).addTo(map_33182330f8228ade11bae7e1d612a95a);\n",
       "        \n",
       "    \n",
       "            var icon_4a016822ee2868ef84988a0f343c02d4 = L.AwesomeMarkers.icon(\n",
       "                {&quot;extraClasses&quot;: &quot;fa-rotate-0&quot;, &quot;icon&quot;: &quot;info-sign&quot;, &quot;iconColor&quot;: &quot;white&quot;, &quot;markerColor&quot;: &quot;darkpurple&quot;, &quot;prefix&quot;: &quot;glyphicon&quot;}\n",
       "            );\n",
       "            marker_edc158391d2a97e83be7c29f603f3593.setIcon(icon_4a016822ee2868ef84988a0f343c02d4);\n",
       "        \n",
       "    \n",
       "        var popup_09a1b8e6532e5a858eb4c6e08ba400e8 = L.popup({&quot;maxWidth&quot;: &quot;100%&quot;});\n",
       "\n",
       "        \n",
       "            var html_ad93199097a089dc391840281558d003 = $(`&lt;div id=&quot;html_ad93199097a089dc391840281558d003&quot; style=&quot;width: 100.0%; height: 100.0%;&quot;&gt;6018&lt;/div&gt;`)[0];\n",
       "            popup_09a1b8e6532e5a858eb4c6e08ba400e8.setContent(html_ad93199097a089dc391840281558d003);\n",
       "        \n",
       "\n",
       "        marker_edc158391d2a97e83be7c29f603f3593.bindPopup(popup_09a1b8e6532e5a858eb4c6e08ba400e8)\n",
       "        ;\n",
       "\n",
       "        \n",
       "    \n",
       "    \n",
       "            var marker_46fe48efb489624d217f7e4bdaa78efa = L.marker(\n",
       "                [40.3359, -79.6607],\n",
       "                {}\n",
       "            ).addTo(map_33182330f8228ade11bae7e1d612a95a);\n",
       "        \n",
       "    \n",
       "            var icon_19c5f12cde915bd67d8a066e1e1a43f2 = L.AwesomeMarkers.icon(\n",
       "                {&quot;extraClasses&quot;: &quot;fa-rotate-0&quot;, &quot;icon&quot;: &quot;info-sign&quot;, &quot;iconColor&quot;: &quot;white&quot;, &quot;markerColor&quot;: &quot;darkpurple&quot;, &quot;prefix&quot;: &quot;glyphicon&quot;}\n",
       "            );\n",
       "            marker_46fe48efb489624d217f7e4bdaa78efa.setIcon(icon_19c5f12cde915bd67d8a066e1e1a43f2);\n",
       "        \n",
       "    \n",
       "        var popup_43aea24fe821c8e71abc36caf56e50bc = L.popup({&quot;maxWidth&quot;: &quot;100%&quot;});\n",
       "\n",
       "        \n",
       "            var html_d561cfe4022bc953f93aae76ba6ec53d = $(`&lt;div id=&quot;html_d561cfe4022bc953f93aae76ba6ec53d&quot; style=&quot;width: 100.0%; height: 100.0%;&quot;&gt;1472&lt;/div&gt;`)[0];\n",
       "            popup_43aea24fe821c8e71abc36caf56e50bc.setContent(html_d561cfe4022bc953f93aae76ba6ec53d);\n",
       "        \n",
       "\n",
       "        marker_46fe48efb489624d217f7e4bdaa78efa.bindPopup(popup_43aea24fe821c8e71abc36caf56e50bc)\n",
       "        ;\n",
       "\n",
       "        \n",
       "    \n",
       "    \n",
       "            var marker_6a10661122eb33894efb9a24063b986b = L.marker(\n",
       "                [36.522, -87.34899999999999],\n",
       "                {}\n",
       "            ).addTo(map_33182330f8228ade11bae7e1d612a95a);\n",
       "        \n",
       "    \n",
       "            var icon_b7ba4744e8e25a8a1ba367681489c948 = L.AwesomeMarkers.icon(\n",
       "                {&quot;extraClasses&quot;: &quot;fa-rotate-0&quot;, &quot;icon&quot;: &quot;info-sign&quot;, &quot;iconColor&quot;: &quot;white&quot;, &quot;markerColor&quot;: &quot;darkpurple&quot;, &quot;prefix&quot;: &quot;glyphicon&quot;}\n",
       "            );\n",
       "            marker_6a10661122eb33894efb9a24063b986b.setIcon(icon_b7ba4744e8e25a8a1ba367681489c948);\n",
       "        \n",
       "    \n",
       "        var popup_3a0bb037ca840e77af0486a72950b0bf = L.popup({&quot;maxWidth&quot;: &quot;100%&quot;});\n",
       "\n",
       "        \n",
       "            var html_1e4db471641508da530664b9449bb848 = $(`&lt;div id=&quot;html_1e4db471641508da530664b9449bb848&quot; style=&quot;width: 100.0%; height: 100.0%;&quot;&gt;151785&lt;/div&gt;`)[0];\n",
       "            popup_3a0bb037ca840e77af0486a72950b0bf.setContent(html_1e4db471641508da530664b9449bb848);\n",
       "        \n",
       "\n",
       "        marker_6a10661122eb33894efb9a24063b986b.bindPopup(popup_3a0bb037ca840e77af0486a72950b0bf)\n",
       "        ;\n",
       "\n",
       "        \n",
       "    \n",
       "    \n",
       "            var marker_23cf1534e37cab790135d2b7b22fbf1a = L.marker(\n",
       "                [40.7491, -95.038],\n",
       "                {}\n",
       "            ).addTo(map_33182330f8228ade11bae7e1d612a95a);\n",
       "        \n",
       "    \n",
       "            var icon_95c276a41f89ab93f67b028c8adc483f = L.AwesomeMarkers.icon(\n",
       "                {&quot;extraClasses&quot;: &quot;fa-rotate-0&quot;, &quot;icon&quot;: &quot;info-sign&quot;, &quot;iconColor&quot;: &quot;white&quot;, &quot;markerColor&quot;: &quot;darkpurple&quot;, &quot;prefix&quot;: &quot;glyphicon&quot;}\n",
       "            );\n",
       "            marker_23cf1534e37cab790135d2b7b22fbf1a.setIcon(icon_95c276a41f89ab93f67b028c8adc483f);\n",
       "        \n",
       "    \n",
       "        var popup_e3bd0f66180184abd1c368b587a5d2e9 = L.popup({&quot;maxWidth&quot;: &quot;100%&quot;});\n",
       "\n",
       "        \n",
       "            var html_c60e0cec23487c782cc77ec7058b549d = $(`&lt;div id=&quot;html_c60e0cec23487c782cc77ec7058b549d&quot; style=&quot;width: 100.0%; height: 100.0%;&quot;&gt;7297&lt;/div&gt;`)[0];\n",
       "            popup_e3bd0f66180184abd1c368b587a5d2e9.setContent(html_c60e0cec23487c782cc77ec7058b549d);\n",
       "        \n",
       "\n",
       "        marker_23cf1534e37cab790135d2b7b22fbf1a.bindPopup(popup_e3bd0f66180184abd1c368b587a5d2e9)\n",
       "        ;\n",
       "\n",
       "        \n",
       "    \n",
       "    \n",
       "            var marker_b32b763051cf7f5a0bb0ef6d08f73921 = L.marker(\n",
       "                [39.3716, -77.8229],\n",
       "                {}\n",
       "            ).addTo(map_33182330f8228ade11bae7e1d612a95a);\n",
       "        \n",
       "    \n",
       "            var icon_2cd2e49cd1d337dcaec82bdfc1b13fb4 = L.AwesomeMarkers.icon(\n",
       "                {&quot;extraClasses&quot;: &quot;fa-rotate-0&quot;, &quot;icon&quot;: &quot;info-sign&quot;, &quot;iconColor&quot;: &quot;white&quot;, &quot;markerColor&quot;: &quot;darkpurple&quot;, &quot;prefix&quot;: &quot;glyphicon&quot;}\n",
       "            );\n",
       "            marker_b32b763051cf7f5a0bb0ef6d08f73921.setIcon(icon_2cd2e49cd1d337dcaec82bdfc1b13fb4);\n",
       "        \n",
       "    \n",
       "        var popup_11b7abf59b1084956678c7ae088b2b2e = L.popup({&quot;maxWidth&quot;: &quot;100%&quot;});\n",
       "\n",
       "        \n",
       "            var html_46bb8f664f6a2a94a88d17df33abcec3 = $(`&lt;div id=&quot;html_46bb8f664f6a2a94a88d17df33abcec3&quot; style=&quot;width: 100.0%; height: 100.0%;&quot;&gt;1925&lt;/div&gt;`)[0];\n",
       "            popup_11b7abf59b1084956678c7ae088b2b2e.setContent(html_46bb8f664f6a2a94a88d17df33abcec3);\n",
       "        \n",
       "\n",
       "        marker_b32b763051cf7f5a0bb0ef6d08f73921.bindPopup(popup_11b7abf59b1084956678c7ae088b2b2e)\n",
       "        ;\n",
       "\n",
       "        \n",
       "    \n",
       "    \n",
       "            var marker_eef576cabae6fd9dafee4aef567fe504 = L.marker(\n",
       "                [27.7898, -82.7243],\n",
       "                {}\n",
       "            ).addTo(map_33182330f8228ade11bae7e1d612a95a);\n",
       "        \n",
       "    \n",
       "            var icon_ab32c59ce6ba5a17d2ecb8b7a74189ee = L.AwesomeMarkers.icon(\n",
       "                {&quot;extraClasses&quot;: &quot;fa-rotate-0&quot;, &quot;icon&quot;: &quot;info-sign&quot;, &quot;iconColor&quot;: &quot;white&quot;, &quot;markerColor&quot;: &quot;darkpurple&quot;, &quot;prefix&quot;: &quot;glyphicon&quot;}\n",
       "            );\n",
       "            marker_eef576cabae6fd9dafee4aef567fe504.setIcon(icon_ab32c59ce6ba5a17d2ecb8b7a74189ee);\n",
       "        \n",
       "    \n",
       "        var popup_9d8e6793af61acccb93beffbb8b61ce5 = L.popup({&quot;maxWidth&quot;: &quot;100%&quot;});\n",
       "\n",
       "        \n",
       "            var html_c7f12698d9220b4ea9d870060f2f89b9 = $(`&lt;div id=&quot;html_c7f12698d9220b4ea9d870060f2f89b9&quot; style=&quot;width: 100.0%; height: 100.0%;&quot;&gt;341043&lt;/div&gt;`)[0];\n",
       "            popup_9d8e6793af61acccb93beffbb8b61ce5.setContent(html_c7f12698d9220b4ea9d870060f2f89b9);\n",
       "        \n",
       "\n",
       "        marker_eef576cabae6fd9dafee4aef567fe504.bindPopup(popup_9d8e6793af61acccb93beffbb8b61ce5)\n",
       "        ;\n",
       "\n",
       "        \n",
       "    \n",
       "    \n",
       "            var marker_d03e53ff2684a893702766f0a1ff44ee = L.marker(\n",
       "                [41.6125, -122.5258],\n",
       "                {}\n",
       "            ).addTo(map_33182330f8228ade11bae7e1d612a95a);\n",
       "        \n",
       "    \n",
       "            var icon_6eb6dab410199a2e55d36bbaca719775 = L.AwesomeMarkers.icon(\n",
       "                {&quot;extraClasses&quot;: &quot;fa-rotate-0&quot;, &quot;icon&quot;: &quot;info-sign&quot;, &quot;iconColor&quot;: &quot;white&quot;, &quot;markerColor&quot;: &quot;darkpurple&quot;, &quot;prefix&quot;: &quot;glyphicon&quot;}\n",
       "            );\n",
       "            marker_d03e53ff2684a893702766f0a1ff44ee.setIcon(icon_6eb6dab410199a2e55d36bbaca719775);\n",
       "        \n",
       "    \n",
       "        var popup_17922e588d9f621c48df24301537ff65 = L.popup({&quot;maxWidth&quot;: &quot;100%&quot;});\n",
       "\n",
       "        \n",
       "            var html_a5dcf577ebb13962229b2326e5637e93 = $(`&lt;div id=&quot;html_a5dcf577ebb13962229b2326e5637e93&quot; style=&quot;width: 100.0%; height: 100.0%;&quot;&gt;589&lt;/div&gt;`)[0];\n",
       "            popup_17922e588d9f621c48df24301537ff65.setContent(html_a5dcf577ebb13962229b2326e5637e93);\n",
       "        \n",
       "\n",
       "        marker_d03e53ff2684a893702766f0a1ff44ee.bindPopup(popup_17922e588d9f621c48df24301537ff65)\n",
       "        ;\n",
       "\n",
       "        \n",
       "    \n",
       "    \n",
       "            var marker_3b915f782ff9dae5144a179b78f9c94c = L.marker(\n",
       "                [32.9396, -105.8189],\n",
       "                {}\n",
       "            ).addTo(map_33182330f8228ade11bae7e1d612a95a);\n",
       "        \n",
       "    \n",
       "            var icon_56216b2df92387302ca031362ce37420 = L.AwesomeMarkers.icon(\n",
       "                {&quot;extraClasses&quot;: &quot;fa-rotate-0&quot;, &quot;icon&quot;: &quot;info-sign&quot;, &quot;iconColor&quot;: &quot;white&quot;, &quot;markerColor&quot;: &quot;darkpurple&quot;, &quot;prefix&quot;: &quot;glyphicon&quot;}\n",
       "            );\n",
       "            marker_3b915f782ff9dae5144a179b78f9c94c.setIcon(icon_56216b2df92387302ca031362ce37420);\n",
       "        \n",
       "    \n",
       "        var popup_664c68a110bccc2a3fe5710fb1a2e646 = L.popup({&quot;maxWidth&quot;: &quot;100%&quot;});\n",
       "\n",
       "        \n",
       "            var html_b7d43e1e966f4162b3f2b69aec48bf8c = $(`&lt;div id=&quot;html_b7d43e1e966f4162b3f2b69aec48bf8c&quot; style=&quot;width: 100.0%; height: 100.0%;&quot;&gt;899&lt;/div&gt;`)[0];\n",
       "            popup_664c68a110bccc2a3fe5710fb1a2e646.setContent(html_b7d43e1e966f4162b3f2b69aec48bf8c);\n",
       "        \n",
       "\n",
       "        marker_3b915f782ff9dae5144a179b78f9c94c.bindPopup(popup_664c68a110bccc2a3fe5710fb1a2e646)\n",
       "        ;\n",
       "\n",
       "        \n",
       "    \n",
       "    \n",
       "            var marker_586c7433ee6c0fd992f20f75b6cca1ce = L.marker(\n",
       "                [40.9918, -73.98],\n",
       "                {}\n",
       "            ).addTo(map_33182330f8228ade11bae7e1d612a95a);\n",
       "        \n",
       "    \n",
       "            var icon_908a82f53920da33d79a52eb4086a2e8 = L.AwesomeMarkers.icon(\n",
       "                {&quot;extraClasses&quot;: &quot;fa-rotate-0&quot;, &quot;icon&quot;: &quot;info-sign&quot;, &quot;iconColor&quot;: &quot;white&quot;, &quot;markerColor&quot;: &quot;darkpurple&quot;, &quot;prefix&quot;: &quot;glyphicon&quot;}\n",
       "            );\n",
       "            marker_586c7433ee6c0fd992f20f75b6cca1ce.setIcon(icon_908a82f53920da33d79a52eb4086a2e8);\n",
       "        \n",
       "    \n",
       "        var popup_f3ec012e0a6bf0d02c61c35cae50cd8a = L.popup({&quot;maxWidth&quot;: &quot;100%&quot;});\n",
       "\n",
       "        \n",
       "            var html_6d4770a3bd3ce7997afe31d128fc1e7e = $(`&lt;div id=&quot;html_6d4770a3bd3ce7997afe31d128fc1e7e&quot; style=&quot;width: 100.0%; height: 100.0%;&quot;&gt;4664&lt;/div&gt;`)[0];\n",
       "            popup_f3ec012e0a6bf0d02c61c35cae50cd8a.setContent(html_6d4770a3bd3ce7997afe31d128fc1e7e);\n",
       "        \n",
       "\n",
       "        marker_586c7433ee6c0fd992f20f75b6cca1ce.bindPopup(popup_f3ec012e0a6bf0d02c61c35cae50cd8a)\n",
       "        ;\n",
       "\n",
       "        \n",
       "    \n",
       "    \n",
       "            var marker_89ba01709cdb4ac67697f13462243f2e = L.marker(\n",
       "                [36.385, -98.0727],\n",
       "                {}\n",
       "            ).addTo(map_33182330f8228ade11bae7e1d612a95a);\n",
       "        \n",
       "    \n",
       "            var icon_66e043e8e6786cdc6db7cf4fae3edd09 = L.AwesomeMarkers.icon(\n",
       "                {&quot;extraClasses&quot;: &quot;fa-rotate-0&quot;, &quot;icon&quot;: &quot;info-sign&quot;, &quot;iconColor&quot;: &quot;white&quot;, &quot;markerColor&quot;: &quot;darkpurple&quot;, &quot;prefix&quot;: &quot;glyphicon&quot;}\n",
       "            );\n",
       "            marker_89ba01709cdb4ac67697f13462243f2e.setIcon(icon_66e043e8e6786cdc6db7cf4fae3edd09);\n",
       "        \n",
       "    \n",
       "        var popup_aecf48dea705c8117138cd0252244e3c = L.popup({&quot;maxWidth&quot;: &quot;100%&quot;});\n",
       "\n",
       "        \n",
       "            var html_d2b0789f7ba35db1d47e37bbf1f0bc22 = $(`&lt;div id=&quot;html_d2b0789f7ba35db1d47e37bbf1f0bc22&quot; style=&quot;width: 100.0%; height: 100.0%;&quot;&gt;1078&lt;/div&gt;`)[0];\n",
       "            popup_aecf48dea705c8117138cd0252244e3c.setContent(html_d2b0789f7ba35db1d47e37bbf1f0bc22);\n",
       "        \n",
       "\n",
       "        marker_89ba01709cdb4ac67697f13462243f2e.bindPopup(popup_aecf48dea705c8117138cd0252244e3c)\n",
       "        ;\n",
       "\n",
       "        \n",
       "    \n",
       "    \n",
       "            var marker_e5e8d8ba444ef96a3852a5622c606907 = L.marker(\n",
       "                [38.9763, -87.3667],\n",
       "                {}\n",
       "            ).addTo(map_33182330f8228ade11bae7e1d612a95a);\n",
       "        \n",
       "    \n",
       "            var icon_48e85c85fc03ba6e198c0c6c3d7d80ed = L.AwesomeMarkers.icon(\n",
       "                {&quot;extraClasses&quot;: &quot;fa-rotate-0&quot;, &quot;icon&quot;: &quot;info-sign&quot;, &quot;iconColor&quot;: &quot;white&quot;, &quot;markerColor&quot;: &quot;darkpurple&quot;, &quot;prefix&quot;: &quot;glyphicon&quot;}\n",
       "            );\n",
       "            marker_e5e8d8ba444ef96a3852a5622c606907.setIcon(icon_48e85c85fc03ba6e198c0c6c3d7d80ed);\n",
       "        \n",
       "    \n",
       "        var popup_03528341220ea4b6b8b17936925f339e = L.popup({&quot;maxWidth&quot;: &quot;100%&quot;});\n",
       "\n",
       "        \n",
       "            var html_282f444ea476c3caba64ba701557f76f = $(`&lt;div id=&quot;html_282f444ea476c3caba64ba701557f76f&quot; style=&quot;width: 100.0%; height: 100.0%;&quot;&gt;4081&lt;/div&gt;`)[0];\n",
       "            popup_03528341220ea4b6b8b17936925f339e.setContent(html_282f444ea476c3caba64ba701557f76f);\n",
       "        \n",
       "\n",
       "        marker_e5e8d8ba444ef96a3852a5622c606907.bindPopup(popup_03528341220ea4b6b8b17936925f339e)\n",
       "        ;\n",
       "\n",
       "        \n",
       "    \n",
       "    \n",
       "            var marker_ffbde74b8dd9602c6905b5247bccacfc = L.marker(\n",
       "                [42.1767, -79.9416],\n",
       "                {}\n",
       "            ).addTo(map_33182330f8228ade11bae7e1d612a95a);\n",
       "        \n",
       "    \n",
       "            var icon_1339a178915509c339ed2b4e06080660 = L.AwesomeMarkers.icon(\n",
       "                {&quot;extraClasses&quot;: &quot;fa-rotate-0&quot;, &quot;icon&quot;: &quot;info-sign&quot;, &quot;iconColor&quot;: &quot;white&quot;, &quot;markerColor&quot;: &quot;darkpurple&quot;, &quot;prefix&quot;: &quot;glyphicon&quot;}\n",
       "            );\n",
       "            marker_ffbde74b8dd9602c6905b5247bccacfc.setIcon(icon_1339a178915509c339ed2b4e06080660);\n",
       "        \n",
       "    \n",
       "        var popup_dcad0c1fd574d06a01d53aabeca32ae7 = L.popup({&quot;maxWidth&quot;: &quot;100%&quot;});\n",
       "\n",
       "        \n",
       "            var html_d20626ee7af083f016c41832247cb996 = $(`&lt;div id=&quot;html_d20626ee7af083f016c41832247cb996&quot; style=&quot;width: 100.0%; height: 100.0%;&quot;&gt;2518&lt;/div&gt;`)[0];\n",
       "            popup_dcad0c1fd574d06a01d53aabeca32ae7.setContent(html_d20626ee7af083f016c41832247cb996);\n",
       "        \n",
       "\n",
       "        marker_ffbde74b8dd9602c6905b5247bccacfc.bindPopup(popup_dcad0c1fd574d06a01d53aabeca32ae7)\n",
       "        ;\n",
       "\n",
       "        \n",
       "    \n",
       "    \n",
       "            var marker_b2b44d8fc98d9a14c26f5c914f1734eb = L.marker(\n",
       "                [40.6747, -74.2239],\n",
       "                {}\n",
       "            ).addTo(map_33182330f8228ade11bae7e1d612a95a);\n",
       "        \n",
       "    \n",
       "            var icon_1708a123a232d347410e39d4f6f2ae90 = L.AwesomeMarkers.icon(\n",
       "                {&quot;extraClasses&quot;: &quot;fa-rotate-0&quot;, &quot;icon&quot;: &quot;info-sign&quot;, &quot;iconColor&quot;: &quot;white&quot;, &quot;markerColor&quot;: &quot;darkpurple&quot;, &quot;prefix&quot;: &quot;glyphicon&quot;}\n",
       "            );\n",
       "            marker_b2b44d8fc98d9a14c26f5c914f1734eb.setIcon(icon_1708a123a232d347410e39d4f6f2ae90);\n",
       "        \n",
       "    \n",
       "        var popup_f135a76b6c9f5632c3230fab9928e2b7 = L.popup({&quot;maxWidth&quot;: &quot;100%&quot;});\n",
       "\n",
       "        \n",
       "            var html_267dea0f0a6ed2b5e3276c05ee92d765 = $(`&lt;div id=&quot;html_267dea0f0a6ed2b5e3276c05ee92d765&quot; style=&quot;width: 100.0%; height: 100.0%;&quot;&gt;124967&lt;/div&gt;`)[0];\n",
       "            popup_f135a76b6c9f5632c3230fab9928e2b7.setContent(html_267dea0f0a6ed2b5e3276c05ee92d765);\n",
       "        \n",
       "\n",
       "        marker_b2b44d8fc98d9a14c26f5c914f1734eb.bindPopup(popup_f135a76b6c9f5632c3230fab9928e2b7)\n",
       "        ;\n",
       "\n",
       "        \n",
       "    \n",
       "    \n",
       "            var marker_a25bc3c845326ce4132ff51707986bb4 = L.marker(\n",
       "                [42.728, -71.181],\n",
       "                {}\n",
       "            ).addTo(map_33182330f8228ade11bae7e1d612a95a);\n",
       "        \n",
       "    \n",
       "            var icon_a25797e4477aa025234692c4e32f5ecf = L.AwesomeMarkers.icon(\n",
       "                {&quot;extraClasses&quot;: &quot;fa-rotate-0&quot;, &quot;icon&quot;: &quot;info-sign&quot;, &quot;iconColor&quot;: &quot;white&quot;, &quot;markerColor&quot;: &quot;darkpurple&quot;, &quot;prefix&quot;: &quot;glyphicon&quot;}\n",
       "            );\n",
       "            marker_a25bc3c845326ce4132ff51707986bb4.setIcon(icon_a25797e4477aa025234692c4e32f5ecf);\n",
       "        \n",
       "    \n",
       "        var popup_71dc728c942fbe8121e95dd1f21ff8e8 = L.popup({&quot;maxWidth&quot;: &quot;100%&quot;});\n",
       "\n",
       "        \n",
       "            var html_aa29dd1b82fd8df3b78e6fadb481595e = $(`&lt;div id=&quot;html_aa29dd1b82fd8df3b78e6fadb481595e&quot; style=&quot;width: 100.0%; height: 100.0%;&quot;&gt;47249&lt;/div&gt;`)[0];\n",
       "            popup_71dc728c942fbe8121e95dd1f21ff8e8.setContent(html_aa29dd1b82fd8df3b78e6fadb481595e);\n",
       "        \n",
       "\n",
       "        marker_a25bc3c845326ce4132ff51707986bb4.bindPopup(popup_71dc728c942fbe8121e95dd1f21ff8e8)\n",
       "        ;\n",
       "\n",
       "        \n",
       "    \n",
       "    \n",
       "            var marker_f849c1482a81b525b8d897b1a2196921 = L.marker(\n",
       "                [40.6866, -92.6833],\n",
       "                {}\n",
       "            ).addTo(map_33182330f8228ade11bae7e1d612a95a);\n",
       "        \n",
       "    \n",
       "            var icon_b87505b2f2d949ce9c70e769fbfe6982 = L.AwesomeMarkers.icon(\n",
       "                {&quot;extraClasses&quot;: &quot;fa-rotate-0&quot;, &quot;icon&quot;: &quot;info-sign&quot;, &quot;iconColor&quot;: &quot;white&quot;, &quot;markerColor&quot;: &quot;darkpurple&quot;, &quot;prefix&quot;: &quot;glyphicon&quot;}\n",
       "            );\n",
       "            marker_f849c1482a81b525b8d897b1a2196921.setIcon(icon_b87505b2f2d949ce9c70e769fbfe6982);\n",
       "        \n",
       "    \n",
       "        var popup_1f576923467124c725a718279f017701 = L.popup({&quot;maxWidth&quot;: &quot;100%&quot;});\n",
       "\n",
       "        \n",
       "            var html_b6e6bbf1520998b1c0b44d69382f7be6 = $(`&lt;div id=&quot;html_b6e6bbf1520998b1c0b44d69382f7be6&quot; style=&quot;width: 100.0%; height: 100.0%;&quot;&gt;1132&lt;/div&gt;`)[0];\n",
       "            popup_1f576923467124c725a718279f017701.setContent(html_b6e6bbf1520998b1c0b44d69382f7be6);\n",
       "        \n",
       "\n",
       "        marker_f849c1482a81b525b8d897b1a2196921.bindPopup(popup_1f576923467124c725a718279f017701)\n",
       "        ;\n",
       "\n",
       "        \n",
       "    \n",
       "    \n",
       "            var marker_a64d80585fc352dcfaa5d3ba630a5a5e = L.marker(\n",
       "                [40.6152, -74.415],\n",
       "                {}\n",
       "            ).addTo(map_33182330f8228ade11bae7e1d612a95a);\n",
       "        \n",
       "    \n",
       "            var icon_8ddeb65176fa2d3545b0ca660dfb6c28 = L.AwesomeMarkers.icon(\n",
       "                {&quot;extraClasses&quot;: &quot;fa-rotate-0&quot;, &quot;icon&quot;: &quot;info-sign&quot;, &quot;iconColor&quot;: &quot;white&quot;, &quot;markerColor&quot;: &quot;darkpurple&quot;, &quot;prefix&quot;: &quot;glyphicon&quot;}\n",
       "            );\n",
       "            marker_a64d80585fc352dcfaa5d3ba630a5a5e.setIcon(icon_8ddeb65176fa2d3545b0ca660dfb6c28);\n",
       "        \n",
       "    \n",
       "        var popup_e88b672b56745d5003b39f3be29a3b1a = L.popup({&quot;maxWidth&quot;: &quot;100%&quot;});\n",
       "\n",
       "        \n",
       "            var html_7d55bb55d2b9088ec00597ce16ed0f86 = $(`&lt;div id=&quot;html_7d55bb55d2b9088ec00597ce16ed0f86&quot; style=&quot;width: 100.0%; height: 100.0%;&quot;&gt;71485&lt;/div&gt;`)[0];\n",
       "            popup_e88b672b56745d5003b39f3be29a3b1a.setContent(html_7d55bb55d2b9088ec00597ce16ed0f86);\n",
       "        \n",
       "\n",
       "        marker_a64d80585fc352dcfaa5d3ba630a5a5e.bindPopup(popup_e88b672b56745d5003b39f3be29a3b1a)\n",
       "        ;\n",
       "\n",
       "        \n",
       "    \n",
       "    \n",
       "            var marker_e19ef1b36b458fa4e7da3430331ef7d8 = L.marker(\n",
       "                [31.9571, -98.9656],\n",
       "                {}\n",
       "            ).addTo(map_33182330f8228ade11bae7e1d612a95a);\n",
       "        \n",
       "    \n",
       "            var icon_2f73b3039453e3aeb5c122f34db0c4e3 = L.AwesomeMarkers.icon(\n",
       "                {&quot;extraClasses&quot;: &quot;fa-rotate-0&quot;, &quot;icon&quot;: &quot;info-sign&quot;, &quot;iconColor&quot;: &quot;white&quot;, &quot;markerColor&quot;: &quot;darkpurple&quot;, &quot;prefix&quot;: &quot;glyphicon&quot;}\n",
       "            );\n",
       "            marker_e19ef1b36b458fa4e7da3430331ef7d8.setIcon(icon_2f73b3039453e3aeb5c122f34db0c4e3);\n",
       "        \n",
       "    \n",
       "        var popup_02fb624df2a84e7fdefa720b67cb76d9 = L.popup({&quot;maxWidth&quot;: &quot;100%&quot;});\n",
       "\n",
       "        \n",
       "            var html_0b572b006e28e53000445e0044f4e9ad = $(`&lt;div id=&quot;html_0b572b006e28e53000445e0044f4e9ad&quot; style=&quot;width: 100.0%; height: 100.0%;&quot;&gt;1791&lt;/div&gt;`)[0];\n",
       "            popup_02fb624df2a84e7fdefa720b67cb76d9.setContent(html_0b572b006e28e53000445e0044f4e9ad);\n",
       "        \n",
       "\n",
       "        marker_e19ef1b36b458fa4e7da3430331ef7d8.bindPopup(popup_02fb624df2a84e7fdefa720b67cb76d9)\n",
       "        ;\n",
       "\n",
       "        \n",
       "    \n",
       "    \n",
       "            var marker_2dbf5f4cd18efaeedbb95b3d16cfda35 = L.marker(\n",
       "                [42.9993, -88.2196],\n",
       "                {}\n",
       "            ).addTo(map_33182330f8228ade11bae7e1d612a95a);\n",
       "        \n",
       "    \n",
       "            var icon_e33fab97517141a54cfda423a02b5cb9 = L.AwesomeMarkers.icon(\n",
       "                {&quot;extraClasses&quot;: &quot;fa-rotate-0&quot;, &quot;icon&quot;: &quot;info-sign&quot;, &quot;iconColor&quot;: &quot;white&quot;, &quot;markerColor&quot;: &quot;darkpurple&quot;, &quot;prefix&quot;: &quot;glyphicon&quot;}\n",
       "            );\n",
       "            marker_2dbf5f4cd18efaeedbb95b3d16cfda35.setIcon(icon_e33fab97517141a54cfda423a02b5cb9);\n",
       "        \n",
       "    \n",
       "        var popup_6958d04f0bbae1541242337b2c7313c6 = L.popup({&quot;maxWidth&quot;: &quot;100%&quot;});\n",
       "\n",
       "        \n",
       "            var html_ce6b780052c7cd4e830a148d1c6df525 = $(`&lt;div id=&quot;html_ce6b780052c7cd4e830a148d1c6df525&quot; style=&quot;width: 100.0%; height: 100.0%;&quot;&gt;95015&lt;/div&gt;`)[0];\n",
       "            popup_6958d04f0bbae1541242337b2c7313c6.setContent(html_ce6b780052c7cd4e830a148d1c6df525);\n",
       "        \n",
       "\n",
       "        marker_2dbf5f4cd18efaeedbb95b3d16cfda35.bindPopup(popup_6958d04f0bbae1541242337b2c7313c6)\n",
       "        ;\n",
       "\n",
       "        \n",
       "    \n",
       "    \n",
       "            var marker_3af0d373f6c99d9d60f96558619c8810 = L.marker(\n",
       "                [35.8072, -78.0892],\n",
       "                {}\n",
       "            ).addTo(map_33182330f8228ade11bae7e1d612a95a);\n",
       "        \n",
       "    \n",
       "            var icon_6e8e7b0621484b387e162fc6a7de500a = L.AwesomeMarkers.icon(\n",
       "                {&quot;extraClasses&quot;: &quot;fa-rotate-0&quot;, &quot;icon&quot;: &quot;info-sign&quot;, &quot;iconColor&quot;: &quot;white&quot;, &quot;markerColor&quot;: &quot;darkpurple&quot;, &quot;prefix&quot;: &quot;glyphicon&quot;}\n",
       "            );\n",
       "            marker_3af0d373f6c99d9d60f96558619c8810.setIcon(icon_6e8e7b0621484b387e162fc6a7de500a);\n",
       "        \n",
       "    \n",
       "        var popup_a271419b26ac73a56a8c87134d9e16a5 = L.popup({&quot;maxWidth&quot;: &quot;100%&quot;});\n",
       "\n",
       "        \n",
       "            var html_94921d969fc862bda100d763840c173f = $(`&lt;div id=&quot;html_94921d969fc862bda100d763840c173f&quot; style=&quot;width: 100.0%; height: 100.0%;&quot;&gt;6629&lt;/div&gt;`)[0];\n",
       "            popup_a271419b26ac73a56a8c87134d9e16a5.setContent(html_94921d969fc862bda100d763840c173f);\n",
       "        \n",
       "\n",
       "        marker_3af0d373f6c99d9d60f96558619c8810.bindPopup(popup_a271419b26ac73a56a8c87134d9e16a5)\n",
       "        ;\n",
       "\n",
       "        \n",
       "    \n",
       "    \n",
       "            var marker_1ef74157cd00f4d142c9d72eff090604 = L.marker(\n",
       "                [42.2203, -83.3583],\n",
       "                {}\n",
       "            ).addTo(map_33182330f8228ade11bae7e1d612a95a);\n",
       "        \n",
       "    \n",
       "            var icon_b224d68dbd3384c29521e07c5dab1d57 = L.AwesomeMarkers.icon(\n",
       "                {&quot;extraClasses&quot;: &quot;fa-rotate-0&quot;, &quot;icon&quot;: &quot;info-sign&quot;, &quot;iconColor&quot;: &quot;white&quot;, &quot;markerColor&quot;: &quot;darkpurple&quot;, &quot;prefix&quot;: &quot;glyphicon&quot;}\n",
       "            );\n",
       "            marker_1ef74157cd00f4d142c9d72eff090604.setIcon(icon_b224d68dbd3384c29521e07c5dab1d57);\n",
       "        \n",
       "    \n",
       "        var popup_780fde0ece254a2841552b553397a7ee = L.popup({&quot;maxWidth&quot;: &quot;100%&quot;});\n",
       "\n",
       "        \n",
       "            var html_194f4fc94d4cbe36fe0cf2a6a853a876 = $(`&lt;div id=&quot;html_194f4fc94d4cbe36fe0cf2a6a853a876&quot; style=&quot;width: 100.0%; height: 100.0%;&quot;&gt;31515&lt;/div&gt;`)[0];\n",
       "            popup_780fde0ece254a2841552b553397a7ee.setContent(html_194f4fc94d4cbe36fe0cf2a6a853a876);\n",
       "        \n",
       "\n",
       "        marker_1ef74157cd00f4d142c9d72eff090604.bindPopup(popup_780fde0ece254a2841552b553397a7ee)\n",
       "        ;\n",
       "\n",
       "        \n",
       "    \n",
       "    \n",
       "            var marker_00c1ad1ca408ceddcd8bad88af7b706c = L.marker(\n",
       "                [43.0172, -111.0292],\n",
       "                {}\n",
       "            ).addTo(map_33182330f8228ade11bae7e1d612a95a);\n",
       "        \n",
       "    \n",
       "            var icon_4e7c099d9cc33e9b16ad4d6ebda7b779 = L.AwesomeMarkers.icon(\n",
       "                {&quot;extraClasses&quot;: &quot;fa-rotate-0&quot;, &quot;icon&quot;: &quot;info-sign&quot;, &quot;iconColor&quot;: &quot;white&quot;, &quot;markerColor&quot;: &quot;darkpurple&quot;, &quot;prefix&quot;: &quot;glyphicon&quot;}\n",
       "            );\n",
       "            marker_00c1ad1ca408ceddcd8bad88af7b706c.setIcon(icon_4e7c099d9cc33e9b16ad4d6ebda7b779);\n",
       "        \n",
       "    \n",
       "        var popup_27e0a4081756d9fe13325490e9016971 = L.popup({&quot;maxWidth&quot;: &quot;100%&quot;});\n",
       "\n",
       "        \n",
       "            var html_6ae501590c957204e9fe390068b04c71 = $(`&lt;div id=&quot;html_6ae501590c957204e9fe390068b04c71&quot; style=&quot;width: 100.0%; height: 100.0%;&quot;&gt;471&lt;/div&gt;`)[0];\n",
       "            popup_27e0a4081756d9fe13325490e9016971.setContent(html_6ae501590c957204e9fe390068b04c71);\n",
       "        \n",
       "\n",
       "        marker_00c1ad1ca408ceddcd8bad88af7b706c.bindPopup(popup_27e0a4081756d9fe13325490e9016971)\n",
       "        ;\n",
       "\n",
       "        \n",
       "    \n",
       "    \n",
       "            var marker_6c30a8b8704c73b29e2320b74b73f7b1 = L.marker(\n",
       "                [20.0827, -155.488],\n",
       "                {}\n",
       "            ).addTo(map_33182330f8228ade11bae7e1d612a95a);\n",
       "        \n",
       "    \n",
       "            var icon_9ce3f71283ef338971cfcf844a24b51b = L.AwesomeMarkers.icon(\n",
       "                {&quot;extraClasses&quot;: &quot;fa-rotate-0&quot;, &quot;icon&quot;: &quot;info-sign&quot;, &quot;iconColor&quot;: &quot;white&quot;, &quot;markerColor&quot;: &quot;darkpurple&quot;, &quot;prefix&quot;: &quot;glyphicon&quot;}\n",
       "            );\n",
       "            marker_6c30a8b8704c73b29e2320b74b73f7b1.setIcon(icon_9ce3f71283ef338971cfcf844a24b51b);\n",
       "        \n",
       "    \n",
       "        var popup_8ec1a3ebe593e1175a65b95193c505d5 = L.popup({&quot;maxWidth&quot;: &quot;100%&quot;});\n",
       "\n",
       "        \n",
       "            var html_c7059d7f804b6a1e93addf670b928d62 = $(`&lt;div id=&quot;html_c7059d7f804b6a1e93addf670b928d62&quot; style=&quot;width: 100.0%; height: 100.0%;&quot;&gt;4878&lt;/div&gt;`)[0];\n",
       "            popup_8ec1a3ebe593e1175a65b95193c505d5.setContent(html_c7059d7f804b6a1e93addf670b928d62);\n",
       "        \n",
       "\n",
       "        marker_6c30a8b8704c73b29e2320b74b73f7b1.bindPopup(popup_8ec1a3ebe593e1175a65b95193c505d5)\n",
       "        ;\n",
       "\n",
       "        \n",
       "    \n",
       "&lt;/script&gt;\n",
       "&lt;/html&gt;\" style=\"position:absolute;width:100%;height:100%;left:0;top:0;border:none !important;\" allowfullscreen webkitallowfullscreen mozallowfullscreen></iframe></div></div>"
      ],
      "text/plain": [
       "<folium.folium.Map at 0x7f59ff097e50>"
      ]
     },
     "execution_count": 54,
     "metadata": {},
     "output_type": "execute_result"
    }
   ],
   "source": [
    "m = folium.Map(location=[36, -113], zoom_start=4)\n",
    "for i in range(29):\n",
    "    folium.Marker(\n",
    "        location=[cols_df.lat[i],cols_df.long[i]],\n",
    "        popup=cols_df.city_pop[i],\n",
    "         icon=folium.Icon(color=\"darkpurple\", icon=\"info-sign\"),\n",
    "    ).add_to(m)\n",
    "m"
   ]
  },
  {
   "cell_type": "markdown",
   "metadata": {
    "id": "huL9BS8VgezL"
   },
   "source": [
    "**Insights:**\n",
    "\n",
    "\n",
    "In recent years, as the amount of data has exploded and the number of payment card transactions has skyrocketed, fraud detection has become largely digitized and automated. \n",
    "  "
   ]
  },
  {
   "cell_type": "markdown",
   "metadata": {
    "id": "nJlNccAe2tQD"
   },
   "source": [
    "### Finding Relationship between features"
   ]
  },
  {
   "cell_type": "markdown",
   "metadata": {
    "id": "v28k7Mrk23gi"
   },
   "source": [
    "**Q6. Is there any way you can tell how did someone use the credit card without having it?**"
   ]
  },
  {
   "cell_type": "code",
   "execution_count": null,
   "metadata": {
    "colab": {
     "base_uri": "https://localhost:8080/",
     "height": 919
    },
    "executionInfo": {
     "elapsed": 154287,
     "status": "ok",
     "timestamp": 1679261339287,
     "user": {
      "displayName": "Tin Liman",
      "userId": "01796335397974011301"
     },
     "user_tz": 420
    },
    "id": "2nAcJqL01w_5",
    "outputId": "e874030d-0604-4d39-cb66-6d71cf917f2d"
   },
   "outputs": [
    {
     "data": {
      "text/plain": [
       "<Figure size 1440x1440 with 0 Axes>"
      ]
     },
     "metadata": {},
     "output_type": "display_data"
    },
    {
     "data": {
      "image/png": "[encoded data removed]",
      "text/plain": [
       "<Figure size 900x900 with 30 Axes>"
      ]
     },
     "metadata": {
      "needs_background": "light"
     },
     "output_type": "display_data"
    }
   ],
   "source": [
    "plt.figure(figsize=(20,20))\n",
    "sns.pairplot(cols_df);"
   ]
  },
  {
   "cell_type": "markdown",
   "metadata": {
    "id": "pPV7eXkhgZwA"
   },
   "source": [
    "**Insights:**\n",
    "\n",
    "When a transaction falls outside the scope of normal activity, the anomaly detection tool will then alert the card issuer and, in some cases, the user. \n",
    "Depending on the transaction details and risk score assigned to the action, these fraud detection systems may flag the purchase for review or put a hold on the transaction until the user verifies their activity.\n",
    "\n",
    "\n"
   ]
  },
  {
   "cell_type": "markdown",
   "metadata": {
    "id": "fK3rKvI1VtPt"
   },
   "source": [
    "### Relationship between Occupation and Suspicious Transcation"
   ]
  },
  {
   "cell_type": "markdown",
   "metadata": {
    "id": "jYv9VytV23gi"
   },
   "source": [
    "**Q7.Are there any suspicious transactions related to occupation?**"
   ]
  },
  {
   "cell_type": "code",
   "execution_count": null,
   "metadata": {
    "colab": {
     "base_uri": "https://localhost:8080/",
     "height": 466
    },
    "executionInfo": {
     "elapsed": 2404,
     "status": "ok",
     "timestamp": 1678264329352,
     "user": {
      "displayName": "Tin Liman",
      "userId": "01796335397974011301"
     },
     "user_tz": 480
    },
    "id": "X6SfdaU0TMRI",
    "outputId": "f4f0a1bd-972e-4233-a997-b65eb94f144c"
   },
   "outputs": [
    {
     "data": {
      "image/png": "[encoded data removed]",
      "text/plain": [
       "<Figure size 1224x576 with 1 Axes>"
      ]
     },
     "metadata": {
      "needs_background": "light"
     },
     "output_type": "display_data"
    }
   ],
   "source": [
    "plt.figure(figsize=(17,8))\n",
    "text= cols_df['job'].values\n",
    "wordcloud= WordCloud(background_color= 'white').generate(str(text))\n",
    "plt.imshow(wordcloud)\n",
    "plt.axis('off')\n",
    "plt.show();"
   ]
  },
  {
   "cell_type": "markdown",
   "metadata": {
    "id": "Fmg_KHZ-lEib"
   },
   "source": [
    "I do not personally think job occpations have any kind of affects or influence on credit usages for some reasons.\n",
    "\n",
    "As in the case of identity theft, suspicious transactions made from a copy of an electronic or manual card will be revealed because of the information on the transaction. Classification techniques can define whether a transaction is fraudulent based on hardware, geolocation, and information about a client’s behavior patterns."
   ]
  },
  {
   "cell_type": "markdown",
   "metadata": {
    "id": "bydCh4hoUHR6"
   },
   "source": [
    "### Looking for correlation that can detect the fraud charges"
   ]
  },
  {
   "cell_type": "markdown",
   "metadata": {
    "id": "dT1yr1r123gj"
   },
   "source": [
    "**Q8. Is there any correlation between the location and the city population that cause the credit fraud?**"
   ]
  },
  {
   "cell_type": "code",
   "execution_count": null,
   "metadata": {
    "colab": {
     "base_uri": "https://localhost:8080/",
     "height": 206
    },
    "executionInfo": {
     "elapsed": 212,
     "status": "ok",
     "timestamp": 1679260754075,
     "user": {
      "displayName": "Tin Liman",
      "userId": "01796335397974011301"
     },
     "user_tz": 420
    },
    "id": "oNqEanpUVN7j",
    "outputId": "8720394e-f5f7-4ac6-f44c-012aa1a2358e"
   },
   "outputs": [
    {
     "data": {
      "text/html": [
       "\n",
       "  <div id=\"df-9716f544-54e9-467e-97ad-8d480080481a\">\n",
       "    <div class=\"colab-df-container\">\n",
       "      <div>\n",
       "<style scoped>\n",
       "    .dataframe tbody tr th:only-of-type {\n",
       "        vertical-align: middle;\n",
       "    }\n",
       "\n",
       "    .dataframe tbody tr th {\n",
       "        vertical-align: top;\n",
       "    }\n",
       "\n",
       "    .dataframe thead th {\n",
       "        text-align: right;\n",
       "    }\n",
       "</style>\n",
       "<table border=\"1\" class=\"dataframe\">\n",
       "  <thead>\n",
       "    <tr style=\"text-align: right;\">\n",
       "      <th></th>\n",
       "      <th>amt</th>\n",
       "      <th>city_pop</th>\n",
       "      <th>long</th>\n",
       "      <th>lat</th>\n",
       "      <th>is_fraud</th>\n",
       "    </tr>\n",
       "  </thead>\n",
       "  <tbody>\n",
       "    <tr>\n",
       "      <th>amt</th>\n",
       "      <td>1.000000</td>\n",
       "      <td>0.005818</td>\n",
       "      <td>-0.000187</td>\n",
       "      <td>-0.001926</td>\n",
       "      <td>0.219404</td>\n",
       "    </tr>\n",
       "    <tr>\n",
       "      <th>city_pop</th>\n",
       "      <td>0.005818</td>\n",
       "      <td>1.000000</td>\n",
       "      <td>-0.052715</td>\n",
       "      <td>-0.155730</td>\n",
       "      <td>0.002136</td>\n",
       "    </tr>\n",
       "    <tr>\n",
       "      <th>long</th>\n",
       "      <td>-0.000187</td>\n",
       "      <td>-0.052715</td>\n",
       "      <td>1.000000</td>\n",
       "      <td>-0.015533</td>\n",
       "      <td>0.001721</td>\n",
       "    </tr>\n",
       "    <tr>\n",
       "      <th>lat</th>\n",
       "      <td>-0.001926</td>\n",
       "      <td>-0.155730</td>\n",
       "      <td>-0.015533</td>\n",
       "      <td>1.000000</td>\n",
       "      <td>0.001894</td>\n",
       "    </tr>\n",
       "    <tr>\n",
       "      <th>is_fraud</th>\n",
       "      <td>0.219404</td>\n",
       "      <td>0.002136</td>\n",
       "      <td>0.001721</td>\n",
       "      <td>0.001894</td>\n",
       "      <td>1.000000</td>\n",
       "    </tr>\n",
       "  </tbody>\n",
       "</table>\n",
       "</div>\n",
       "      <button class=\"colab-df-convert\" onclick=\"convertToInteractive('df-9716f544-54e9-467e-97ad-8d480080481a')\"\n",
       "              title=\"Convert this dataframe to an interactive table.\"\n",
       "              style=\"display:none;\">\n",
       "        \n",
       "  <svg xmlns=\"http://www.w3.org/2000/svg\" height=\"24px\"viewBox=\"0 0 24 24\"\n",
       "       width=\"24px\">\n",
       "    <path d=\"M0 0h24v24H0V0z\" fill=\"none\"/>\n",
       "    <path d=\"M18.56 5.44l.94 2.06.94-2.06 2.06-.94-2.06-.94-.94-2.06-.94 2.06-2.06.94zm-11 1L8.5 8.5l.94-2.06 2.06-.94-2.06-.94L8.5 2.5l-.94 2.06-2.06.94zm10 10l.94 2.06.94-2.06 2.06-.94-2.06-.94-.94-2.06-.94 2.06-2.06.94z\"/><path d=\"M17.41 7.96l-1.37-1.37c-.4-.4-.92-.59-1.43-.59-.52 0-1.04.2-1.43.59L10.3 9.45l-7.72 7.72c-.78.78-.78 2.05 0 2.83L4 21.41c.39.39.9.59 1.41.59.51 0 1.02-.2 1.41-.59l7.78-7.78 2.81-2.81c.8-.78.8-2.07 0-2.86zM5.41 20L4 18.59l7.72-7.72 1.47 1.35L5.41 20z\"/>\n",
       "  </svg>\n",
       "      </button>\n",
       "      \n",
       "  <style>\n",
       "    .colab-df-container {\n",
       "      display:flex;\n",
       "      flex-wrap:wrap;\n",
       "      gap: 12px;\n",
       "    }\n",
       "\n",
       "    .colab-df-convert {\n",
       "      background-color: #E8F0FE;\n",
       "      border: none;\n",
       "      border-radius: 50%;\n",
       "      cursor: pointer;\n",
       "      display: none;\n",
       "      fill: #1967D2;\n",
       "      height: 32px;\n",
       "      padding: 0 0 0 0;\n",
       "      width: 32px;\n",
       "    }\n",
       "\n",
       "    .colab-df-convert:hover {\n",
       "      background-color: #E2EBFA;\n",
       "      box-shadow: 0px 1px 2px rgba(60, 64, 67, 0.3), 0px 1px 3px 1px rgba(60, 64, 67, 0.15);\n",
       "      fill: #174EA6;\n",
       "    }\n",
       "\n",
       "    [theme=dark] .colab-df-convert {\n",
       "      background-color: #3B4455;\n",
       "      fill: #D2E3FC;\n",
       "    }\n",
       "\n",
       "    [theme=dark] .colab-df-convert:hover {\n",
       "      background-color: #434B5C;\n",
       "      box-shadow: 0px 1px 3px 1px rgba(0, 0, 0, 0.15);\n",
       "      filter: drop-shadow(0px 1px 2px rgba(0, 0, 0, 0.3));\n",
       "      fill: #FFFFFF;\n",
       "    }\n",
       "  </style>\n",
       "\n",
       "      <script>\n",
       "        const buttonEl =\n",
       "          document.querySelector('#df-9716f544-54e9-467e-97ad-8d480080481a button.colab-df-convert');\n",
       "        buttonEl.style.display =\n",
       "          google.colab.kernel.accessAllowed ? 'block' : 'none';\n",
       "\n",
       "        async function convertToInteractive(key) {\n",
       "          const element = document.querySelector('#df-9716f544-54e9-467e-97ad-8d480080481a');\n",
       "          const dataTable =\n",
       "            await google.colab.kernel.invokeFunction('convertToInteractive',\n",
       "                                                     [key], {});\n",
       "          if (!dataTable) return;\n",
       "\n",
       "          const docLinkHtml = 'Like what you see? Visit the ' +\n",
       "            '<a target=\"_blank\" href=https://colab.research.google.com/notebooks/data_table.ipynb>data table notebook</a>'\n",
       "            + ' to learn more about interactive tables.';\n",
       "          element.innerHTML = '';\n",
       "          dataTable['output_type'] = 'display_data';\n",
       "          await google.colab.output.renderOutput(dataTable, element);\n",
       "          const docLink = document.createElement('div');\n",
       "          docLink.innerHTML = docLinkHtml;\n",
       "          element.appendChild(docLink);\n",
       "        }\n",
       "      </script>\n",
       "    </div>\n",
       "  </div>\n",
       "  "
      ],
      "text/plain": [
       "               amt  city_pop      long       lat  is_fraud\n",
       "amt       1.000000  0.005818 -0.000187 -0.001926  0.219404\n",
       "city_pop  0.005818  1.000000 -0.052715 -0.155730  0.002136\n",
       "long     -0.000187 -0.052715  1.000000 -0.015533  0.001721\n",
       "lat      -0.001926 -0.155730 -0.015533  1.000000  0.001894\n",
       "is_fraud  0.219404  0.002136  0.001721  0.001894  1.000000"
      ]
     },
     "execution_count": 18,
     "metadata": {},
     "output_type": "execute_result"
    }
   ],
   "source": [
    "cols_df.corr()"
   ]
  },
  {
   "cell_type": "code",
   "execution_count": null,
   "metadata": {
    "colab": {
     "base_uri": "https://localhost:8080/",
     "height": 394
    },
    "executionInfo": {
     "elapsed": 943,
     "status": "ok",
     "timestamp": 1679260758787,
     "user": {
      "displayName": "Tin Liman",
      "userId": "01796335397974011301"
     },
     "user_tz": 420
    },
    "id": "gzz9RzNO4Nya",
    "outputId": "ed561f36-ed42-423a-b11d-85aecd28c1f7"
   },
   "outputs": [
    {
     "data": {
      "image/png": "[encoded data removed]",
      "text/plain": [
       "<Figure size 1296x432 with 2 Axes>"
      ]
     },
     "metadata": {
      "needs_background": "light"
     },
     "output_type": "display_data"
    }
   ],
   "source": [
    "sns.heatmap(cols_df.corr(),cbar=True,annot=True,cmap='Blues').set(title='Correlation on Fraud Charges');"
   ]
  },
  {
   "cell_type": "markdown",
   "metadata": {
    "id": "NDF-l8bxS_Z1"
   },
   "source": [
    "**Insights:**\n",
    "\n",
    "Seems like there are some correlations between city population, the amount and the location that people use the credit cards for. There is a way to detect the fraud charges using anomaly pratice.\n",
    "\n",
    "What can be an anomaly?\n",
    "\n",
    "* A sudden increase in spending\n",
    "\n",
    "* Purchase of a large ticket item\n",
    "\n",
    "* A series of rapid transactions\n",
    "\n",
    "* Multiple transactions with the same merchant\n",
    "\n",
    "* Transactions that originate in an unusual location or foreign country\n",
    "\n",
    "* Transactions that occur at unusual times.\n"
   ]
  },
  {
   "cell_type": "markdown",
   "metadata": {
    "id": "BtSzOxCaBJ8r"
   },
   "source": [
    "## Summary and Conclusion"
   ]
  },
  {
   "cell_type": "markdown",
   "metadata": {
    "id": "Etjgts-DHiFN"
   },
   "source": [
    "Advantages of Using EDA\n",
    "\n",
    "Here are a few advantages of using Exploratory Data Analysis - \n",
    "\n",
    "* Credit card fraud detection is the process of identifying purchase attempts that are fraudulent and rejecting them rather than processing the order. \n",
    "\n",
    "\n",
    "* Payment cards are easy to use because you only need to transmit a few simple numbers to the bank in order to identify your account and authorize the transaction.\n",
    "    \n",
    "    \n",
    "    \n",
    "* In order to limit the amount of revenue they lose to fraud, it's important for all merchants to have effective fraud detection measures in place. \n",
    "\n",
    "\n",
    "\n",
    "* This usually means employing a combination of different tools, from common checks on cardholder information to advanced risk scoring algorithms.\n",
    "\n",
    "\n",
    "\n",
    "* Credit card fraud costs the global economy more than $24 billion per year, and the numbers keep going up. Smaller merchants suffer the most from the impact of fraud, and that’s why it’s so important to have tools and practices in place to detect fraud in its early stages."
   ]
  },
  {
   "cell_type": "markdown",
   "metadata": {
    "id": "XE08nNIAG4Zo"
   },
   "source": [
    "## Future Work"
   ]
  },
  {
   "cell_type": "markdown",
   "metadata": {
    "id": "HqL7_uXUHmMq"
   },
   "source": [
    "Better Preprocess Data to Save Time EDA can assist data analysts in identifying significant mistakes, abnormalities, or missing values in the existing dataset. Handling the above entities is critical for any organization before beginning a full study as it ensures correct preprocessing of data and may help save a significant amount of time by avoiding mistakes later when applying machine learning models.\n",
    "\n",
    "**Predictive modeling**\n",
    "\n",
    "In addition to finding anomalies within a specific user account, ML models and predictive analytics can also be used to track and identify fraud patterns or point to an ongoing, nuanced fraud scheme. Predictive modeling is an important capability since cybercriminals are constantly updating their techniques to evade detection by existing tools and methods.  \n",
    "\n",
    "\n",
    "* Planning to do model building to train and test the dataset as follows:\n",
    "1. Decision Tree\n",
    "2. KNN\n",
    "3. SVM\n",
    "4. Random Forest\n",
    "5. Logestic Regression\n",
    "6. Adaboost\n",
    "\n"
   ]
  },
  {
   "cell_type": "markdown",
   "metadata": {
    "id": "zWzLCdj-Gw71"
   },
   "source": [
    "## References "
   ]
  },
  {
   "cell_type": "markdown",
   "metadata": {
    "id": "s7n6HwfpGw71"
   },
   "source": [
    "* Kaggle Dataset: https://www.kaggle.com/datasets/kartik2112/fraud-detection\n",
    "* Pandas Library and Tutorials: https://pandas.pydata.org/pandas-docs/version/0.15/tutorials.html\n",
    "* Numpy documentation and Tutorials: https://numpy.org/doc/stable/user/quickstart.html\n",
    "* Matplotlib Tutorials:https://matplotlib.org/stable/tutorials/index.html\n",
    "* Seaborn User guide and Tutorials:https://seaborn.pydata.org/tutorial.html\n",
    "* EDA project tutorial guide : https://www.digitalocean.com/community/tutorials/exploratory-data-analysis-python\n",
    "* Data Visualization techniques: https://www.analyticssteps.com/blogs/data-visualization-techniques"
   ]
  },
  {
   "cell_type": "code",
   "execution_count": 39,
   "metadata": {
    "colab": {
     "base_uri": "https://localhost:8080/"
    },
    "executionInfo": {
     "elapsed": 171,
     "status": "ok",
     "timestamp": 1679373489285,
     "user": {
      "displayName": "Tin Liman",
      "userId": "01796335397974011301"
     },
     "user_tz": 420
    },
    "id": "CNaVE4vjGw71",
    "outputId": "95f2249c-55ce-494e-8f0c-569ee58cdfbd"
   },
   "outputs": [
    {
     "name": "stdout",
     "output_type": "stream",
     "text": [
      "[jovian] Detected Colab notebook...\u001b[0m\n",
      "[jovian] jovian.commit() is no longer required on Google Colab. If you ran this notebook from Jovian, \n",
      "then just save this file in Colab using Ctrl+S/Cmd+S and it will be updated on Jovian. \n",
      "Also, you can also delete this cell, it's no longer necessary.\u001b[0m\n"
     ]
    }
   ],
   "source": [
    "jovian.commit()"
   ]
  },
  {
   "cell_type": "code",
   "execution_count": null,
   "metadata": {
    "id": "_YttlUIrUHR8"
   },
   "outputs": [],
   "source": []
  }
 ],
 "metadata": {
  "colab": {
   "provenance": []
  },
  "language_info": {
   "codemirror_mode": {
    "name": "ipython",
    "version": 3
   },
   "file_extension": ".py",
   "mimetype": "text/x-python",
   "name": "python",
   "nbconvert_exporter": "python",
   "pygments_lexer": "ipython3",
   "version": "3.9.7"
  }
 },
 "nbformat": 4,
 "nbformat_minor": 0
}